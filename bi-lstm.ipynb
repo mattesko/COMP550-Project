{
 "cells": [
  {
   "cell_type": "code",
   "execution_count": 1,
   "metadata": {},
   "outputs": [
    {
     "name": "stderr",
     "output_type": "stream",
     "text": [
      "C:\\Anaconda\\lib\\site-packages\\tensorflow\\python\\framework\\dtypes.py:523: FutureWarning: Passing (type, 1) or '1type' as a synonym of type is deprecated; in a future version of numpy, it will be understood as (type, (1,)) / '(1,)type'.\n",
      "  _np_qint8 = np.dtype([(\"qint8\", np.int8, 1)])\n",
      "C:\\Anaconda\\lib\\site-packages\\tensorflow\\python\\framework\\dtypes.py:524: FutureWarning: Passing (type, 1) or '1type' as a synonym of type is deprecated; in a future version of numpy, it will be understood as (type, (1,)) / '(1,)type'.\n",
      "  _np_quint8 = np.dtype([(\"quint8\", np.uint8, 1)])\n",
      "C:\\Anaconda\\lib\\site-packages\\tensorflow\\python\\framework\\dtypes.py:525: FutureWarning: Passing (type, 1) or '1type' as a synonym of type is deprecated; in a future version of numpy, it will be understood as (type, (1,)) / '(1,)type'.\n",
      "  _np_qint16 = np.dtype([(\"qint16\", np.int16, 1)])\n",
      "C:\\Anaconda\\lib\\site-packages\\tensorflow\\python\\framework\\dtypes.py:526: FutureWarning: Passing (type, 1) or '1type' as a synonym of type is deprecated; in a future version of numpy, it will be understood as (type, (1,)) / '(1,)type'.\n",
      "  _np_quint16 = np.dtype([(\"quint16\", np.uint16, 1)])\n",
      "C:\\Anaconda\\lib\\site-packages\\tensorflow\\python\\framework\\dtypes.py:527: FutureWarning: Passing (type, 1) or '1type' as a synonym of type is deprecated; in a future version of numpy, it will be understood as (type, (1,)) / '(1,)type'.\n",
      "  _np_qint32 = np.dtype([(\"qint32\", np.int32, 1)])\n",
      "C:\\Anaconda\\lib\\site-packages\\tensorflow\\python\\framework\\dtypes.py:532: FutureWarning: Passing (type, 1) or '1type' as a synonym of type is deprecated; in a future version of numpy, it will be understood as (type, (1,)) / '(1,)type'.\n",
      "  np_resource = np.dtype([(\"resource\", np.ubyte, 1)])\n",
      "C:\\Anaconda\\lib\\site-packages\\h5py\\__init__.py:36: FutureWarning: Conversion of the second argument of issubdtype from `float` to `np.floating` is deprecated. In future, it will be treated as `np.float64 == np.dtype(float).type`.\n",
      "  from ._conv import register_converters as _register_converters\n"
     ]
    }
   ],
   "source": [
    "import sklearn as sk\n",
    "import numpy as np\n",
    "import pandas as pd\n",
    "import os\n",
    "\n",
    "from nltk.stem import PorterStemmer, WordNetLemmatizer\n",
    "from nltk.tokenize import sent_tokenize, word_tokenize\n",
    "from nltk.corpus import stopwords, wordnet\n",
    "\n",
    "from sklearn.feature_extraction.text import CountVectorizer\n",
    "from sklearn.linear_model import LogisticRegression\n",
    "from sklearn import svm\n",
    "from sklearn.naive_bayes import MultinomialNB\n",
    "from sklearn.metrics import confusion_matrix\n",
    "\n",
    "from preprocessing import preprocess, create_dataframe_for_training\n",
    "import re\n",
    "from tensorflow.keras.preprocessing.text import Tokenizer\n",
    "from tensorflow.keras.preprocessing.sequence import pad_sequences\n",
    "from tensorflow.keras.models import Sequential, Model\n",
    "from tensorflow.keras.layers import Dense, Embedding, LSTM, SpatialDropout1D, Bidirectional, Dropout, Concatenate, concatenate, Input\n",
    "from tensorflow.keras.callbacks import EarlyStopping\n",
    "from tensorflow.keras.layers import Dropout\n",
    "from sklearn.model_selection import train_test_split\n",
    "\n",
    "from warnings import simplefilter\n",
    "simplefilter(action='ignore', category=FutureWarning)\n",
    "\n",
    "seed = 123\n",
    "np.random.seed(seed)\n",
    "\n",
    "PREPROCESSING = False\n",
    "REMOVE_STOP_WORDS = False\n",
    "THRESHOLD_INFREQUENT_WORDS = 0.01"
   ]
  },
  {
   "cell_type": "code",
   "execution_count": 2,
   "metadata": {},
   "outputs": [],
   "source": [
    "PROJECT_DIR = os.getcwd()\n",
    "DATA_DIR = os.path.join(PROJECT_DIR, 'data')\n",
    "DATA_FILEPATH = os.path.join(DATA_DIR, 'metadata_articles_dataframe.pkl')\n",
    "\n",
    "data = pd.read_pickle(DATA_FILEPATH)\n",
    "#data = data[:1000]\n",
    "\n",
    "# X_train, y_train = data[data[\"fold\"]==\"train\"].drop(columns=\"label\"), data[data[\"fold\"]==\"train\"][\"label\"]\n",
    "# X_dev, y_dev = data[data[\"fold\"]==\"development\"].drop(columns=\"label\"), data[data[\"fold\"]==\"development\"][\"label\"]\n",
    "# X_test, y_test = data[data[\"fold\"]==\"test\"].drop(columns=\"label\"), data[data[\"fold\"]==\"test\"][\"label\"]\n",
    "\n",
    "# print(\"Training size: \" + str(X_train.shape[0]))\n",
    "# print(\"Development size: \" + str(X_dev.shape[0]))\n",
    "# print(\"Testing size: \" + str(X_test.shape[0]))\n",
    "\n",
    "\n",
    "# def generate_feature_matrix(X_train, X_dev, X_test, preprocessing=False, remove_stopwords=False, min_df=1):\n",
    "#     if preprocessing:\n",
    "#         X_train = preprocess(X_train, remove_stopwords)\n",
    "#         X_dev = preprocess(X_dev, remove_stopwords)\n",
    "#         X_test = preprocess(X_test, remove_stopwords)\n",
    "\n",
    "#     X_train = create_dataframe_for_training(X_train)\n",
    "#     X_dev = create_dataframe_for_training(X_dev)\n",
    "#     X_test = create_dataframe_for_training(X_test)\n",
    "\n",
    "#     vectorizer = CountVectorizer(min_df=min_df)\n",
    "#     X_train_fe = vectorizer.fit_transform(X_train)\n",
    "#     X_valid_fe = vectorizer.transform(X_dev)\n",
    "#     X_test_fe = vectorizer.transform(X_test)\n",
    "\n",
    "#     return X_train_fe.toarray(), X_valid_fe.toarray(), X_test_fe.toarray()\n",
    "\n",
    "\n",
    "# X_train_fe, X_dev_fe, X_test_fe = generate_feature_matrix(X_train, X_dev, X_test,\n",
    "#                                                           preprocessing=PREPROCESSING,\n",
    "#                                                           remove_stopwords=REMOVE_STOP_WORDS,\n",
    "#                                                           min_df=THRESHOLD_INFREQUENT_WORDS)\n",
    "# X_modeling, y_modeling = np.append(X_train_fe, X_dev_fe, axis=0), np.append(y_train, y_dev, axis=0)\n",
    "\n",
    "# print(\"Training feature matrix shape: \" + str(X_train_fe.shape))\n",
    "# print(\"Development feature matrix shape: \" + str(X_dev_fe.shape))\n",
    "# print(\"Testing feature matrix shape: \" + str(X_test_fe.shape))"
   ]
  },
  {
   "cell_type": "code",
   "execution_count": 3,
   "metadata": {},
   "outputs": [],
   "source": [
    "df = data.reset_index(drop=True)\n",
    "REPLACE_BY_SPACE_RE = re.compile('[/(){}\\[\\]\\|@,;]')\n",
    "BAD_SYMBOLS_RE = re.compile('[^0-9a-z #+_]')\n",
    "STOPWORDS = set(stopwords.words('english'))\n",
    "\n",
    "def clean_text(text):\n",
    "    \"\"\"\n",
    "        text: a string\n",
    "        \n",
    "        return: modified initial string\n",
    "    \"\"\"\n",
    "    text = text.lower() # lowercase text\n",
    "    text = REPLACE_BY_SPACE_RE.sub(' ', text) # replace REPLACE_BY_SPACE_RE symbols by space in text. substitute the matched string in REPLACE_BY_SPACE_RE with space.\n",
    "    text = BAD_SYMBOLS_RE.sub('', text) # remove symbols which are in BAD_SYMBOLS_RE from text. substitute the matched string in BAD_SYMBOLS_RE with nothing. \n",
    "    text = text.replace('x', '')\n",
    "#    text = re.sub(r'\\W+', '', text)\n",
    "    text = ' '.join(word for word in text.split() if word not in STOPWORDS) # remove stopwors from text\n",
    "    return text\n",
    "\n",
    "df['article_content'] = df['article_content'].apply(clean_text)\n",
    "df['article_content'] = df['article_content'].str.replace('\\d+', '')\n",
    "\n",
    "df['claim'] = df['claim'].apply(clean_text)\n",
    "df['claim'] = df['claim'].str.replace('\\d+', '')\n",
    "\n",
    "df.loc[df['claimant'] == \"\", \"claimant\"] = \"unknown\"\n",
    "df[\"num_related_articles\"] = df[\"related_articles\"].apply(lambda x: len(x))\n",
    "df['num_date'] = pd.to_numeric(df['date'].dt.strftime(\"%Y%m%d\"))"
   ]
  },
  {
   "cell_type": "code",
   "execution_count": 4,
   "metadata": {},
   "outputs": [
    {
     "data": {
      "text/html": [
       "<div>\n",
       "<style scoped>\n",
       "    .dataframe tbody tr th:only-of-type {\n",
       "        vertical-align: middle;\n",
       "    }\n",
       "\n",
       "    .dataframe tbody tr th {\n",
       "        vertical-align: top;\n",
       "    }\n",
       "\n",
       "    .dataframe thead th {\n",
       "        text-align: right;\n",
       "    }\n",
       "</style>\n",
       "<table border=\"1\" class=\"dataframe\">\n",
       "  <thead>\n",
       "    <tr style=\"text-align: right;\">\n",
       "      <th></th>\n",
       "      <th>index</th>\n",
       "      <th>id</th>\n",
       "      <th>claim</th>\n",
       "      <th>claimant</th>\n",
       "      <th>date</th>\n",
       "      <th>label</th>\n",
       "      <th>related_articles</th>\n",
       "      <th>fold</th>\n",
       "      <th>article_content</th>\n",
       "      <th>num_related_articles</th>\n",
       "      <th>num_date</th>\n",
       "    </tr>\n",
       "  </thead>\n",
       "  <tbody>\n",
       "    <tr>\n",
       "      <th>0</th>\n",
       "      <td>0</td>\n",
       "      <td>0</td>\n",
       "      <td>line george orwells novel  predicts power smar...</td>\n",
       "      <td>unknown</td>\n",
       "      <td>2017-07-17</td>\n",
       "      <td>0</td>\n",
       "      <td>[122094, 122580, 130685, 134765]</td>\n",
       "      <td>train</td>\n",
       "      <td>george orwell predicted  almost  years agoapr...</td>\n",
       "      <td>4</td>\n",
       "      <td>20170717</td>\n",
       "    </tr>\n",
       "    <tr>\n",
       "      <th>1</th>\n",
       "      <td>1</td>\n",
       "      <td>1</td>\n",
       "      <td>maine legislature candidate leslie gibson insu...</td>\n",
       "      <td>unknown</td>\n",
       "      <td>2018-03-17</td>\n",
       "      <td>2</td>\n",
       "      <td>[106868, 127320, 128060]</td>\n",
       "      <td>development</td>\n",
       "      <td>republican criticized parkland students drops ...</td>\n",
       "      <td>3</td>\n",
       "      <td>20180317</td>\n",
       "    </tr>\n",
       "    <tr>\n",
       "      <th>2</th>\n",
       "      <td>2</td>\n",
       "      <td>4</td>\n",
       "      <td>yearold girl named alyssa carson trained nasa ...</td>\n",
       "      <td>unknown</td>\n",
       "      <td>2018-07-18</td>\n",
       "      <td>1</td>\n",
       "      <td>[132130, 132132, 149722]</td>\n",
       "      <td>train</td>\n",
       "      <td>first person complete nasas passport program a...</td>\n",
       "      <td>3</td>\n",
       "      <td>20180718</td>\n",
       "    </tr>\n",
       "    <tr>\n",
       "      <th>3</th>\n",
       "      <td>3</td>\n",
       "      <td>5</td>\n",
       "      <td>author roald dahl penned open letter urging p...</td>\n",
       "      <td>unknown</td>\n",
       "      <td>2019-02-04</td>\n",
       "      <td>2</td>\n",
       "      <td>[123254, 123418, 127464]</td>\n",
       "      <td>train</td>\n",
       "      <td>dangerous measles tweet march many parents thi...</td>\n",
       "      <td>3</td>\n",
       "      <td>20190204</td>\n",
       "    </tr>\n",
       "    <tr>\n",
       "      <th>4</th>\n",
       "      <td>4</td>\n",
       "      <td>6</td>\n",
       "      <td>comes fighting terrorism another thing know wo...</td>\n",
       "      <td>Hillary Clinton</td>\n",
       "      <td>2016-03-22</td>\n",
       "      <td>2</td>\n",
       "      <td>[41099, 89899, 72543, 82644, 95344, 88361]</td>\n",
       "      <td>train</td>\n",
       "      <td>remarks counterterrorism stanford universitysl...</td>\n",
       "      <td>6</td>\n",
       "      <td>20160322</td>\n",
       "    </tr>\n",
       "  </tbody>\n",
       "</table>\n",
       "</div>"
      ],
      "text/plain": [
       "   index  id                                              claim  \\\n",
       "0      0   0  line george orwells novel  predicts power smar...   \n",
       "1      1   1  maine legislature candidate leslie gibson insu...   \n",
       "2      2   4  yearold girl named alyssa carson trained nasa ...   \n",
       "3      3   5   author roald dahl penned open letter urging p...   \n",
       "4      4   6  comes fighting terrorism another thing know wo...   \n",
       "\n",
       "          claimant       date  label  \\\n",
       "0          unknown 2017-07-17      0   \n",
       "1          unknown 2018-03-17      2   \n",
       "2          unknown 2018-07-18      1   \n",
       "3          unknown 2019-02-04      2   \n",
       "4  Hillary Clinton 2016-03-22      2   \n",
       "\n",
       "                             related_articles         fold  \\\n",
       "0            [122094, 122580, 130685, 134765]        train   \n",
       "1                    [106868, 127320, 128060]  development   \n",
       "2                    [132130, 132132, 149722]        train   \n",
       "3                    [123254, 123418, 127464]        train   \n",
       "4  [41099, 89899, 72543, 82644, 95344, 88361]        train   \n",
       "\n",
       "                                     article_content  num_related_articles  \\\n",
       "0   george orwell predicted  almost  years agoapr...                     4   \n",
       "1  republican criticized parkland students drops ...                     3   \n",
       "2  first person complete nasas passport program a...                     3   \n",
       "3  dangerous measles tweet march many parents thi...                     3   \n",
       "4  remarks counterterrorism stanford universitysl...                     6   \n",
       "\n",
       "   num_date  \n",
       "0  20170717  \n",
       "1  20180317  \n",
       "2  20180718  \n",
       "3  20190204  \n",
       "4  20160322  "
      ]
     },
     "execution_count": 4,
     "metadata": {},
     "output_type": "execute_result"
    }
   ],
   "source": [
    "df.head()"
   ]
  },
  {
   "cell_type": "code",
   "execution_count": 5,
   "metadata": {},
   "outputs": [
    {
     "name": "stdout",
     "output_type": "stream",
     "text": [
      "Found 1131145 unique tokens.\n",
      "Shape of data tensor: (15555, 5107)\n"
     ]
    }
   ],
   "source": [
    "# The maximum number of words to be used. (most frequent)\n",
    "MAX_NB_WORDS = 15000\n",
    "# Max N words in each complaint.\n",
    "MAX_SEQUENCE_LENGTH = 1000\n",
    "\n",
    "EMBEDDING_DIM = 100\n",
    "\n",
    "tokenizer = Tokenizer(num_words=MAX_NB_WORDS, filters='!\"#$%&()*+,-./:;<=>?@[\\]^_`{|}~', lower=True)\n",
    "tokenizer.fit_on_texts(df['article_content'].values)\n",
    "word_index = tokenizer.word_index\n",
    "print('Found %s unique tokens.' % len(word_index))\n",
    "\n",
    "X = tokenizer.texts_to_sequences(df['article_content'].values)\n",
    "X_article = pad_sequences(X, maxlen=MAX_SEQUENCE_LENGTH)\n",
    "X = tokenizer.texts_to_sequences(df['claim'].values)\n",
    "X_claim = pad_sequences(X, maxlen=MAX_SEQUENCE_LENGTH)\n",
    "X_num_articles = df[\"num_related_articles\"].to_numpy().reshape(-1,1)\n",
    "X_claimant = pd.get_dummies(df['claimant']).values\n",
    "X_date = df[\"num_date\"].to_numpy().reshape(-1,1)\n",
    "\n",
    "X_numeric = np.concatenate((X_num_articles, X_claimant, X_date), axis=1)\n",
    "X_final = np.concatenate((X_article, X_claim, X_num_articles, X_claimant, X_date), axis=1)\n",
    "print('Shape of data tensor:', X_final.shape)"
   ]
  },
  {
   "cell_type": "code",
   "execution_count": 6,
   "metadata": {},
   "outputs": [
    {
     "name": "stdout",
     "output_type": "stream",
     "text": [
      "Shape of label tensor: (15555, 3)\n"
     ]
    }
   ],
   "source": [
    "Y = pd.get_dummies(df['label']).values\n",
    "print('Shape of label tensor:', Y.shape)"
   ]
  },
  {
   "cell_type": "code",
   "execution_count": 7,
   "metadata": {},
   "outputs": [],
   "source": [
    "modeling_idx = np.where(np.logical_or(data[\"fold\"] == \"train\", data[\"fold\"] == \"development\"))\n",
    "#dev_idx = np.where(data[\"fold\"] == \"development\")\n",
    "test_idx = np.where(data[\"fold\"] == \"test\")"
   ]
  },
  {
   "cell_type": "code",
   "execution_count": 8,
   "metadata": {},
   "outputs": [],
   "source": [
    "# define the sets of inputs\n",
    "numeric_input = Input(shape=(X_numeric.shape[1],))\n",
    "claim = Input(shape=(X_claim.shape[1],))\n",
    "article = Input(shape=(X_article.shape[1],))\n",
    "  \n",
    "y = Embedding(MAX_NB_WORDS, EMBEDDING_DIM, input_length=X_claim.shape[1])(claim)\n",
    "z = Embedding(MAX_NB_WORDS, EMBEDDING_DIM, input_length=X_article.shape[1])(article)\n",
    "\n",
    "combined_bilstm = concatenate([y, z])\n",
    "combined_bilstm = SpatialDropout1D(0.4)(combined_bilstm)\n",
    "combined_bilstm = Bidirectional(LSTM(64))(combined_bilstm)\n",
    "combined_bilstm = Dropout(0.5)(combined_bilstm)\n",
    "combined_bilstm = Dense(9, activation='relu')(combined_bilstm)\n",
    "\n",
    "numeric_feat = Dense(64, activation=\"relu\")(numeric_input)\n",
    "numeric_feat = Dense(3, activation=\"softmax\")(numeric_feat)\n",
    "\n",
    "final_model = concatenate([numeric_feat, combined_bilstm])\n",
    "final_model = Dense(3, activation='softmax')(final_model)\n",
    "\n",
    "model = Model(inputs=[numeric_input, claim, article], outputs=final_model)"
   ]
  },
  {
   "cell_type": "code",
   "execution_count": 9,
   "metadata": {},
   "outputs": [
    {
     "name": "stdout",
     "output_type": "stream",
     "text": [
      "Train...\n"
     ]
    },
    {
     "name": "stderr",
     "output_type": "stream",
     "text": [
      "C:\\Anaconda\\lib\\site-packages\\tensorflow\\python\\ops\\gradients_impl.py:108: UserWarning: Converting sparse IndexedSlices to a dense Tensor of unknown shape. This may consume a large amount of memory.\n",
      "  \"Converting sparse IndexedSlices to a dense Tensor of unknown shape. \"\n"
     ]
    },
    {
     "name": "stdout",
     "output_type": "stream",
     "text": [
      "Train on 13222 samples, validate on 2333 samples\n",
      "Epoch 1/8\n",
      "13222/13222 [==============================] - 866s 65ms/step - loss: 1.0085 - acc: 0.4552 - val_loss: 0.9534 - val_acc: 0.4848\n",
      "Epoch 2/8\n",
      "13222/13222 [==============================] - 1041s 79ms/step - loss: 0.9682 - acc: 0.4672 - val_loss: 0.9527 - val_acc: 0.4826\n",
      "Epoch 3/8\n",
      "13222/13222 [==============================] - 1175s 89ms/step - loss: 0.9645 - acc: 0.4689 - val_loss: 0.9518 - val_acc: 0.4839\n",
      "Epoch 4/8\n",
      "13222/13222 [==============================] - 1335s 101ms/step - loss: 0.9634 - acc: 0.4713 - val_loss: 0.9507 - val_acc: 0.4869\n",
      "Epoch 5/8\n",
      "13222/13222 [==============================] - 1462s 111ms/step - loss: 0.9605 - acc: 0.4865 - val_loss: 0.9495 - val_acc: 0.4869\n",
      "Epoch 6/8\n",
      "13222/13222 [==============================] - 1570s 119ms/step - loss: 0.9580 - acc: 0.4850 - val_loss: 0.9490 - val_acc: 0.4839\n",
      "Epoch 7/8\n",
      "13222/13222 [==============================] - 1801s 136ms/step - loss: 0.9545 - acc: 0.4912 - val_loss: 0.9461 - val_acc: 0.4921\n",
      "Epoch 8/8\n",
      "13222/13222 [==============================] - 1980s 150ms/step - loss: 0.9517 - acc: 0.4966 - val_loss: 0.9462 - val_acc: 0.4874\n"
     ]
    }
   ],
   "source": [
    "epochs = 8\n",
    "batch_size = 512\n",
    "\n",
    "# try using different optimizers and different optimizer configs\n",
    "model.compile(loss='categorical_crossentropy', optimizer='adam', metrics=['accuracy'])\n",
    "\n",
    "print('Train...')\n",
    "history = model.fit([X_numeric[modeling_idx], X_claim[modeling_idx], X_article[modeling_idx]], Y[modeling_idx], epochs=epochs, batch_size=batch_size,validation_data=([X_numeric[test_idx], X_claim[test_idx], X_article[test_idx]], Y[test_idx]) ,callbacks=[EarlyStopping(monitor='val_loss', patience=3, min_delta=0.0001)])"
   ]
  },
  {
   "cell_type": "code",
   "execution_count": 13,
   "metadata": {},
   "outputs": [
    {
     "data": {
      "image/png": "[encoded data removed]",
      "text/plain": [
       "<Figure size 432x288 with 1 Axes>"
      ]
     },
     "metadata": {
      "needs_background": "light"
     },
     "output_type": "display_data"
    }
   ],
   "source": [
    "import matplotlib.pyplot as plt\n",
    "\n",
    "plt.title('Loss')\n",
    "plt.plot(history.history['loss'], label='train')\n",
    "plt.plot(history.history['val_loss'], label='test')\n",
    "plt.legend()\n",
    "plt.show()"
   ]
  },
  {
   "cell_type": "code",
   "execution_count": 14,
   "metadata": {},
   "outputs": [
    {
     "data": {
      "image/png": "[encoded data removed]",
      "text/plain": [
       "<Figure size 432x288 with 1 Axes>"
      ]
     },
     "metadata": {
      "needs_background": "light"
     },
     "output_type": "display_data"
    }
   ],
   "source": [
    "plt.title('Accuracy')\n",
    "plt.plot(history.history['acc'], label='train')\n",
    "plt.plot(history.history['val_acc'], label='test')\n",
    "plt.legend()\n",
    "plt.show()"
   ]
  },
  {
   "cell_type": "code",
   "execution_count": 12,
   "metadata": {},
   "outputs": [],
   "source": [
    "pred = model.predict([X_numeric[test_idx], X_claim[test_idx], X_article[test_idx]])\n",
    "\n",
    "pred_class = np.argmax(pred, axis=1)\n",
    "pd.DataFrame(pred_class).to_pickle(os.path.join(PROJECT_DIR, \"predictions\\\\predictions_bilstm.pkl\"))"
   ]
  }
 ],
 "metadata": {
  "kernelspec": {
   "display_name": "Python 3",
   "language": "python",
   "name": "python3"
  },
  "language_info": {
   "codemirror_mode": {
    "name": "ipython",
    "version": 3
   },
   "file_extension": ".py",
   "mimetype": "text/x-python",
   "name": "python",
   "nbconvert_exporter": "python",
   "pygments_lexer": "ipython3",
   "version": "3.6.7"
  }
 },
 "nbformat": 4,
 "nbformat_minor": 2
}
