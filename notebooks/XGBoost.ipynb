{
  "nbformat": 4,
  "nbformat_minor": 0,
  "metadata": {
    "colab": {
      "name": "XGBoost.ipynb",
      "provenance": [],
      "collapsed_sections": []
    },
    "kernelspec": {
      "name": "python3",
      "display_name": "Python 3"
    },
    "accelerator": "GPU"
  },
  "cells": [
    {
      "cell_type": "code",
      "metadata": {
        "id": "ptRpQWXeFqVq",
        "colab_type": "code",
        "outputId": "9f77a3b5-9353-457c-871a-d84b004507d9",
        "colab": {
          "base_uri": "https://localhost:8080/",
          "height": 122
        }
      },
      "source": [
        "# For running in a google colaborator notebook instance\n",
        "from google.colab import drive\n",
        "drive.mount('/content/drive')"
      ],
      "execution_count": 1,
      "outputs": [
        {
          "output_type": "stream",
          "text": [
            "Go to this URL in a browser: https://accounts.google.com/o/oauth2/auth?client_id=947318989803-6bn6qk8qdgf4n4g3pfee6491hc0brc4i.apps.googleusercontent.com&redirect_uri=urn%3aietf%3awg%3aoauth%3a2.0%3aoob&response_type=code&scope=email%20https%3a%2f%2fwww.googleapis.com%2fauth%2fdocs.test%20https%3a%2f%2fwww.googleapis.com%2fauth%2fdrive%20https%3a%2f%2fwww.googleapis.com%2fauth%2fdrive.photos.readonly%20https%3a%2f%2fwww.googleapis.com%2fauth%2fpeopleapi.readonly\n",
            "\n",
            "Enter your authorization code:\n",
            "··········\n",
            "Mounted at /content/drive\n"
          ],
          "name": "stdout"
        }
      ]
    },
    {
      "cell_type": "code",
      "metadata": {
        "id": "rWIcIKZuuT9X",
        "colab_type": "code",
        "colab": {}
      },
      "source": [
        "import os\n",
        "\n",
        "from tqdm import tqdm\n",
        "import pandas as pd\n",
        "from xgboost import XGBClassifier\n",
        "from sklearn.model_selection import train_test_split, GridSearchCV\n",
        "from sklearn.metrics import classification_report\n",
        "from sklearn.pipeline import Pipeline\n",
        "from sklearn import preprocessing\n",
        "from sklearn.feature_extraction import text\n",
        "from sklearn.metrics import classification_report, f1_score"
      ],
      "execution_count": 0,
      "outputs": []
    },
    {
      "cell_type": "code",
      "metadata": {
        "id": "5Rpq05pdurOK",
        "colab_type": "code",
        "colab": {}
      },
      "source": [
        "PROJECT_DIR = '/content/drive/My Drive/Colab Notebooks/COMP550'\n",
        "DATA_FILEPATH = os.path.join(PROJECT_DIR, 'metadata_articles_dataframe.pkl')\n",
        "\n",
        "def create_dataframe_for_training(data):\n",
        "    \"\"\"Creates a dataframe for training by concatenating claimant, claim and article content and\n",
        "    copying labels to a new dataframe\"\"\"\n",
        "    feature_column_name = 'X'\n",
        "    data_cp = data[['label']].copy()\n",
        "    for i, row in tqdm(data.iterrows(), total=len(data)):\n",
        "        all_features = f'{row.claimant} {row.claim} {row.article_content}'\n",
        "        data_cp.loc[i, feature_column_name] = all_features\n",
        "\n",
        "    return data_cp"
      ],
      "execution_count": 0,
      "outputs": []
    },
    {
      "cell_type": "code",
      "metadata": {
        "id": "lz13SasQwXmj",
        "colab_type": "code",
        "outputId": "a0458a62-d103-42d8-d09b-f4462b844b0e",
        "colab": {
          "base_uri": "https://localhost:8080/",
          "height": 252
        }
      },
      "source": [
        "data = pd.read_pickle(DATA_FILEPATH)\n",
        "data_for_training = create_dataframe_for_training(data)\n",
        "data_for_training.head()"
      ],
      "execution_count": 4,
      "outputs": [
        {
          "output_type": "stream",
          "text": [
            "100%|██████████| 15555/15555 [01:04<00:00, 241.78it/s]\n"
          ],
          "name": "stderr"
        },
        {
          "output_type": "execute_result",
          "data": {
            "text/html": [
              "<div>\n",
              "<style scoped>\n",
              "    .dataframe tbody tr th:only-of-type {\n",
              "        vertical-align: middle;\n",
              "    }\n",
              "\n",
              "    .dataframe tbody tr th {\n",
              "        vertical-align: top;\n",
              "    }\n",
              "\n",
              "    .dataframe thead th {\n",
              "        text-align: right;\n",
              "    }\n",
              "</style>\n",
              "<table border=\"1\" class=\"dataframe\">\n",
              "  <thead>\n",
              "    <tr style=\"text-align: right;\">\n",
              "      <th></th>\n",
              "      <th>label</th>\n",
              "      <th>X</th>\n",
              "    </tr>\n",
              "    <tr>\n",
              "      <th>id</th>\n",
              "      <th></th>\n",
              "      <th></th>\n",
              "    </tr>\n",
              "  </thead>\n",
              "  <tbody>\n",
              "    <tr>\n",
              "      <th>0</th>\n",
              "      <td>0</td>\n",
              "      <td>A line from George Orwell's novel 1984 predic...</td>\n",
              "    </tr>\n",
              "    <tr>\n",
              "      <th>1</th>\n",
              "      <td>2</td>\n",
              "      <td>Maine legislature candidate Leslie Gibson ins...</td>\n",
              "    </tr>\n",
              "    <tr>\n",
              "      <th>4</th>\n",
              "      <td>1</td>\n",
              "      <td>A 17-year-old girl named Alyssa Carson is bei...</td>\n",
              "    </tr>\n",
              "    <tr>\n",
              "      <th>5</th>\n",
              "      <td>2</td>\n",
              "      <td>In 1988 author Roald Dahl penned an open lett...</td>\n",
              "    </tr>\n",
              "    <tr>\n",
              "      <th>6</th>\n",
              "      <td>2</td>\n",
              "      <td>Hillary Clinton When it comes to fighting terr...</td>\n",
              "    </tr>\n",
              "  </tbody>\n",
              "</table>\n",
              "</div>"
            ],
            "text/plain": [
              "    label                                                  X\n",
              "id                                                          \n",
              "0       0   A line from George Orwell's novel 1984 predic...\n",
              "1       2   Maine legislature candidate Leslie Gibson ins...\n",
              "4       1   A 17-year-old girl named Alyssa Carson is bei...\n",
              "5       2   In 1988 author Roald Dahl penned an open lett...\n",
              "6       2  Hillary Clinton When it comes to fighting terr..."
            ]
          },
          "metadata": {
            "tags": []
          },
          "execution_count": 4
        }
      ]
    },
    {
      "cell_type": "code",
      "metadata": {
        "id": "uXzIrIeZwuP3",
        "colab_type": "code",
        "colab": {}
      },
      "source": [
        "content = data_for_training['X'].values\n",
        "y = data_for_training['label'].values\n",
        "\n",
        "feature_pipeline = Pipeline([\n",
        "                             ('vect', text.TfidfVectorizer()), \n",
        "                             ('norm', preprocessing.Normalizer())\n",
        "])\n",
        "X = feature_pipeline.fit_transform(content)\n",
        "X_train, X_test, y_train, y_test = train_test_split(X, y, test_size=0.15, \n",
        "                                                    stratify=y)"
      ],
      "execution_count": 0,
      "outputs": []
    },
    {
      "cell_type": "code",
      "metadata": {
        "id": "QnRRzu6P0vTu",
        "colab_type": "code",
        "colab": {}
      },
      "source": [
        "# TODO fix for gpu\n",
        "model = XGBClassifier(silent=False,\n",
        "                      scale_pos_weight=1,\n",
        "                      learning_rate=0.01,\n",
        "                      colsample_bytree = 0.4,\n",
        "                      subsample = 0.8,\n",
        "                      objective='multi:softmax',\n",
        "                      n_estimators=1000,\n",
        "                      reg_alpha = 0.3,\n",
        "                      max_depth=4,\n",
        "                      gamma=5,\n",
        "                    #   tree_method='gpu_hist',\n",
        "                    #   gpu_id=0,\n",
        "                      num_class=3,\n",
        "                      n_jobs=2,\n",
        "                      random_state=42,\n",
        "                      verbosity=1)\n",
        "\n",
        "eval_set = [(X_train, y_train), (X_test, y_test)]\n",
        "eval_metric = [\"auc\",\"error\"]\n",
        "\n",
        "search_params = {\n",
        "    'n_estimators': [100, 200],\n",
        "    'max_depth': [3],\n",
        "    # 'reg_alpha': [0.3, 0.6],\n",
        "    'reg_alpha': [0.6],\n",
        "    'gamma': [1]\n",
        "}"
      ],
      "execution_count": 0,
      "outputs": []
    },
    {
      "cell_type": "code",
      "metadata": {
        "id": "djMUJowR8Eyd",
        "colab_type": "code",
        "outputId": "b3b014ba-88e7-49df-8db7-859e41038f48",
        "colab": {
          "base_uri": "https://localhost:8080/",
          "height": 187
        }
      },
      "source": [
        "grid_cv = GridSearchCV(model, search_params, cv=2, verbose=10, n_jobs=2)\n",
        "%time grid_cv.fit(X_train, y_train)\n",
        "print(grid_cv.best_params_)\n",
        "\n",
        "# best reg_alpha = 0.6"
      ],
      "execution_count": 16,
      "outputs": [
        {
          "output_type": "stream",
          "text": [
            "Fitting 2 folds for each of 4 candidates, totalling 8 fits\n"
          ],
          "name": "stdout"
        },
        {
          "output_type": "stream",
          "text": [
            "[Parallel(n_jobs=2)]: Using backend LokyBackend with 2 concurrent workers.\n",
            "[Parallel(n_jobs=2)]: Done   1 tasks      | elapsed:  5.9min\n",
            "[Parallel(n_jobs=2)]: Done   4 tasks      | elapsed: 11.9min\n",
            "[Parallel(n_jobs=2)]: Done   6 out of   8 | elapsed: 23.4min remaining:  7.8min\n",
            "[Parallel(n_jobs=2)]: Done   8 out of   8 | elapsed: 34.7min remaining:    0.0s\n",
            "[Parallel(n_jobs=2)]: Done   8 out of   8 | elapsed: 34.7min finished\n"
          ],
          "name": "stderr"
        },
        {
          "output_type": "stream",
          "text": [
            "CPU times: user 18min 16s, sys: 1.7 s, total: 18min 18s\n",
            "Wall time: 44min 10s\n",
            "{'gamma': 1, 'max_depth': 3, 'n_estimators': 200, 'reg_alpha': 0.6}\n"
          ],
          "name": "stdout"
        }
      ]
    },
    {
      "cell_type": "code",
      "metadata": {
        "id": "2zqlkuQ7R3ky",
        "colab_type": "code",
        "colab": {}
      },
      "source": [
        "model.set_params(**grid_cv.best_params_)"
      ],
      "execution_count": 0,
      "outputs": []
    },
    {
      "cell_type": "code",
      "metadata": {
        "id": "BHe-GlCXwjdY",
        "colab_type": "code",
        "outputId": "f95b4845-be35-433c-8107-b311c81bff8f",
        "colab": {
          "base_uri": "https://localhost:8080/",
          "height": 181
        }
      },
      "source": [
        "%time model.fit(X_train, y_train, eval_metric=eval_metric, verbose=True)"
      ],
      "execution_count": 0,
      "outputs": [
        {
          "output_type": "stream",
          "text": [
            "CPU times: user 1h 28min 40s, sys: 2.07 s, total: 1h 28min 42s\n",
            "Wall time: 45min 4s\n"
          ],
          "name": "stdout"
        },
        {
          "output_type": "execute_result",
          "data": {
            "text/plain": [
              "XGBClassifier(base_score=0.5, booster='gbtree', colsample_bylevel=1,\n",
              "              colsample_bynode=1, colsample_bytree=0.4, gamma=5,\n",
              "              learning_rate=0.01, max_delta_step=0, max_depth=4,\n",
              "              min_child_weight=1, missing=None, n_estimators=1000, n_jobs=-1,\n",
              "              nthread=None, num_class=3, objective='multi:softprob',\n",
              "              random_state=42, reg_alpha=0.3, reg_lambda=1, scale_pos_weight=1,\n",
              "              seed=None, silent=False, subsample=0.8, verbosity=1)"
            ]
          },
          "metadata": {
            "tags": []
          },
          "execution_count": 10
        }
      ]
    },
    {
      "cell_type": "code",
      "metadata": {
        "id": "wFjTrp9Q6x1c",
        "colab_type": "code",
        "outputId": "efa1b4d7-7617-42d4-f961-4188e5e103a5",
        "colab": {
          "base_uri": "https://localhost:8080/",
          "height": 187
        }
      },
      "source": [
        "preds = grid_cv.predict(X_test)\n",
        "# preds = model.predict(X_test)\n",
        "print(f'{classification_report(y_test, preds)}')\n",
        "#{'gamma': 1, 'max_depth': 3, 'n_estimators': 200, 'reg_alpha': 0.6}"
      ],
      "execution_count": 17,
      "outputs": [
        {
          "output_type": "stream",
          "text": [
            "              precision    recall  f1-score   support\n",
            "\n",
            "           0       0.63      0.71      0.66      1112\n",
            "           1       0.58      0.64      0.61       968\n",
            "           2       1.00      0.01      0.02       254\n",
            "\n",
            "    accuracy                           0.60      2334\n",
            "   macro avg       0.73      0.45      0.43      2334\n",
            "weighted avg       0.65      0.60      0.57      2334\n",
            "\n"
          ],
          "name": "stdout"
        }
      ]
    },
    {
      "cell_type": "code",
      "metadata": {
        "id": "iBY2xPSBKfEk",
        "colab_type": "code",
        "colab": {}
      },
      "source": [
        "# TODO fix for gpu\n",
        "model = XGBClassifier(silent=False,\n",
        "                      scale_pos_weight=1,\n",
        "                      learning_rate=0.01,\n",
        "                      colsample_bytree = 0.4,\n",
        "                      subsample = 0.8,\n",
        "                      objective='multi:softmax',\n",
        "                      n_estimators=500,\n",
        "                      reg_alpha = 0.6,\n",
        "                      max_depth=3,\n",
        "                      gamma=51,\n",
        "                    #   tree_method='gpu_hist',\n",
        "                    #   gpu_id=0,\n",
        "                      num_class=3,\n",
        "                      n_jobs=2,\n",
        "                      random_state=42,\n",
        "                      verbosity=1)"
      ],
      "execution_count": 0,
      "outputs": []
    },
    {
      "cell_type": "code",
      "metadata": {
        "id": "tGzkGaK0Kkt8",
        "colab_type": "code",
        "colab": {
          "base_uri": "https://localhost:8080/",
          "height": 170
        },
        "outputId": "22455f09-3b5f-4b44-858c-d401d6aba84c"
      },
      "source": [
        "%time model.fit(X_train, y_train, eval_metric=eval_metric, verbose=True)"
      ],
      "execution_count": 19,
      "outputs": [
        {
          "output_type": "stream",
          "text": [
            "CPU times: user 46min 40s, sys: 1.76 s, total: 46min 42s\n",
            "Wall time: 24min\n"
          ],
          "name": "stdout"
        },
        {
          "output_type": "execute_result",
          "data": {
            "text/plain": [
              "XGBClassifier(base_score=0.5, booster='gbtree', colsample_bylevel=1,\n",
              "              colsample_bynode=1, colsample_bytree=0.4, gamma=51,\n",
              "              learning_rate=0.01, max_delta_step=0, max_depth=3,\n",
              "              min_child_weight=1, missing=None, n_estimators=500, n_jobs=2,\n",
              "              nthread=None, num_class=3, objective='multi:softprob',\n",
              "              random_state=42, reg_alpha=0.6, reg_lambda=1, scale_pos_weight=1,\n",
              "              seed=None, silent=False, subsample=0.8, verbosity=1)"
            ]
          },
          "metadata": {
            "tags": []
          },
          "execution_count": 19
        }
      ]
    },
    {
      "cell_type": "code",
      "metadata": {
        "id": "cSa_t_73R2tN",
        "colab_type": "code",
        "colab": {
          "base_uri": "https://localhost:8080/",
          "height": 68
        },
        "outputId": "dc8cabea-2f51-4c22-d730-a08289b1c4e7"
      },
      "source": [
        "preds = model.predict(X_test)\n",
        "f1_score(y_test, preds, average='weighted')"
      ],
      "execution_count": 23,
      "outputs": [
        {
          "output_type": "stream",
          "text": [
            "/usr/local/lib/python3.6/dist-packages/sklearn/metrics/classification.py:1437: UndefinedMetricWarning: F-score is ill-defined and being set to 0.0 in labels with no predicted samples.\n",
            "  'precision', 'predicted', average, warn_for)\n"
          ],
          "name": "stderr"
        },
        {
          "output_type": "execute_result",
          "data": {
            "text/plain": [
              "0.5605096948832078"
            ]
          },
          "metadata": {
            "tags": []
          },
          "execution_count": 23
        }
      ]
    },
    {
      "cell_type": "code",
      "metadata": {
        "id": "2ucUo2mMZ1i_",
        "colab_type": "code",
        "colab": {}
      },
      "source": [
        ""
      ],
      "execution_count": 0,
      "outputs": []
    }
  ]
}