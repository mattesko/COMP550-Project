{
 "cells": [
  {
   "cell_type": "markdown",
   "metadata": {
    "colab_type": "text",
    "id": "-qkt0rqbRxG7"
   },
   "source": [
    "** Read stuff from your own gdrive**"
   ]
  },
  {
   "cell_type": "code",
   "execution_count": 0,
   "metadata": {
    "colab": {
     "base_uri": "https://localhost:8080/",
     "height": 429
    },
    "colab_type": "code",
    "id": "n49pRSfNKtbA",
    "outputId": "89e08372-79c7-48c7-e96a-f065e8da5274"
   },
   "outputs": [
    {
     "name": "stdout",
     "output_type": "stream",
     "text": [
      "/bin/bash: =1.2.0: No such file or directory\n",
      "Collecting torchtext==0.4\n",
      "\u001b[?25l  Downloading https://files.pythonhosted.org/packages/43/94/929d6bd236a4fb5c435982a7eb9730b78dcd8659acf328fd2ef9de85f483/torchtext-0.4.0-py3-none-any.whl (53kB)\n",
      "\u001b[K     |████████████████████████████████| 61kB 2.8MB/s \n",
      "\u001b[?25hRequirement already satisfied: six in /usr/local/lib/python3.6/dist-packages (from torchtext==0.4) (1.12.0)\n",
      "Requirement already satisfied: torch in /usr/local/lib/python3.6/dist-packages (from torchtext==0.4) (1.3.1+cu100)\n",
      "Requirement already satisfied: requests in /usr/local/lib/python3.6/dist-packages (from torchtext==0.4) (2.21.0)\n",
      "Requirement already satisfied: numpy in /usr/local/lib/python3.6/dist-packages (from torchtext==0.4) (1.17.4)\n",
      "Requirement already satisfied: tqdm in /usr/local/lib/python3.6/dist-packages (from torchtext==0.4) (4.28.1)\n",
      "Requirement already satisfied: idna<2.9,>=2.5 in /usr/local/lib/python3.6/dist-packages (from requests->torchtext==0.4) (2.8)\n",
      "Requirement already satisfied: certifi>=2017.4.17 in /usr/local/lib/python3.6/dist-packages (from requests->torchtext==0.4) (2019.9.11)\n",
      "Requirement already satisfied: chardet<3.1.0,>=3.0.2 in /usr/local/lib/python3.6/dist-packages (from requests->torchtext==0.4) (3.0.4)\n",
      "Requirement already satisfied: urllib3<1.25,>=1.21.1 in /usr/local/lib/python3.6/dist-packages (from requests->torchtext==0.4) (1.24.3)\n",
      "Installing collected packages: torchtext\n",
      "  Found existing installation: torchtext 0.3.1\n",
      "    Uninstalling torchtext-0.3.1:\n",
      "      Successfully uninstalled torchtext-0.3.1\n",
      "Successfully installed torchtext-0.4.0\n"
     ]
    },
    {
     "data": {
      "application/vnd.colab-display-data+json": {
       "pip_warning": {
        "packages": [
         "torchtext"
        ]
       }
      }
     },
     "metadata": {
      "tags": []
     },
     "output_type": "display_data"
    }
   ],
   "source": [
    "!pip install torch<=1.2.0\n",
    "!pip install torchtext==0.4\n",
    "%matplotlib inline"
   ]
  },
  {
   "cell_type": "code",
   "execution_count": 0,
   "metadata": {
    "colab": {
     "base_uri": "https://localhost:8080/",
     "height": 258
    },
    "colab_type": "code",
    "id": "D6vcbT3cK0g8",
    "outputId": "d5630288-14ff-4e63-90e7-d4f229eb03e7"
   },
   "outputs": [
    {
     "name": "stdout",
     "output_type": "stream",
     "text": [
      "Requirement already satisfied: PyDrive in /usr/local/lib/python3.6/dist-packages (1.3.1)\n",
      "Requirement already satisfied: oauth2client>=4.0.0 in /usr/local/lib/python3.6/dist-packages (from PyDrive) (4.1.3)\n",
      "Requirement already satisfied: google-api-python-client>=1.2 in /usr/local/lib/python3.6/dist-packages (from PyDrive) (1.7.11)\n",
      "Requirement already satisfied: PyYAML>=3.0 in /usr/local/lib/python3.6/dist-packages (from PyDrive) (3.13)\n",
      "Requirement already satisfied: pyasn1-modules>=0.0.5 in /usr/local/lib/python3.6/dist-packages (from oauth2client>=4.0.0->PyDrive) (0.2.7)\n",
      "Requirement already satisfied: pyasn1>=0.1.7 in /usr/local/lib/python3.6/dist-packages (from oauth2client>=4.0.0->PyDrive) (0.4.7)\n",
      "Requirement already satisfied: six>=1.6.1 in /usr/local/lib/python3.6/dist-packages (from oauth2client>=4.0.0->PyDrive) (1.12.0)\n",
      "Requirement already satisfied: rsa>=3.1.4 in /usr/local/lib/python3.6/dist-packages (from oauth2client>=4.0.0->PyDrive) (4.0)\n",
      "Requirement already satisfied: httplib2>=0.9.1 in /usr/local/lib/python3.6/dist-packages (from oauth2client>=4.0.0->PyDrive) (0.11.3)\n",
      "Requirement already satisfied: google-auth-httplib2>=0.0.3 in /usr/local/lib/python3.6/dist-packages (from google-api-python-client>=1.2->PyDrive) (0.0.3)\n",
      "Requirement already satisfied: uritemplate<4dev,>=3.0.0 in /usr/local/lib/python3.6/dist-packages (from google-api-python-client>=1.2->PyDrive) (3.0.0)\n",
      "Requirement already satisfied: google-auth>=1.4.1 in /usr/local/lib/python3.6/dist-packages (from google-api-python-client>=1.2->PyDrive) (1.4.2)\n",
      "Requirement already satisfied: cachetools>=2.0.0 in /usr/local/lib/python3.6/dist-packages (from google-auth>=1.4.1->google-api-python-client>=1.2->PyDrive) (3.1.1)\n"
     ]
    }
   ],
   "source": [
    "!pip install PyDrive\n",
    "\n"
   ]
  },
  {
   "cell_type": "code",
   "execution_count": 0,
   "metadata": {
    "colab": {},
    "colab_type": "code",
    "id": "iMGLSlF6R9YW"
   },
   "outputs": [],
   "source": [
    "import os\n",
    "from pydrive.auth import GoogleAuth\n",
    "from pydrive.drive import GoogleDrive\n",
    "from google.colab import auth\n",
    "from oauth2client.client import GoogleCredentials\n",
    "\n",
    "auth.authenticate_user()\n",
    "gauth = GoogleAuth()\n",
    "gauth.credentials = GoogleCredentials.get_application_default()\n",
    "drive = GoogleDrive(gauth)\n"
   ]
  },
  {
   "cell_type": "code",
   "execution_count": 0,
   "metadata": {
    "colab": {
     "base_uri": "https://localhost:8080/",
     "height": 122
    },
    "colab_type": "code",
    "id": "jmjGYZrsSMnz",
    "outputId": "2bbafedb-dfc3-4bee-fea6-61d26cf46dd4"
   },
   "outputs": [
    {
     "name": "stdout",
     "output_type": "stream",
     "text": [
      "Go to this URL in a browser: https://accounts.google.com/o/oauth2/auth?client_id=947318989803-6bn6qk8qdgf4n4g3pfee6491hc0brc4i.apps.googleusercontent.com&redirect_uri=urn%3aietf%3awg%3aoauth%3a2.0%3aoob&response_type=code&scope=email%20https%3a%2f%2fwww.googleapis.com%2fauth%2fdocs.test%20https%3a%2f%2fwww.googleapis.com%2fauth%2fdrive%20https%3a%2f%2fwww.googleapis.com%2fauth%2fdrive.photos.readonly%20https%3a%2f%2fwww.googleapis.com%2fauth%2fpeopleapi.readonly\n",
      "\n",
      "Enter your authorization code:\n",
      "··········\n",
      "Mounted at /content/drive/\n"
     ]
    }
   ],
   "source": [
    "\n",
    "# Import the corpus data\n",
    "\n",
    "from google.colab import drive\n",
    "\n",
    "drive.mount('/content/drive/', force_remount=True)"
   ]
  },
  {
   "cell_type": "markdown",
   "metadata": {
    "colab_type": "text",
    "id": "Uanjk8B-ldR_"
   },
   "source": [
    "Constants"
   ]
  },
  {
   "cell_type": "code",
   "execution_count": 0,
   "metadata": {
    "colab": {
     "base_uri": "https://localhost:8080/",
     "height": 102
    },
    "colab_type": "code",
    "id": "1M0RQ8BR6k2h",
    "outputId": "1c12da2a-3fa5-43fa-a09f-31c0dd729a06"
   },
   "outputs": [
    {
     "name": "stdout",
     "output_type": "stream",
     "text": [
      "[nltk_data] Downloading package punkt to /root/nltk_data...\n",
      "[nltk_data]   Unzipping tokenizers/punkt.zip.\n",
      "[nltk_data] Downloading package wordnet to /root/nltk_data...\n",
      "[nltk_data]   Unzipping corpora/wordnet.zip.\n",
      "['a', 'about', 'abov', 'across', 'aft', 'afterward', 'again', 'against', 'al', 'almost']\n"
     ]
    }
   ],
   "source": [
    "MY_HOME = \"My Drive/nlp\"\n",
    "stop_words = [\n",
    "        \"a\", \"about\", \"above\", \"across\", \"after\", \"afterwards\", \"again\", \"against\", \"all\", \"almost\", \"alone\", \"along\",\n",
    "        \"already\", \"also\", \"although\", \"always\", \"am\", \"among\", \"amongst\", \"amoungst\", \"amount\", \"an\", \"and\", \"another\",\n",
    "        \"any\", \"anyhow\", \"anyone\", \"anything\", \"anyway\", \"anywhere\", \"are\", \"around\", \"as\", \"at\", \"back\", \"be\",\n",
    "        \"became\", \"because\", \"become\", \"becomes\", \"becoming\", \"been\", \"before\", \"beforehand\", \"behind\", \"being\",\n",
    "        \"below\", \"beside\", \"besides\", \"between\", \"beyond\", \"bill\", \"both\", \"bottom\", \"but\", \"by\", \"call\", \"can\", \"co\",\n",
    "        \"con\", \"could\", \"cry\", \"de\", \"describe\", \"detail\", \"do\", \"done\", \"down\", \"due\", \"during\", \"each\", \"eg\", \"eight\",\n",
    "        \"either\", \"eleven\", \"else\", \"elsewhere\", \"empty\", \"enough\", \"etc\", \"even\", \"ever\", \"every\", \"everyone\",\n",
    "        \"everything\", \"everywhere\", \"except\", \"few\", \"fifteen\", \"fifty\", \"fill\", \"find\", \"fire\", \"first\", \"five\", \"for\",\n",
    "        \"former\", \"formerly\", \"forty\", \"found\", \"four\", \"from\", \"front\", \"full\", \"further\", \"get\", \"give\", \"go\", \"had\",\n",
    "        \"has\", \"have\", \"he\", \"hence\", \"her\", \"here\", \"hereafter\", \"hereby\", \"herein\", \"hereupon\", \"hers\", \"herself\",\n",
    "        \"him\", \"himself\", \"his\", \"how\", \"however\", \"hundred\", \"i\", \"ie\", \"if\", \"in\", \"inc\", \"indeed\", \"interest\",\n",
    "        \"into\", \"is\", \"it\", \"its\", \"itself\", \"keep\", \"last\", \"latter\", \"latterly\", \"least\", \"less\", \"ltd\", \"made\",\n",
    "        \"many\", \"may\", \"me\", \"meanwhile\", \"might\", \"mill\", \"mine\", \"more\", \"moreover\", \"most\", \"mostly\", \"move\", \"much\",\n",
    "        \"must\", \"my\", \"myself\", \"name\", \"namely\", \"neither\", \"nevertheless\", \"next\", \"nine\", \"nobody\", \"now\", \"nowhere\",\n",
    "        \"of\", \"off\", \"often\", \"on\", \"once\", \"one\", \"only\", \"onto\", \"or\", \"other\", \"others\", \"otherwise\", \"our\", \"ours\",\n",
    "        \"ourselves\", \"out\", \"over\", \"own\", \"part\", \"per\", \"perhaps\", \"please\", \"put\", \"rather\", \"re\", \"same\", \"see\",\n",
    "        \"serious\", \"several\", \"she\", \"should\", \"show\", \"side\", \"since\", \"sincere\", \"six\", \"sixty\", \"so\", \"some\",\n",
    "        \"somehow\", \"someone\", \"something\", \"sometime\", \"sometimes\", \"somewhere\", \"still\", \"such\", \"system\", \"take\",\n",
    "        \"ten\", \"than\", \"that\", \"the\", \"their\", \"them\", \"themselves\", \"then\", \"thence\", \"there\", \"thereafter\", \"thereby\",\n",
    "        \"therefore\", \"therein\", \"thereupon\", \"these\", \"they\", \"thick\", \"thin\", \"third\", \"this\", \"those\", \"though\",\n",
    "        \"three\", \"through\", \"throughout\", \"thru\", \"thus\", \"to\", \"together\", \"too\", \"top\", \"toward\", \"towards\", \"twelve\",\n",
    "        \"twenty\", \"two\", \"un\", \"under\", \"until\", \"up\", \"upon\", \"us\", \"very\", \"via\", \"was\", \"we\", \"well\", \"were\", \"what\",\n",
    "        \"whatever\", \"when\", \"whence\", \"whenever\", \"where\", \"whereafter\", \"whereas\", \"whereby\", \"wherein\", \"whereupon\",\n",
    "        \"wherever\", \"whether\", \"which\", \"while\", \"whither\", \"who\", \"whoever\", \"whole\", \"whom\", \"whose\", \"why\", \"will\",\n",
    "        \"with\", \"within\", \"without\", \"would\", \"yet\", \"you\", \"your\", \"yours\", \"yourself\", \"yourselves\"\n",
    "        ]\n",
    "\n",
    "from nltk.corpus import stopwords\n",
    "from nltk.stem import LancasterStemmer, WordNetLemmatizer\n",
    "import nltk\n",
    "nltk.download('punkt')\n",
    "nltk.download('wordnet')\n",
    "def _tokenize_stem_lem_join(text):\n",
    "    \"\"\"Stem and lemmatize text by tokenizing and joining back together\"\"\"\n",
    "    words = nltk.word_tokenize(text)\n",
    "    words = _stem_words(words)\n",
    "    words = _lemmatize_verbs(words)\n",
    "    return ' '.join(words)\n",
    "    \n",
    "\n",
    "def _stem_words(words):\n",
    "    \"\"\"Stem words in list of tokenized words\"\"\"\n",
    "    stemmer = LancasterStemmer()\n",
    "    stems = []\n",
    "    for word in words:\n",
    "        stem = stemmer.stem(word)\n",
    "        stems.append(stem)\n",
    "    return stems\n",
    "\n",
    "\n",
    "def _lemmatize_verbs(words):\n",
    "    \"\"\"Lemmatize verbs in list of tokenized words\"\"\"\n",
    "    lemmatizer = WordNetLemmatizer()\n",
    "    lemmas = []\n",
    "    for word in words:\n",
    "        lemma = lemmatizer.lemmatize(word, pos='v')\n",
    "        lemmas.append(lemma)\n",
    "    return lemmas\n",
    "\n",
    "stop_words_preproc = []\n",
    "for word in stop_words:\n",
    "    temp = _tokenize_stem_lem_join(word)\n",
    "    stop_words_preproc.append(temp)\n",
    "\n",
    "print(stop_words_preproc[0:10])"
   ]
  },
  {
   "cell_type": "code",
   "execution_count": 0,
   "metadata": {
    "colab": {},
    "colab_type": "code",
    "id": "8gvC0_NKjZyW"
   },
   "outputs": [],
   "source": [
    "import random\n",
    "def split_train_test(df, train=0.60):\n",
    "    train_size = round(len(df) * train)\n",
    "    train_indices = random.sample(population=df.index.tolist(), k=train_size)\n",
    "    train_df = df.loc[train_indices]\n",
    "    test_df = df.loc[set(df.index) - set(train_df.index)] #get rest of index\n",
    "    return train_df, test_df\n"
   ]
  },
  {
   "cell_type": "code",
   "execution_count": 0,
   "metadata": {
    "colab": {
     "base_uri": "https://localhost:8080/",
     "height": 51
    },
    "colab_type": "code",
    "id": "bghsqE5i3188",
    "outputId": "02298ff8-99fe-4089-877b-85302704860e"
   },
   "outputs": [
    {
     "name": "stdout",
     "output_type": "stream",
     "text": [
      "[[0. 1.]\n",
      " [1. 0.]]\n"
     ]
    }
   ],
   "source": [
    "import numpy as np\n",
    "def one_hot(a, num_classes):\n",
    "  a = np.array([a])\n",
    "  return np.squeeze(np.eye(num_classes)[a.reshape(-1)])\n",
    "\n",
    "print(one_hot([[1], [0]], 2))"
   ]
  },
  {
   "cell_type": "code",
   "execution_count": 0,
   "metadata": {
    "colab": {},
    "colab_type": "code",
    "id": "2q-lOOjJ5kH0"
   },
   "outputs": [],
   "source": [
    "from sklearn.neural_network import MLPClassifier\n",
    "import os\n",
    "import numpy as np\n",
    "import pandas as pd\n",
    "from sklearn.feature_extraction.text import TfidfVectorizer\n",
    "from sklearn.feature_extraction.text import CountVectorizer\n",
    "from sklearn.feature_extraction.text import TfidfTransformer\n",
    "\n",
    "from sklearn.metrics import confusion_matrix\n",
    "import pickle\n",
    "from sklearn.metrics import classification_report\n",
    "\n",
    "from warnings import simplefilter\n",
    "simplefilter(action='ignore', category=FutureWarning)\n",
    "\n",
    "from sklearn.metrics.pairwise import cosine_similarity\n",
    "\n",
    "\n",
    "seed = 123\n",
    "np.random.seed(seed)\n",
    "\n",
    "def to_tdidf(_lim_unigram=500):\n",
    "    \"\"\"\n",
    "    prepare utils for torch dataset\n",
    "    \"\"\"\n",
    "    print(\"======> create util vectorizers and some mapping for torch dataset\")\n",
    "    data = pd.read_pickle(os.path.join(\"drive/My Drive/nlp\", \"preprocessed_claim_body.pkl\"))\n",
    "    id_ref = {}\n",
    "\n",
    "    \n",
    "    print(data.head())\n",
    "    lim_unigram = _lim_unigram\n",
    "    # no more ram, limit this\n",
    "    # TODO: change to training set, not a simple slicing\n",
    "    # Create reference dictionary\n",
    "    for i, elem in enumerate(data['claim'] + data['body']):\n",
    "        id_ref[elem] = i\n",
    "    bow_vectorizer = CountVectorizer(max_features=lim_unigram, stop_words=stop_words_preproc)\\\n",
    "                  .fit(data['claim'][0:90] + data['body'][0:90])\n",
    "    bow = bow_vectorizer.transform(data['claim'][0:90] + data['body'][0:90])\n",
    "    tfreq_vectorizer = TfidfTransformer(use_idf=False).fit(bow)\n",
    "    tfreq = tfreq_vectorizer.transform(bow).toarray()\n",
    "\n",
    "    tfidf_vectorizer = TfidfVectorizer(max_features=lim_unigram, stop_words=stop_words_preproc).\\\n",
    "        fit(data['claim'] + data['body'])  # Train and test sets\n",
    "  \n",
    "    return id_ref, bow, tfreq, tfidf_vectorizer\n",
    "\n",
    "\n"
   ]
  },
  {
   "cell_type": "code",
   "execution_count": 0,
   "metadata": {
    "colab": {},
    "colab_type": "code",
    "id": "whTE8QkuTWSO"
   },
   "outputs": [],
   "source": [
    "\n",
    "import torch.nn as nn\n",
    "import torch.nn.functional as F\n",
    "\n",
    "\n",
    "class Net(nn.Module):\n",
    "    def __init__(self):\n",
    "        super(Net, self).__init__()\n",
    "\n",
    "        self.fc1 = nn.Linear(64+64+1, 100)\n",
    "        self.fc2 = nn.Linear(100, 3)\n",
    "    def forward(self, x):\n",
    "        x = F.relu(self.fc1(x))\n",
    "        x = F.relu(self.fc2(x))\n",
    "        x = F.log_softmax(x)\n",
    "        return x\n"
   ]
  },
  {
   "cell_type": "code",
   "execution_count": 0,
   "metadata": {
    "colab": {},
    "colab_type": "code",
    "id": "cFvYxuQDVi72"
   },
   "outputs": [],
   "source": [
    "from torch.utils.data import Dataset, DataLoader\n",
    "import torch\n",
    "from sklearn.decomposition import PCA\n",
    "\n",
    "class ClaimBodyDataset(Dataset):\n",
    "    \"\"\"claim body dataset for training\"\"\"\n",
    "    # TODO: check using loading the dataframe directly\n",
    "    def __init__(self, df, _lim_unigram=500):\n",
    "        \"\"\"\n",
    "        Args:\n",
    "            df is the dataframe, sliced either train or test, still has the two columns!\n",
    "            claim: 5000 by 1\n",
    "            body: 5000 by 1\n",
    "            cosine_similarity: 1 by 1\n",
    "        \"\"\"\n",
    "        self.df = df #pd.read_pickle(df)\n",
    "        self.lim_unigram = _lim_unigram\n",
    "        self.bow_vectorizer_claim = CountVectorizer(max_features=self.lim_unigram, stop_words=stop_words_preproc)\n",
    "        self.bow_vectorizer_body = CountVectorizer(max_features=self.lim_unigram, stop_words=stop_words_preproc)\n",
    "\n",
    "        self.bow_claim = self.bow_vectorizer_claim.fit_transform(self.df['claim'])\n",
    "        self.bow_body = self.bow_vectorizer_body.fit_transform(self.df['body'])\n",
    "        \n",
    "\n",
    "        self.tfreq_vectorizer_claim = TfidfTransformer(use_idf=False).fit(self.bow_claim)\n",
    "        self.tfreq_vectorizer_body = TfidfTransformer(use_idf=False).fit(self.bow_body)\n",
    "\n",
    "\n",
    "        self.tfreq_claim = self.tfreq_vectorizer_claim.transform(self.bow_claim).toarray()\n",
    "        self.tfreq_body = self.tfreq_vectorizer_body.transform(self.bow_body).toarray()\n",
    "\n",
    "        pca = PCA(n_components=64)\n",
    "        self.tfreq_claim_reduced = pca.fit_transform(self.tfreq_claim)\n",
    "        self.tfreq_body_reduced = pca.fit_transform(self.tfreq_body)\n",
    "\n",
    "        self.tfidf_vectorizer = TfidfVectorizer(max_features=self.lim_unigram, stop_words=stop_words_preproc).\\\n",
    "        fit(self.df['claim'] + self.df['body'])  # Train and test sets\n",
    "\n",
    "        self.tfidf_claim = self.tfidf_vectorizer.transform(self.df['claim'])\n",
    "        self.tfidf_body = self.tfidf_vectorizer.transform(self.df['body'])\n",
    "\n",
    "        self.cosine_similarity = cosine_similarity\n",
    "    def __len__(self):\n",
    "        return len(self.df)\n",
    "\n",
    "    def __getitem__(self, idx):\n",
    "        if torch.is_tensor(idx):\n",
    "            idx = idx.tolist()\n",
    "\n",
    "\n",
    "        claim_tfreq= self.tfreq_claim_reduced[idx]\n",
    "        body_tfreqf = self.tfreq_body_reduced[idx]\n",
    "\n",
    "\n",
    "\n",
    "        claim_tfidf = self.tfidf_claim[idx]\n",
    "        body_tfidf = self.tfidf_body[idx]\n",
    "\n",
    "        cos_tfidf = cosine_similarity(claim_tfidf, body_tfidf)[0].reshape(1, -1)\n",
    "        feat_vec = np.squeeze(np.c_[claim_tfreq.reshape(1, -1), body_tfreqf.reshape(1, -1), cos_tfidf])\n",
    "        label = self.df['label'].iloc[idx]\n",
    "\n",
    "        feat_vec = torch.from_numpy(feat_vec)\n",
    "        label = torch.tensor(label, dtype=torch.long)\n",
    "        return feat_vec, label\n",
    "\n"
   ]
  },
  {
   "cell_type": "code",
   "execution_count": 0,
   "metadata": {
    "colab": {
     "base_uri": "https://localhost:8080/",
     "height": 1000
    },
    "colab_type": "code",
    "id": "5ZEclSAFZyba",
    "outputId": "5b88dfd2-6da1-4471-e01a-115cad5a183d"
   },
   "outputs": [
    {
     "name": "stdout",
     "output_type": "stream",
     "text": [
      "0 (tensor([-0.0804, -0.0877, -0.0178, -0.0800, -0.0005, -0.0320, -0.0423, -0.0042,\n",
      "         0.0027, -0.0491,  0.0192, -0.0312,  0.0167, -0.0050, -0.0227, -0.0055,\n",
      "         0.0116, -0.0010, -0.0079,  0.0006, -0.0099, -0.0077, -0.0331, -0.0084,\n",
      "         0.0169,  0.0132,  0.0002, -0.0122, -0.0062, -0.0024, -0.0015, -0.0147,\n",
      "        -0.0022, -0.0045, -0.0350,  0.0017,  0.0374,  0.0209, -0.0210,  0.0010,\n",
      "         0.0005, -0.0101, -0.0400, -0.0091, -0.0340, -0.0031, -0.0514, -0.0746,\n",
      "         0.0285, -0.0740,  0.0435,  0.0581, -0.0148, -0.0353, -0.0571,  0.0693,\n",
      "        -0.0075, -0.0712, -0.0754,  0.0043,  0.0279,  0.0080, -0.0334, -0.0249,\n",
      "        -0.1533,  0.1215, -0.1111, -0.1639,  0.0329, -0.0033, -0.0062,  0.0588,\n",
      "        -0.0106,  0.0087,  0.0029,  0.0239,  0.0204, -0.0613,  0.0224, -0.0361,\n",
      "         0.0363,  0.0221, -0.0595, -0.0368, -0.0382, -0.0169, -0.0846, -0.0077,\n",
      "         0.0245, -0.0183, -0.0388,  0.0948, -0.0290, -0.0160,  0.0521,  0.1092,\n",
      "        -0.0381,  0.0543,  0.0641, -0.0449,  0.0988, -0.0040, -0.0215, -0.0225,\n",
      "         0.0290, -0.0248,  0.0904, -0.0491,  0.0731, -0.0239,  0.0530, -0.0184,\n",
      "        -0.0280,  0.0243,  0.0153,  0.0308,  0.0085, -0.0533, -0.0836,  0.0149,\n",
      "         0.0038, -0.0635, -0.0955, -0.0015,  0.0111,  0.0500,  0.0064,  0.0237,\n",
      "         0.0349], dtype=torch.float64), tensor(0)) torch.Size([129])\n",
      "1 (tensor([-0.0767, -0.0815, -0.0272, -0.0581, -0.0319,  0.0113, -0.0410, -0.0071,\n",
      "        -0.0103, -0.0565,  0.0141, -0.0347, -0.0031, -0.0064, -0.0176,  0.0123,\n",
      "         0.0281, -0.0535,  0.0215,  0.0425, -0.0216, -0.0537,  0.0068, -0.0036,\n",
      "         0.0037,  0.0585, -0.0434,  0.0163, -0.0043,  0.0086,  0.0556, -0.0370,\n",
      "         0.0038, -0.0146, -0.0719, -0.0171,  0.1119,  0.0298,  0.0478,  0.0086,\n",
      "        -0.0860, -0.1270, -0.1754,  0.3171,  0.0982,  0.0701,  0.0844,  0.0507,\n",
      "        -0.0088,  0.0579, -0.0499, -0.0715, -0.0073,  0.0184,  0.0915,  0.0309,\n",
      "         0.1033,  0.0997,  0.0784, -0.0489,  0.0283,  0.1638, -0.0185,  0.0214,\n",
      "        -0.2617,  0.0714, -0.2016, -0.2708,  0.1260, -0.0998,  0.0552,  0.2344,\n",
      "        -0.0826, -0.1036, -0.0466,  0.0326, -0.0204,  0.0330,  0.0015, -0.0286,\n",
      "         0.1223, -0.0015, -0.0139,  0.0748, -0.0300,  0.0113, -0.0160, -0.0045,\n",
      "         0.0900,  0.0615,  0.0158, -0.0437,  0.0321, -0.0305, -0.0668, -0.0811,\n",
      "        -0.0930, -0.0436, -0.0241,  0.0403, -0.1201, -0.0016,  0.0016, -0.0925,\n",
      "        -0.0759, -0.0097,  0.0147,  0.0772, -0.0333,  0.0590,  0.0023, -0.0007,\n",
      "        -0.0589,  0.0185, -0.0539, -0.0162, -0.0111,  0.0070,  0.0138, -0.0499,\n",
      "         0.0034,  0.0153, -0.0238, -0.0061, -0.0006, -0.0121, -0.0225, -0.0743,\n",
      "         0.3947], dtype=torch.float64), tensor(0)) torch.Size([129])\n",
      "2 (tensor([-1.2777e-01, -8.1991e-02,  4.8138e-02,  2.3860e-01,  1.3793e-01,\n",
      "        -1.4319e-01,  3.5975e-01,  8.2591e-02, -9.0590e-02,  2.1545e-01,\n",
      "        -1.7141e-01,  3.1432e-01, -1.3534e-01,  1.4750e-01, -2.2387e-01,\n",
      "        -1.6866e-01,  2.8127e-02,  4.5329e-02, -1.6741e-01,  7.1140e-02,\n",
      "         5.0197e-02, -8.7261e-02,  1.3410e-01, -6.3432e-02,  1.7824e-02,\n",
      "        -6.6716e-03, -3.3015e-03,  3.7813e-02,  4.8741e-04, -3.3380e-02,\n",
      "        -5.6580e-02,  5.0051e-03, -2.2328e-03, -2.9715e-02, -2.5184e-02,\n",
      "         1.1108e-03,  2.4801e-02,  1.5953e-02,  1.9202e-02,  3.6039e-02,\n",
      "         4.1576e-02,  6.4692e-02,  1.8213e-02,  2.3337e-02, -1.9145e-02,\n",
      "         3.0644e-02, -7.6384e-02,  3.6648e-03,  8.3584e-02,  1.4321e-01,\n",
      "        -3.1499e-02,  3.0943e-02,  1.1286e-01, -2.1379e-02,  1.1154e-01,\n",
      "        -5.3340e-02,  4.3418e-02,  6.3381e-02,  1.2403e-02, -1.2202e-01,\n",
      "         1.7051e-01, -5.7464e-02, -9.4597e-02,  3.8115e-03, -4.0426e-02,\n",
      "         3.8870e-01, -2.8984e-02,  9.5462e-02, -1.8636e-02,  7.5362e-02,\n",
      "         2.2923e-01,  7.4515e-02,  1.0069e-03, -3.6490e-02, -1.1057e-02,\n",
      "         4.6850e-02, -1.1995e-02, -3.8412e-02,  1.3885e-04, -7.3786e-03,\n",
      "         5.8623e-02,  9.9057e-02, -4.2135e-02, -4.8225e-02,  9.1813e-02,\n",
      "        -6.1314e-02,  8.5567e-02, -1.8132e-01,  1.5509e-01,  4.8308e-02,\n",
      "         1.6649e-01,  6.7552e-02,  4.2453e-02,  7.6274e-02,  4.5991e-02,\n",
      "        -1.4716e-02,  2.1682e-01, -8.4339e-03, -1.8871e-01,  8.8274e-02,\n",
      "         9.6739e-03, -3.2096e-02,  1.5935e-01,  2.4273e-01,  3.1838e-01,\n",
      "        -1.5010e-01,  3.5892e-02,  3.0271e-01,  2.3065e-01,  2.3886e-01,\n",
      "        -6.6074e-02,  1.5300e-01,  1.4992e-01,  9.3708e-02, -6.7015e-02,\n",
      "        -1.7916e-02,  2.2682e-01, -2.5749e-02, -2.9831e-02,  4.8368e-02,\n",
      "         9.0369e-02, -3.7078e-02,  9.3009e-03, -1.1766e-02, -1.0592e-01,\n",
      "        -4.7905e-02, -5.8379e-02,  2.5339e-03,  1.3322e-01],\n",
      "       dtype=torch.float64), tensor(1)) torch.Size([129])\n",
      "3 (tensor([-8.9377e-02, -9.3941e-02, -2.7002e-02, -8.3691e-02, -2.6999e-02,\n",
      "        -1.3649e-02, -6.1098e-02,  2.1503e-03,  1.1171e-02, -9.3841e-02,\n",
      "         5.1489e-02, -1.4925e-02, -2.0340e-02,  1.3883e-02, -1.5319e-02,\n",
      "        -8.9300e-03,  5.5758e-02, -1.9314e-02,  1.4577e-02, -5.7426e-02,\n",
      "        -7.0073e-02,  1.1582e-02,  8.1663e-02, -5.1243e-02, -1.4773e-02,\n",
      "         1.4408e-01,  3.0436e-01,  3.2428e-01, -1.1035e-01,  6.2341e-02,\n",
      "         1.2561e-01,  7.6786e-03,  1.8646e-02,  1.0479e-01, -5.3901e-02,\n",
      "         7.9791e-03, -3.3509e-02, -2.3276e-02,  4.1565e-02,  1.1777e-01,\n",
      "         2.9009e-02,  4.6385e-02,  9.2720e-03, -5.1517e-02, -9.0830e-02,\n",
      "         8.5828e-04, -4.3452e-02, -8.4258e-03, -8.2024e-02, -4.1794e-02,\n",
      "         9.0292e-02,  5.9317e-02, -1.9791e-01, -1.0685e-01,  5.6400e-02,\n",
      "         2.7992e-03,  4.0413e-02,  4.7023e-02,  7.9475e-02, -1.4499e-02,\n",
      "         5.7897e-02, -3.8904e-02,  3.1253e-02,  6.3469e-02, -1.3555e-01,\n",
      "        -5.3856e-02, -9.2391e-02, -2.1646e-01, -7.2448e-02,  7.4432e-02,\n",
      "        -5.2361e-02, -3.3805e-02, -1.6733e-02, -8.6288e-02, -9.8427e-02,\n",
      "        -6.3260e-02,  6.1531e-02, -5.4483e-02,  1.4803e-01,  9.0745e-02,\n",
      "        -2.0462e-01, -9.1379e-02,  4.2676e-02, -1.8172e-02,  2.0491e-01,\n",
      "        -1.1739e-01,  6.3848e-02, -8.5985e-02, -2.6271e-02,  8.6855e-02,\n",
      "        -5.6230e-02,  8.3224e-02, -5.6685e-02, -3.8640e-02, -1.1553e-01,\n",
      "        -3.7328e-02, -5.7644e-02,  9.3943e-02, -2.1348e-02,  1.5665e-02,\n",
      "        -9.1951e-02,  1.8116e-02,  8.2230e-02,  2.0778e-02, -2.4614e-02,\n",
      "         9.9229e-03, -4.5591e-02, -2.8384e-02, -3.1123e-02,  8.6577e-02,\n",
      "         2.5252e-02, -6.1560e-02, -3.7577e-02,  5.1437e-03,  1.9090e-02,\n",
      "         1.0391e-05,  3.1859e-02, -1.7097e-02, -1.3503e-02,  7.3746e-02,\n",
      "         1.9272e-02, -4.9529e-02, -6.8374e-02, -6.7394e-03,  2.8277e-02,\n",
      "        -3.9422e-02,  3.2065e-02,  6.1196e-02,  4.6699e-01],\n",
      "       dtype=torch.float64), tensor(0)) torch.Size([129])\n"
     ]
    }
   ],
   "source": [
    "import torchvision.transforms as transforms\n",
    "import pandas as pd\n",
    "\n",
    "data = pd.read_pickle(os.path.join(\"drive/My Drive/nlp\", \"preprocessed_claim_body_full.pkl\"))\n",
    "train_df, test_df = split_train_test(data, train=0.8)\n",
    "\n",
    "train_dataset = ClaimBodyDataset(train_df)\n",
    "test_dataset = ClaimBodyDataset(test_df)\n",
    "# note: mostly zero!\n",
    "for i in range(4):\n",
    "    sample = train_dataset[i]\n",
    "    print(i, sample, sample[0].shape)\n"
   ]
  },
  {
   "cell_type": "code",
   "execution_count": 0,
   "metadata": {
    "colab": {
     "base_uri": "https://localhost:8080/",
     "height": 296
    },
    "colab_type": "code",
    "id": "uZOZ_7IjCJJE",
    "outputId": "a491a257-5e8d-4468-9d32-ed22f2a07b7d"
   },
   "outputs": [
    {
     "data": {
      "text/plain": [
       "[Text(0, 0, 'false'), Text(0, 0, 'partially true'), Text(0, 0, 'true')]"
      ]
     },
     "execution_count": 42,
     "metadata": {
      "tags": []
     },
     "output_type": "execute_result"
    },
    {
     "data": {
      "image/png": "[encoded data removed]",
      "text/plain": [
       "<Figure size 432x288 with 1 Axes>"
      ]
     },
     "metadata": {
      "tags": []
     },
     "output_type": "display_data"
    }
   ],
   "source": [
    "hist = data['label'].hist(bins=3, grid=False)\n",
    "hist.set_xticks([0 ,1 ,2])\n",
    "hist.set_xlabel('Labels')\n",
    "hist.set_ylabel('Number of instances')\n",
    "\n",
    "hist.set_xticklabels(['false', 'partially true', 'true'])"
   ]
  },
  {
   "cell_type": "code",
   "execution_count": 0,
   "metadata": {
    "colab": {
     "base_uri": "https://localhost:8080/",
     "height": 51
    },
    "colab_type": "code",
    "id": "_Bx7uazkmBh-",
    "outputId": "c9f0b2ea-af6a-4d0c-dc88-4ebaf442eae4"
   },
   "outputs": [
    {
     "name": "stdout",
     "output_type": "stream",
     "text": [
      "12444\n",
      "3111\n"
     ]
    }
   ],
   "source": [
    "print(len(train_df.index))\n",
    "print(len(test_df.index))"
   ]
  },
  {
   "cell_type": "code",
   "execution_count": 0,
   "metadata": {
    "colab": {
     "base_uri": "https://localhost:8080/",
     "height": 34
    },
    "colab_type": "code",
    "id": "M5ITnVCIMnHr",
    "outputId": "0712d693-fba2-471d-ae5b-6598c6ecd4c4"
   },
   "outputs": [
    {
     "name": "stdout",
     "output_type": "stream",
     "text": [
      "torch.Size([129, 1])\n"
     ]
    }
   ],
   "source": [
    "# we print some examples to see how sparse this is\n",
    "print(torch.nonzero(sample[0]).size())\n"
   ]
  },
  {
   "cell_type": "code",
   "execution_count": 0,
   "metadata": {
    "colab": {},
    "colab_type": "code",
    "id": "G6LzT3-RaoKH"
   },
   "outputs": [],
   "source": [
    "device = torch.device('cuda')\n"
   ]
  },
  {
   "cell_type": "code",
   "execution_count": 0,
   "metadata": {
    "colab": {
     "base_uri": "https://localhost:8080/",
     "height": 215
    },
    "colab_type": "code",
    "id": "5tR_GL47T_yq",
    "outputId": "567f4a5a-2d43-4c89-96c5-6ab492a29b13"
   },
   "outputs": [
    {
     "ename": "NameError",
     "evalue": "ignored",
     "output_type": "error",
     "traceback": [
      "\u001b[0;31m---------------------------------------------------------------------------\u001b[0m",
      "\u001b[0;31mNameError\u001b[0m                                 Traceback (most recent call last)",
      "\u001b[0;32m<ipython-input-12-1b7f803f5c36>\u001b[0m in \u001b[0;36m<module>\u001b[0;34m()\u001b[0m\n\u001b[1;32m      1\u001b[0m \u001b[0;32mimport\u001b[0m \u001b[0mtorch\u001b[0m\u001b[0;34m.\u001b[0m\u001b[0moptim\u001b[0m \u001b[0;32mas\u001b[0m \u001b[0moptim\u001b[0m\u001b[0;34m\u001b[0m\u001b[0;34m\u001b[0m\u001b[0m\n\u001b[0;32m----> 2\u001b[0;31m \u001b[0mcriterion\u001b[0m \u001b[0;34m=\u001b[0m \u001b[0mtorch\u001b[0m\u001b[0;34m.\u001b[0m\u001b[0mnn\u001b[0m\u001b[0;34m.\u001b[0m\u001b[0mCrossEntropyLoss\u001b[0m\u001b[0;34m(\u001b[0m\u001b[0mweight\u001b[0m\u001b[0;34m=\u001b[0m\u001b[0mtorch\u001b[0m\u001b[0;34m.\u001b[0m\u001b[0mTensor\u001b[0m\u001b[0;34m(\u001b[0m\u001b[0;34m[\u001b[0m\u001b[0;36m0.1\u001b[0m\u001b[0;34m,\u001b[0m \u001b[0;36m0.1\u001b[0m\u001b[0;34m,\u001b[0m \u001b[0;36m0.8\u001b[0m\u001b[0;34m]\u001b[0m\u001b[0;34m)\u001b[0m\u001b[0;34m.\u001b[0m\u001b[0mto\u001b[0m\u001b[0;34m(\u001b[0m\u001b[0mdevice\u001b[0m\u001b[0;34m)\u001b[0m\u001b[0;34m)\u001b[0m\u001b[0;34m\u001b[0m\u001b[0;34m\u001b[0m\u001b[0m\n\u001b[0m\u001b[1;32m      3\u001b[0m \u001b[0moptimizer\u001b[0m \u001b[0;34m=\u001b[0m \u001b[0moptim\u001b[0m\u001b[0;34m.\u001b[0m\u001b[0mAdam\u001b[0m\u001b[0;34m(\u001b[0m\u001b[0mmlp\u001b[0m\u001b[0;34m.\u001b[0m\u001b[0mparameters\u001b[0m\u001b[0;34m(\u001b[0m\u001b[0;34m)\u001b[0m\u001b[0;34m,\u001b[0m \u001b[0mlr\u001b[0m\u001b[0;34m=\u001b[0m\u001b[0;36m1e-3\u001b[0m\u001b[0;34m)\u001b[0m\u001b[0;34m\u001b[0m\u001b[0;34m\u001b[0m\u001b[0m\n\u001b[1;32m      4\u001b[0m \u001b[0;34m\u001b[0m\u001b[0m\n",
      "\u001b[0;31mNameError\u001b[0m: name 'device' is not defined"
     ]
    }
   ],
   "source": [
    "import torch.optim as optim\n",
    "criterion = torch.nn.CrossEntropyLoss(weight=torch.Tensor([0.1, 0.1, 0.8]).to(device))\n",
    "optimizer = optim.Adam(mlp.parameters(), lr=1e-3)\n",
    "\n"
   ]
  },
  {
   "cell_type": "code",
   "execution_count": 0,
   "metadata": {
    "colab": {},
    "colab_type": "code",
    "id": "vR0OP1dwmLg9"
   },
   "outputs": [],
   "source": [
    "import torch\n",
    "import torch.nn as nn\n",
    "import torch.nn.functional as F\n",
    "from torch.autograd import Variable\n",
    "\n",
    "class FocalLoss(nn.Module):\n",
    "    def __init__(self, gamma=2, alpha=.2, size_average=True):\n",
    "        super(FocalLoss, self).__init__()\n",
    "        self.gamma = gamma\n",
    "        self.alpha = alpha\n",
    "        if isinstance(alpha,(float,int,int)): self.alpha = torch.Tensor([alpha,1-alpha])\n",
    "        if isinstance(alpha,list): self.alpha = torch.Tensor(alpha)\n",
    "        self.size_average = size_average\n",
    "\n",
    "    def forward(self, input, target):\n",
    "        if input.dim()>2:\n",
    "            input = input.view(input.size(0),input.size(1),-1)  # N,C,H,W => N,C,H*W\n",
    "            input = input.transpose(1,2)    # N,C,H*W => N,H*W,C\n",
    "            input = input.contiguous().view(-1,input.size(2))   # N,H*W,C => N*H*W,C\n",
    "        y_onehot = one_hot(target.cpu().numpy(), 3) # 3 classes\n",
    "        y_onehot = torch.FloatTensor(y_onehot).to(device).long()\n",
    "        target = y_onehot\n",
    "\n",
    "        # target = target.view(-1,1)\n",
    "        # print(\"taret\", target.size())\n",
    "        logpt = input #F.log_softmax(input)\n",
    "        # print(\"logpt\", logpt.size())\n",
    "\n",
    "        logpt = logpt.gather(1,target)\n",
    "        logpt = logpt.view(-1)\n",
    "        pt = Variable(logpt.data.exp())\n",
    "\n",
    "        if self.alpha is not None:\n",
    "            if self.alpha.type()!=input.data.type():\n",
    "                self.alpha = self.alpha.type_as(input.data)\n",
    "            at = self.alpha.gather(0,target.data.view(-1))\n",
    "            logpt = logpt * Variable(at)\n",
    "\n",
    "        loss = -1 * (1-pt)**self.gamma * logpt\n",
    "        if self.size_average: return loss.mean()\n",
    "        else: return loss.sum()"
   ]
  },
  {
   "cell_type": "code",
   "execution_count": 0,
   "metadata": {
    "colab": {},
    "colab_type": "code",
    "id": "s7vDaMuTXOgu"
   },
   "outputs": [],
   "source": [
    "\n",
    "\n",
    "def dice_loss(input, target):\n",
    "    batch_size = 8\n",
    "    nb_classes = 3\n",
    "    smooth = 1.\n",
    "\n",
    "    y_onehot = one_hot(target.cpu().numpy(), 3) # 3 classes\n",
    "    y_onehot = torch.FloatTensor(y_onehot).to(device)\n",
    "\n",
    "\n",
    "    iflat = input.view(-1)\n",
    "    tflat = y_onehot.view(-1)\n",
    "    intersection = (iflat * tflat).sum()\n",
    "    cardinality = iflat.sum() + tflat.sum()\n",
    "    \n",
    "    return 1 - ((2. * intersection + smooth) /\n",
    "              (cardinality + smooth))\n"
   ]
  },
  {
   "cell_type": "code",
   "execution_count": 0,
   "metadata": {
    "colab": {},
    "colab_type": "code",
    "id": "Ghvx_vPimprQ"
   },
   "outputs": [],
   "source": [
    "def dice_with_logits(input: torch.Tensor, target: torch.Tensor, dim=(-2, -1), reduction='mean', eps=1e-6):\n",
    "    # input = input.sigmoid()\n",
    "    y_onehot = one_hot(target.cpu().numpy(), 3) # 3 classes\n",
    "    y_onehot = torch.FloatTensor(y_onehot).to(device)\n",
    "\n",
    "    target = y_onehot\n",
    "    numerator = 2 * (input * target).sum(dim)\n",
    "    denominator = input.pow(2).sum(dim) + target.pow(2).sum(dim)\n",
    "    dice_losses = -numerator/denominator.clamp(eps)\n",
    "    if reduction == 'sum':\n",
    "        loss = dice_losses.sum()\n",
    "    elif reduction == 'mean':\n",
    "        loss = dice_losses.mean()\n",
    "    elif reduction == 'none':\n",
    "        loss = dice_losses\n",
    "    else:\n",
    "        raise NotImplementedError\n",
    "    return loss\n",
    "  "
   ]
  },
  {
   "cell_type": "code",
   "execution_count": 0,
   "metadata": {
    "colab": {},
    "colab_type": "code",
    "id": "Ug12HAAUVTLm"
   },
   "outputs": [],
   "source": [
    "\n",
    "def train_mlp(trainloader, criterion, optimizer, mlp, device):\n",
    "    \n",
    "    train_losses, train_accuracies = [], []\n",
    "    valid_losses, valid_accuracies = [], []\n",
    "    for epoch in range(10):  # loop over the dataset multiple times\n",
    "        mlp.train()\n",
    "        total_tr, correct_tr = 0, 0\n",
    "        total_val, correct_val = 0, 0\n",
    "        running_loss = 0.0\n",
    "        mean_train_loss = 0.0\n",
    "        mean_valid_loss = 0.0\n",
    "        mean_train_acc = 0.0\n",
    "        mean_valid_acc = 0.0\n",
    "\n",
    "\n",
    "        for i, data in enumerate(trainloader, 0):\n",
    "            # get the inputs; data is a list of [inputs, labels]\n",
    "            inputs, labels = data\n",
    "            inputs = inputs.to(device)\n",
    "            labels = torch.squeeze(labels)\n",
    "            # labels = labels.reshape(1, -1)\n",
    "            labels = labels.to(device)\n",
    "            # zero the parameter gradients\n",
    "            optimizer.zero_grad()\n",
    "\n",
    "            # forward + backward + optimize\n",
    "            \n",
    "            outputs = mlp(inputs.float())\n",
    "            loss = criterion(outputs, labels)\n",
    "            loss.backward()\n",
    "            optimizer.step()\n",
    "            # print(\"loss\", loss.item())\n",
    "            # print statistics\n",
    "\n",
    "            _, predicted_tr = torch.max(outputs.data, 1)\n",
    "            correct_tr += (predicted_tr == labels).sum().item()\n",
    "            incorrect_tr = (predicted_tr != labels).cpu().detach().numpy()\n",
    "            running_loss += loss.item()\n",
    "            mean_train_loss += loss\n",
    "            total_tr += labels.size(0)\n",
    "            acc_tr = correct_tr / total_tr\n",
    "            mean_train_acc += acc_tr\n",
    "            # if i % 500 == 99:    # print every 500 mini-batches\n",
    "            #     print('[%d, %5d] loss: %.3f' %\n",
    "            #           (epoch + 1, i + 1, loss.item()))\n",
    "            #     running_loss = 0.0\n",
    "        mean_train_loss /= i + 1\n",
    "        mean_train_acc /= i + 1\n",
    "\n",
    "\n",
    "        # run eval\n",
    "        mlp.eval()\n",
    "        for i, data in enumerate(valid_loader):\n",
    "            inputs, labels = data\n",
    "\n",
    "            X = inputs.to(device)\n",
    "            Y = torch.LongTensor(labels)\n",
    "            labels = labels.to(device)\n",
    "            Y = Y.T\n",
    "            Y = Y.to(device)\n",
    "            valid_outputs = mlp(X.float())\n",
    "            _, predicted = torch.max(valid_outputs.data, 1)\n",
    "            valid_loss = criterion(valid_outputs, Y)\n",
    "            mean_valid_loss += valid_loss\n",
    "    \n",
    "            total_val += labels.size(0)\n",
    "            _, predicted_val = torch.max(valid_outputs.data, 1)\n",
    "            correct_val += (predicted_val == labels).sum().item()\n",
    "            valid_acc = correct_val/total_val\n",
    "            mean_valid_acc += valid_acc\n",
    "        mean_valid_loss /= i+1\n",
    "        mean_valid_acc /= i+1\n",
    "\n",
    "        # record the results\n",
    "        train_losses.append(mean_train_loss.item())\n",
    "        train_accuracies.append(mean_train_acc)\n",
    "        valid_losses.append(mean_valid_loss.item())\n",
    "        valid_accuracies.append(mean_valid_acc)\n",
    "        print('\\nEpoch {} train_loss: {}, train_acc: {}, valid_loss: {}, valid_acc: {}'.format(epoch,\n",
    "        mean_train_loss.item(), mean_train_acc * 100, mean_valid_loss.item(), mean_valid_acc * 100))\n",
    "  \n",
    "    print('Finished Training')\n",
    "    return train_losses, train_accuracies, valid_losses, valid_accuracies\n"
   ]
  },
  {
   "cell_type": "code",
   "execution_count": 0,
   "metadata": {
    "colab": {},
    "colab_type": "code",
    "id": "xxrppKq7jQ1q"
   },
   "outputs": [],
   "source": [
    "def accuracy(model, data_x, data_y, device):\n",
    "    model = model.eval() \n",
    "\n",
    "    X = data_x\n",
    "    Y = torch.LongTensor(data_y)\n",
    "    Y = Y.T\n",
    "    output = model(X.float())\n",
    "    _, predicted = torch.max(output.data, 1)\n",
    "    \n",
    "    # arg_maxs is tensor of indices [0, 1, 0, 2, 1, 1 . . ]\n",
    "    num_correct = torch.sum(Y==predicted)\n",
    "    acc = (num_correct * 100.0 / len(data_y))\n",
    "    return acc.item()  # percentage format\n"
   ]
  },
  {
   "cell_type": "code",
   "execution_count": 0,
   "metadata": {
    "colab": {},
    "colab_type": "code",
    "id": "RnnoxT-4pjSN"
   },
   "outputs": [],
   "source": [
    "from torch.utils.data.sampler import SubsetRandomSampler\n",
    "\n",
    "def create_train_test(dataset):\n",
    "    validation_split = .2\n",
    "    shuffle_dataset = True\n",
    "    random_seed= 42\n",
    "    batch_size = 8\n",
    "    # Creating data indices for training and validation splits:\n",
    "    dataset_size = len(dataset)\n",
    "    indices = list(range(dataset_size))\n",
    "    split = int(np.floor(validation_split * dataset_size))\n",
    "    if shuffle_dataset :\n",
    "        np.random.seed(random_seed)\n",
    "        np.random.shuffle(indices)\n",
    "    train_indices, val_indices = indices[split:], indices[:split]\n",
    "\n",
    "    \n",
    "    # Creating PT data samplers and loaders:\n",
    "    # train_sampler = SubsetRandomSampler(train_indices)\n",
    "    valid_sampler = SubsetRandomSampler(val_indices)\n",
    "\n",
    "    # train_loader = torch.utils.data.DataLoader(dataset, batch_size=batch_size, \n",
    "                                          #  sampler=train_sampler, drop_last=True)\n",
    "    validation_loader = torch.utils.data.DataLoader(dataset, batch_size=batch_size,\n",
    "                                                sampler=valid_sampler, drop_last=True)\n",
    "    return validation_loader\n",
    "    # return train_loader, validation_loader\n",
    "\n",
    "def rebal_create_train_test(dataset, df):\n",
    "\n",
    "    class_sample_count = np.array([len(np.where(df['label']==t)[0]) for t in df['label'].unique()])\n",
    "    weight = 1. / class_sample_count\n",
    "    samples_weight = np.array([weight[t] for t in df['label']])\n",
    "\n",
    "    samples_weight = torch.from_numpy(samples_weight)\n",
    "    print(\"samples_weight\", samples_weight.size())\n",
    "    batch_size = 8\n",
    "    sampler = torch.utils.data.sampler.WeightedRandomSampler(samples_weight, len(samples_weight))\n",
    "    loader = torch.utils.data.DataLoader(dataset, batch_size=batch_size, \n",
    "                                           sampler=sampler, drop_last=True)\n",
    "    return loader\n",
    "\n",
    "def create_val_test(dataset, df):\n",
    "    batch_size = 8\n",
    "    loader = torch.utils.data.DataLoader(dataset, batch_size=batch_size, \n",
    "                                            drop_last=True)\n",
    "    return loader\n"
   ]
  },
  {
   "cell_type": "code",
   "execution_count": 0,
   "metadata": {
    "colab": {},
    "colab_type": "code",
    "id": "GRvXkk0nvupi"
   },
   "outputs": [],
   "source": [
    "from sklearn.metrics import classification_report\n",
    "from sklearn.metrics import f1_score\n",
    "def valid_acc_report(val_loader, device, model):\n",
    "    \"\"\"\n",
    "    A detailed validation set report, from SKlearn's classification report\n",
    "    \"\"\"\n",
    "    y_pred = []\n",
    "    y_true = []\n",
    "    # target_names = ['false', 'partially true', 'true']\n",
    "    for i, data in enumerate(val_loader, 0):\n",
    "        inputs, labels = data\n",
    "\n",
    "        model = model.eval() \n",
    "\n",
    "        X = inputs.to(device)\n",
    "        Y = torch.LongTensor(labels)\n",
    "        Y = Y.T\n",
    "        Y = Y.to(device)\n",
    "        output = model(X.float())\n",
    "        _, predicted = torch.max(output.data, 1)\n",
    "        y_pred.append(predicted.cpu().numpy())\n",
    "        y_true.append(Y.cpu().numpy())\n",
    "    \n",
    "    y_pred = np.array(y_pred).flatten()\n",
    "    y_true = np.array(y_true).flatten()\n",
    "    print(y_true)\n",
    "    print(y_pred)\n",
    "    print(classification_report(y_true, y_pred)) #, target_names=target_names))\n",
    "    print(f1_score(y_true, y_pred, average='weighted'))\n",
    "        \n"
   ]
  },
  {
   "cell_type": "code",
   "execution_count": 0,
   "metadata": {
    "colab": {
     "base_uri": "https://localhost:8080/",
     "height": 34
    },
    "colab_type": "code",
    "id": "frsHZGNEo52R",
    "outputId": "8bb21a77-7db0-4c13-d6a8-25d0719e6abc"
   },
   "outputs": [
    {
     "name": "stdout",
     "output_type": "stream",
     "text": [
      "samples_weight torch.Size([12444])\n"
     ]
    }
   ],
   "source": [
    "train_loader = rebal_create_train_test(train_dataset, train_df)\n",
    "valid_loader = create_val_test(test_dataset, test_df)"
   ]
  },
  {
   "cell_type": "code",
   "execution_count": 0,
   "metadata": {
    "colab": {
     "base_uri": "https://localhost:8080/",
     "height": 1000
    },
    "colab_type": "code",
    "id": "5KvdufIco5cR",
    "outputId": "6647e7d7-5c89-457a-e66d-18976bd56f1c"
   },
   "outputs": [
    {
     "name": "stdout",
     "output_type": "stream",
     "text": [
      "device cuda\n"
     ]
    },
    {
     "name": "stderr",
     "output_type": "stream",
     "text": [
      "/usr/local/lib/python3.6/dist-packages/ipykernel_launcher.py:15: UserWarning: Implicit dimension choice for log_softmax has been deprecated. Change the call to include dim=X as an argument.\n",
      "  from ipykernel import kernelapp as app\n"
     ]
    },
    {
     "name": "stdout",
     "output_type": "stream",
     "text": [
      "\n",
      "Epoch 0 train_loss: 1.064582109451294, train_acc: 39.6372076733075, valid_loss: 1.1658573150634766, valid_acc: 32.9375924113321\n",
      "\n",
      "Epoch 1 train_loss: 1.0291755199432373, train_acc: 50.81008337764508, valid_loss: 1.1529911756515503, valid_acc: 35.55831326988807\n",
      "\n",
      "Epoch 2 train_loss: 1.007463812828064, train_acc: 53.44424621927991, valid_loss: 1.1754753589630127, valid_acc: 36.57297418786117\n",
      "\n",
      "Epoch 3 train_loss: 0.9901549220085144, train_acc: 55.45369062682217, valid_loss: 1.170036792755127, valid_acc: 37.66019233008679\n",
      "\n",
      "Epoch 4 train_loss: 0.9612773656845093, train_acc: 57.6184562937836, valid_loss: 1.1958706378936768, valid_acc: 36.8682390659026\n",
      "\n",
      "Epoch 5 train_loss: 0.9366679191589355, train_acc: 58.88955283136189, valid_loss: 1.199886441230774, valid_acc: 35.256582612933016\n",
      "\n",
      "Epoch 6 train_loss: 0.917393147945404, train_acc: 61.55254845846976, valid_loss: 1.1876857280731201, valid_acc: 38.230670394466365\n",
      "\n",
      "Epoch 7 train_loss: 0.8994804620742798, train_acc: 63.03429315520835, valid_loss: 1.2120639085769653, valid_acc: 37.69456518161623\n",
      "\n",
      "Epoch 8 train_loss: 0.8782653212547302, train_acc: 64.15419600084353, valid_loss: 1.2244808673858643, valid_acc: 36.72464523923241\n",
      "\n",
      "Epoch 9 train_loss: 0.8610520958900452, train_acc: 65.1915900099362, valid_loss: 1.2277787923812866, valid_acc: 38.36277390660427\n",
      "\n",
      "Epoch 10 train_loss: 0.8411558866500854, train_acc: 65.46546150954327, valid_loss: 1.2377398014068604, valid_acc: 37.65357216147967\n",
      "\n",
      "Epoch 11 train_loss: 0.831565260887146, train_acc: 66.52419982011867, valid_loss: 1.2482306957244873, valid_acc: 38.839605434360045\n",
      "\n",
      "Epoch 12 train_loss: 0.8019877672195435, train_acc: 67.50722670286149, valid_loss: 1.304704189300537, valid_acc: 36.336484942982736\n",
      "\n",
      "Epoch 13 train_loss: 0.799427330493927, train_acc: 68.43570035914924, valid_loss: 1.2611294984817505, valid_acc: 38.81422723076227\n",
      "\n",
      "Epoch 14 train_loss: 0.7902105450630188, train_acc: 69.4407690585033, valid_loss: 1.2743064165115356, valid_acc: 37.27950940908686\n",
      "\n",
      "Epoch 15 train_loss: 0.7691348791122437, train_acc: 70.48303158256947, valid_loss: 1.3087680339813232, valid_acc: 37.28316963056136\n",
      "\n",
      "Epoch 16 train_loss: 0.7666172981262207, train_acc: 71.06821766278321, valid_loss: 1.281744360923767, valid_acc: 39.56362237025274\n",
      "\n",
      "Epoch 17 train_loss: 0.7549874186515808, train_acc: 71.25293098279495, valid_loss: 1.3199101686477661, valid_acc: 39.236189347094275\n",
      "\n",
      "Epoch 18 train_loss: 0.7416908144950867, train_acc: 71.1708832984149, valid_loss: 1.3321988582611084, valid_acc: 39.37289340565567\n",
      "\n",
      "Epoch 19 train_loss: 0.7340009808540344, train_acc: 72.10266830731517, valid_loss: 1.2967272996902466, valid_acc: 40.01239379374364\n",
      "\n",
      "Epoch 20 train_loss: 0.725669264793396, train_acc: 72.690544858136, valid_loss: 1.3295295238494873, valid_acc: 39.045427035899465\n",
      "\n",
      "Epoch 21 train_loss: 0.7152498960494995, train_acc: 72.13806631037875, valid_loss: 1.3219177722930908, valid_acc: 39.4746682455142\n",
      "\n",
      "Epoch 22 train_loss: 0.7071565389633179, train_acc: 73.28041224900548, valid_loss: 1.3575400114059448, valid_acc: 38.34422619988772\n",
      "\n",
      "Epoch 23 train_loss: 0.7074519395828247, train_acc: 73.24228518813398, valid_loss: 1.3747963905334473, valid_acc: 40.41048001032036\n",
      "\n",
      "Epoch 24 train_loss: 0.6974932551383972, train_acc: 73.77876986665942, valid_loss: 1.3710553646087646, valid_acc: 38.75419357652949\n",
      "\n",
      "Epoch 25 train_loss: 0.6939515471458435, train_acc: 73.87472957447508, valid_loss: 1.3815728425979614, valid_acc: 39.32246881916883\n",
      "\n",
      "Epoch 26 train_loss: 0.6793421506881714, train_acc: 74.49642651950853, valid_loss: 1.3888388872146606, valid_acc: 39.937199835410006\n",
      "\n",
      "Epoch 27 train_loss: 0.6780189275741577, train_acc: 73.97064046242822, valid_loss: 1.4390960931777954, valid_acc: 38.13266921274257\n",
      "\n",
      "Epoch 28 train_loss: 0.6716378927230835, train_acc: 75.00671647556901, valid_loss: 1.408130407333374, valid_acc: 39.060658738039436\n",
      "\n",
      "Epoch 29 train_loss: 0.6610680818557739, train_acc: 75.23720269499957, valid_loss: 1.4131430387496948, valid_acc: 39.527419046129495\n",
      "Finished Training\n"
     ]
    }
   ],
   "source": [
    "# NOTE:this only tests on the original training set\n",
    "# need to figure out this train vs test vectorizer fit issue\n",
    "# see https://github.com/uclnlp/fakenewschallenge/blob/badc65fb8d06b840ab25093ea5fdd4bc3a365c30/pred.py#L53\n",
    "\n",
    "device = torch.device('cuda' if torch.cuda.is_available() else 'cpu')\n",
    "print(\"device\", device)\n",
    "mlp = Net()\n",
    "\n",
    "mlp = mlp.to(device)\n",
    "\n",
    "# another one with reweigth\n",
    "criterion = torch.nn.CrossEntropyLoss()\n",
    "# criterion = FocalLoss() give 30% train, 70% test, but only learned partially true, or dice_loss()\n",
    "optimizer = optim.Adam(mlp.parameters(), lr=1e-3)\n",
    "\n",
    "train_losses, train_accuracies, valid_losses, valid_accuracies = train_mlp(train_loader, criterion, optimizer, mlp, device)"
   ]
  },
  {
   "cell_type": "code",
   "execution_count": 0,
   "metadata": {
    "colab": {
     "base_uri": "https://localhost:8080/",
     "height": 428
    },
    "colab_type": "code",
    "id": "Nm38PyVr-obU",
    "outputId": "b731bfdf-40b4-4eb0-b293-de8f0ffde7c0"
   },
   "outputs": [
    {
     "name": "stderr",
     "output_type": "stream",
     "text": [
      "/usr/local/lib/python3.6/dist-packages/ipykernel_launcher.py:15: UserWarning: Implicit dimension choice for log_softmax has been deprecated. Change the call to include dim=X as an argument.\n",
      "  from ipykernel import kernelapp as app\n"
     ]
    },
    {
     "name": "stdout",
     "output_type": "stream",
     "text": [
      "\n",
      "Epoch 0 train_loss: 0.6589701175689697, train_acc: 76.18821608100117, valid_loss: 1.3887832164764404, valid_acc: 40.01792061922994\n",
      "\n",
      "Epoch 1 train_loss: 0.652056097984314, train_acc: 76.17252376656648, valid_loss: 1.4808026552200317, valid_acc: 39.1582900043939\n",
      "\n",
      "Epoch 2 train_loss: 0.6485286355018616, train_acc: 76.42817774045085, valid_loss: 1.445001244544983, valid_acc: 39.15339265295653\n",
      "\n",
      "Epoch 3 train_loss: 0.6389092206954956, train_acc: 76.93271101932963, valid_loss: 1.4267200231552124, valid_acc: 40.08558334253368\n",
      "\n",
      "Epoch 4 train_loss: 0.6491318345069885, train_acc: 76.08449173965242, valid_loss: 1.4487345218658447, valid_acc: 39.55267700390351\n",
      "\n",
      "Epoch 5 train_loss: 0.6401678323745728, train_acc: 76.76893002615952, valid_loss: 1.4548951387405396, valid_acc: 40.25895946153169\n",
      "\n",
      "Epoch 6 train_loss: 0.6325985789299011, train_acc: 76.46077179109322, valid_loss: 1.473334550857544, valid_acc: 39.36075646595149\n",
      "\n",
      "Epoch 7 train_loss: 0.6304131746292114, train_acc: 77.28939766465874, valid_loss: 1.5277961492538452, valid_acc: 38.5092688106284\n",
      "\n",
      "Epoch 8 train_loss: 0.63230961561203, train_acc: 76.77204192095856, valid_loss: 1.5002964735031128, valid_acc: 38.80878772655296\n",
      "\n",
      "Epoch 9 train_loss: 0.6210644245147705, train_acc: 78.3771469849086, valid_loss: 1.514966607093811, valid_acc: 38.56501177117464\n",
      "Finished Training\n"
     ]
    }
   ],
   "source": [
    "train_losses, train_accuracies, valid_losses, valid_accuracies = train_mlp(train_loader, criterion, optimizer, mlp, device)"
   ]
  },
  {
   "cell_type": "code",
   "execution_count": 0,
   "metadata": {
    "colab": {
     "base_uri": "https://localhost:8080/",
     "height": 292
    },
    "colab_type": "code",
    "id": "yziF_VlLxxQj",
    "outputId": "8cfae621-f79a-430c-89a5-99a365c70ea9"
   },
   "outputs": [
    {
     "name": "stderr",
     "output_type": "stream",
     "text": [
      "/usr/local/lib/python3.6/dist-packages/ipykernel_launcher.py:15: UserWarning: Implicit dimension choice for log_softmax has been deprecated. Change the call to include dim=X as an argument.\n",
      "  from ipykernel import kernelapp as app\n"
     ]
    },
    {
     "name": "stdout",
     "output_type": "stream",
     "text": [
      "[1 2 2 ... 2 1 0]\n",
      "[0 0 1 ... 2 2 1]\n",
      "                precision    recall  f1-score   support\n",
      "\n",
      "         false       0.49      0.42      0.45      1446\n",
      "partially true       0.42      0.41      0.42      1324\n",
      "          true       0.13      0.23      0.17       334\n",
      "\n",
      "      accuracy                           0.39      3104\n",
      "     macro avg       0.35      0.35      0.35      3104\n",
      "  weighted avg       0.42      0.39      0.41      3104\n",
      "\n",
      "0.40619385627114063\n"
     ]
    }
   ],
   "source": [
    "# val loader is the regular one, validation loader is the rebalanced one\n",
    "valid_acc_report(valid_loader, device, mlp)\n"
   ]
  },
  {
   "cell_type": "code",
   "execution_count": 0,
   "metadata": {
    "colab": {
     "base_uri": "https://localhost:8080/",
     "height": 292
    },
    "colab_type": "code",
    "id": "FgaN8ZgfifOp",
    "outputId": "d5990fad-1e89-4c78-e928-6dd70a8cadd1"
   },
   "outputs": [
    {
     "name": "stderr",
     "output_type": "stream",
     "text": [
      "/usr/local/lib/python3.6/dist-packages/ipykernel_launcher.py:15: UserWarning: Implicit dimension choice for log_softmax has been deprecated. Change the call to include dim=X as an argument.\n",
      "  from ipykernel import kernelapp as app\n"
     ]
    },
    {
     "name": "stdout",
     "output_type": "stream",
     "text": [
      "[0 0 1 ... 0 0 1]\n",
      "[0 0 1 ... 0 0 1]\n",
      "              precision    recall  f1-score   support\n",
      "\n",
      "           0       0.78      0.73      0.76      5954\n",
      "           1       0.76      0.78      0.77      5125\n",
      "           2       0.73      0.84      0.78      1361\n",
      "\n",
      "    accuracy                           0.77     12440\n",
      "   macro avg       0.76      0.78      0.77     12440\n",
      "weighted avg       0.77      0.77      0.76     12440\n",
      "\n",
      "0.7649047533391684\n"
     ]
    }
   ],
   "source": [
    "train_loader_for_val = torch.utils.data.DataLoader(train_dataset, batch_size=8, \n",
    "                                            drop_last=True)\n",
    "valid_acc_report(train_loader_for_val, device, mlp)\n"
   ]
  },
  {
   "cell_type": "code",
   "execution_count": 0,
   "metadata": {
    "colab": {},
    "colab_type": "code",
    "id": "G5Jt4szU7LIr"
   },
   "outputs": [],
   "source": [
    "f1_score(y_true, y_pred, average='weighted')"
   ]
  },
  {
   "cell_type": "code",
   "execution_count": 0,
   "metadata": {
    "colab": {
     "base_uri": "https://localhost:8080/",
     "height": 573
    },
    "colab_type": "code",
    "id": "Wqbkf1-_xXvc",
    "outputId": "8f09d462-f7d3-4376-916a-d1ec6ba52e7f"
   },
   "outputs": [
    {
     "data": {
      "image/png": "[encoded data removed]",
      "text/plain": [
       "<Figure size 432x288 with 1 Axes>"
      ]
     },
     "metadata": {
      "tags": []
     },
     "output_type": "display_data"
    },
    {
     "data": {
      "image/png": "[encoded data removed]",
      "text/plain": [
       "<Figure size 432x288 with 1 Axes>"
      ]
     },
     "metadata": {
      "tags": []
     },
     "output_type": "display_data"
    }
   ],
   "source": [
    "%matplotlib inline\n",
    "import matplotlib.pyplot as plt\n",
    "num_epochs = 30\n",
    "plt.title('MLP Learning Curves - Loss')\n",
    "plt.plot(range(num_epochs), train_losses, color='blue', label='Training loss')\n",
    "plt.plot(range(num_epochs), valid_losses, color='red', label='Validation loss')\n",
    "plt.xlabel('Number of epochs')\n",
    "plt.ylabel('Loss')\n",
    "plt.legend()\n",
    "plt.show()\n",
    "\n",
    "plt.title('MLP Learning Curves - Accuracy')\n",
    "plt.plot(range(num_epochs), train_accuracies, color='blue', label='Training accuracy')\n",
    "plt.plot(range(num_epochs), valid_accuracies, color='red', label='Validation accuracy')\n",
    "plt.xlabel('Number of epochs')\n",
    "plt.ylabel('Accuracy')\n",
    "plt.legend()\n",
    "plt.show()"
   ]
  },
  {
   "cell_type": "code",
   "execution_count": 0,
   "metadata": {
    "colab": {
     "base_uri": "https://localhost:8080/",
     "height": 34
    },
    "colab_type": "code",
    "id": "CTiNSeIdSV2X",
    "outputId": "c3abdbf9-94f3-44dd-d550-c512f16d2320"
   },
   "outputs": [
    {
     "name": "stdout",
     "output_type": "stream",
     "text": [
      "'My Drive'\n"
     ]
    }
   ],
   "source": [
    "#!ls drive/My\\ Drive\n",
    "MY_HOME = 'drive/My Drive/' #metadata_articles_dataframe.pkl\n",
    "!ls drive"
   ]
  },
  {
   "cell_type": "code",
   "execution_count": 0,
   "metadata": {
    "colab": {},
    "colab_type": "code",
    "id": "vSrl0clM1r8C"
   },
   "outputs": [],
   "source": [
    "import pandas as pd\n",
    "import os\n",
    "import string\n",
    "data = pd.read_pickle(os.path.join(MY_HOME, \"nlp/preprocessed_training_dataframe.pkl\"))\n",
    "# define documents\n",
    "docs = data['X'][0:12000]\n",
    "\n"
   ]
  },
  {
   "cell_type": "markdown",
   "metadata": {
    "colab_type": "text",
    "id": "S3tdQdMLcFuG"
   },
   "source": [
    "# KERAS to try the word embedding method\n",
    "- [ ] separate them into proper functions\n",
    "- [ ] try to use the FC and fit_transform of SKLEARN TFIDF"
   ]
  },
  {
   "cell_type": "code",
   "execution_count": 0,
   "metadata": {
    "colab": {},
    "colab_type": "code",
    "id": "WN7BdkbM41H-"
   },
   "outputs": [],
   "source": [
    "from keras import backend as K\n",
    "\n",
    "def recall_m(y_true, y_pred):\n",
    "        true_positives = K.sum(K.round(K.clip(y_true * y_pred, 0, 1)))\n",
    "        possible_positives = K.sum(K.round(K.clip(y_true, 0, 1)))\n",
    "        recall = true_positives / (possible_positives + K.epsilon())\n",
    "        return recall\n",
    "\n",
    "def precision_m(y_true, y_pred):\n",
    "        true_positives = K.sum(K.round(K.clip(y_true * y_pred, 0, 1)))\n",
    "        predicted_positives = K.sum(K.round(K.clip(y_pred, 0, 1)))\n",
    "        precision = true_positives / (predicted_positives + K.epsilon())\n",
    "        return precision\n",
    "\n",
    "def f1_m(y_true, y_pred):\n",
    "    precision = precision_m(y_true, y_pred)\n",
    "    recall = recall_m(y_true, y_pred)\n",
    "    return 2*((precision*recall)/(precision+recall+K.epsilon()))"
   ]
  },
  {
   "cell_type": "code",
   "execution_count": 0,
   "metadata": {
    "colab": {
     "base_uri": "https://localhost:8080/",
     "height": 561
    },
    "colab_type": "code",
    "id": "JOh6gDWEcEN9",
    "outputId": "a7865feb-52f5-4620-9c53-b3ec18f11259"
   },
   "outputs": [
    {
     "name": "stdout",
     "output_type": "stream",
     "text": [
      "id\n",
      "0        0\n",
      "1        2\n",
      "4        1\n",
      "5        2\n",
      "6        2\n",
      "        ..\n",
      "13211    2\n",
      "13212    0\n",
      "13213    1\n",
      "13214    1\n",
      "13215    0\n",
      "Name: label, Length: 12000, dtype: int64\n",
      "Loaded 400000 word vectors.\n",
      "Model: \"sequential_2\"\n",
      "_________________________________________________________________\n",
      "Layer (type)                 Output Shape              Param #   \n",
      "=================================================================\n",
      "embedding_2 (Embedding)      (None, 20, 50)            16058550  \n",
      "_________________________________________________________________\n",
      "flatten_2 (Flatten)          (None, 1000)              0         \n",
      "_________________________________________________________________\n",
      "dense_3 (Dense)              (None, 32)                32032     \n",
      "_________________________________________________________________\n",
      "dense_4 (Dense)              (None, 3)                 99        \n",
      "=================================================================\n",
      "Total params: 16,090,681\n",
      "Trainable params: 32,131\n",
      "Non-trainable params: 16,058,550\n",
      "_________________________________________________________________\n",
      "None\n"
     ]
    },
    {
     "data": {
      "text/plain": [
       "<keras.callbacks.History at 0x7f7409034b00>"
      ]
     },
     "execution_count": 18,
     "metadata": {
      "tags": []
     },
     "output_type": "execute_result"
    }
   ],
   "source": [
    "from numpy import array\n",
    "from numpy import asarray\n",
    "from numpy import zeros\n",
    "from keras.preprocessing.text import Tokenizer\n",
    "from keras.preprocessing.sequence import pad_sequences\n",
    "from keras.models import Sequential\n",
    "from keras.layers import Dense\n",
    "from keras.layers import Flatten\n",
    "from keras.layers import Embedding\n",
    "import pandas as pd\n",
    "import os\n",
    "\n",
    "data = pd.read_pickle(os.path.join(MY_HOME, \"nlp/preprocessed_training_dataframe.pkl\"))\n",
    "# define documents\n",
    "docs = data['X'][0:12000]\n",
    "# define class labels\n",
    "labels = data['label'][0:12000]\n",
    "print(labels)\n",
    "# convert labels to onehot\n",
    "labels = one_hot(labels, 3)\n",
    "# prepare tokenizer\n",
    "t = Tokenizer()\n",
    "t.fit_on_texts(docs)\n",
    "vocab_size = len(t.word_index) + 1\n",
    "# integer encode the documents\n",
    "encoded_docs = t.texts_to_sequences(docs)\n",
    "# pad documents to a max length of 300 words\n",
    "max_length = 20\n",
    "padded_docs = pad_sequences(encoded_docs, maxlen=max_length, padding='post', truncating='post')\n",
    "# load the whole embedding into memory\n",
    "embeddings_index = dict()\n",
    "f = open(os.path.join(MY_HOME, 'nlp/glove.6B.50d.txt'))\n",
    "for line in f:\n",
    "\tvalues = line.split()\n",
    "\tword = values[0]\n",
    "\tcoefs = asarray(values[1:], dtype='float32')\n",
    "\tembeddings_index[word] = coefs\n",
    "f.close()\n",
    "print('Loaded %s word vectors.' % len(embeddings_index))\n",
    "# create a weight matrix for words in training docs\n",
    "embedding_matrix = zeros((vocab_size, 50))\n",
    "for word, i in t.word_index.items():\n",
    "\tembedding_vector = embeddings_index.get(word)\n",
    "\tif embedding_vector is not None:\n",
    "\t\tembedding_matrix[i] = embedding_vector\n",
    "# define model\n",
    "model = Sequential()\n",
    "e = Embedding(vocab_size, 50, weights=[embedding_matrix], input_length=max_length, trainable=False)\n",
    "model.add(e)\n",
    "model.add(Flatten())\n",
    "model.add(Dense(32))\n",
    "model.add(Dense(3, activation='sigmoid'))\n",
    "# compile the model\n",
    "model.compile(optimizer='adam', loss='binary_crossentropy', metrics=['accuracy', f1_m,precision_m, recall_m])\n",
    "# summarize the model\n",
    "print(model.summary())\n",
    "# fit the model\n",
    "model.fit(padded_docs, labels, epochs=100, verbose=0)\n"
   ]
  },
  {
   "cell_type": "code",
   "execution_count": 0,
   "metadata": {
    "colab": {
     "base_uri": "https://localhost:8080/",
     "height": 272
    },
    "colab_type": "code",
    "id": "ipOjvbfMcCyU",
    "outputId": "486230f4-a7d8-41fd-9030-48b8a3682f42"
   },
   "outputs": [
    {
     "name": "stdout",
     "output_type": "stream",
     "text": [
      "id\n",
      "13216    1\n",
      "13217    0\n",
      "13218    1\n",
      "13219    2\n",
      "13220    0\n",
      "        ..\n",
      "17137    2\n",
      "17138    0\n",
      "17139    0\n",
      "17140    2\n",
      "17141    1\n",
      "Name: label, Length: 3555, dtype: int64\n",
      "Accuracy: 63.769340\n",
      "f1_score, precision, recall 0.36785523177199225 0.43943006579886007 0.3181434599156118\n"
     ]
    }
   ],
   "source": [
    "# evaluate the model\n",
    "# define documents\n",
    "docs = data['X'][12000:15555]\n",
    "# define class labels\n",
    "labels = data['label'][12000:15555]\n",
    "print(labels)\n",
    "# convert labels to onehot\n",
    "labels = one_hot(labels, 3)\n",
    "# prepare tokenizer\n",
    "t = Tokenizer()\n",
    "t.fit_on_texts(docs)\n",
    "vocab_size = len(t.word_index) + 1\n",
    "# integer encode the documents\n",
    "encoded_docs = t.texts_to_sequences(docs)\n",
    "# pad documents to a max length of 4 words\n",
    "max_length = 20\n",
    "padded_docs = pad_sequences(encoded_docs, maxlen=max_length, padding='post')\n",
    "\n",
    "loss, accuracy, f1_score, precision, recall = model.evaluate(padded_docs, labels, verbose=0)\n",
    "print('Accuracy: %f' % (accuracy*100))\n",
    "print(\"f1_score, precision, recall\", f1_score, precision, recall)"
   ]
  },
  {
   "cell_type": "code",
   "execution_count": 0,
   "metadata": {
    "colab": {
     "base_uri": "https://localhost:8080/",
     "height": 204
    },
    "colab_type": "code",
    "id": "d6erWWMf4pGn",
    "outputId": "2f847310-ac23-4134-9871-a895f3e9c98b"
   },
   "outputs": [
    {
     "name": "stdout",
     "output_type": "stream",
     "text": [
      "3555/3555 [==============================] - 0s 18us/step\n",
      "              precision    recall  f1-score   support\n",
      "\n",
      "           0       0.46      0.53      0.49      1638\n",
      "           1       0.43      0.45      0.44      1530\n",
      "           2       0.10      0.02      0.03       387\n",
      "\n",
      "    accuracy                           0.44      3555\n",
      "   macro avg       0.33      0.33      0.32      3555\n",
      "weighted avg       0.41      0.44      0.42      3555\n",
      "\n"
     ]
    }
   ],
   "source": [
    "from sklearn.metrics import classification_report\n",
    "y_pred = model.predict_classes(padded_docs, batch_size=64, verbose=1)\n",
    "# y_pred_bool = np.argmax(y_pred, axis=1)\n",
    "\n",
    "print(classification_report(np.argmax(labels, axis=1), y_pred))"
   ]
  }
 ],
 "metadata": {
  "accelerator": "GPU",
  "colab": {
   "collapsed_sections": [],
   "machine_shape": "hm",
   "name": "Copy of text_sentiment_ngrams_tutorial.ipynb",
   "provenance": []
  },
  "kernelspec": {
   "display_name": "Python 3",
   "language": "python",
   "name": "python3"
  },
  "language_info": {
   "codemirror_mode": {
    "name": "ipython",
    "version": 3
   },
   "file_extension": ".py",
   "mimetype": "text/x-python",
   "name": "python",
   "nbconvert_exporter": "python",
   "pygments_lexer": "ipython3",
   "version": "3.6.7"
  }
 },
 "nbformat": 4,
 "nbformat_minor": 1
}
