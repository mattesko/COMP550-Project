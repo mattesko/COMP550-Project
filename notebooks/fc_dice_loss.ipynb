{
  "nbformat": 4,
  "nbformat_minor": 0,
  "metadata": {
    "kernelspec": {
      "name": "python3",
      "display_name": "Python 3"
    },
    "language_info": {
      "codemirror_mode": {
        "name": "ipython",
        "version": 3
      },
      "file_extension": ".py",
      "mimetype": "text/x-python",
      "name": "python",
      "nbconvert_exporter": "python",
      "pygments_lexer": "ipython3",
      "version": "3.6.8"
    },
    "colab": {
      "name": "Copy of text_sentiment_ngrams_tutorial.ipynb",
      "provenance": [],
      "collapsed_sections": [],
      "machine_shape": "hm"
    },
    "accelerator": "GPU"
  },
  "cells": [
    {
      "cell_type": "markdown",
      "metadata": {
        "id": "-qkt0rqbRxG7",
        "colab_type": "text"
      },
      "source": [
        "** Read stuff from your own gdrive**"
      ]
    },
    {
      "cell_type": "code",
      "metadata": {
        "id": "n49pRSfNKtbA",
        "colab_type": "code",
        "outputId": "89e08372-79c7-48c7-e96a-f065e8da5274",
        "colab": {
          "base_uri": "https://localhost:8080/",
          "height": 429
        }
      },
      "source": [
        "!pip install torch<=1.2.0\n",
        "!pip install torchtext==0.4\n",
        "%matplotlib inline"
      ],
      "execution_count": 0,
      "outputs": [
        {
          "output_type": "stream",
          "text": [
            "/bin/bash: =1.2.0: No such file or directory\n",
            "Collecting torchtext==0.4\n",
            "\u001b[?25l  Downloading https://files.pythonhosted.org/packages/43/94/929d6bd236a4fb5c435982a7eb9730b78dcd8659acf328fd2ef9de85f483/torchtext-0.4.0-py3-none-any.whl (53kB)\n",
            "\u001b[K     |████████████████████████████████| 61kB 2.8MB/s \n",
            "\u001b[?25hRequirement already satisfied: six in /usr/local/lib/python3.6/dist-packages (from torchtext==0.4) (1.12.0)\n",
            "Requirement already satisfied: torch in /usr/local/lib/python3.6/dist-packages (from torchtext==0.4) (1.3.1+cu100)\n",
            "Requirement already satisfied: requests in /usr/local/lib/python3.6/dist-packages (from torchtext==0.4) (2.21.0)\n",
            "Requirement already satisfied: numpy in /usr/local/lib/python3.6/dist-packages (from torchtext==0.4) (1.17.4)\n",
            "Requirement already satisfied: tqdm in /usr/local/lib/python3.6/dist-packages (from torchtext==0.4) (4.28.1)\n",
            "Requirement already satisfied: idna<2.9,>=2.5 in /usr/local/lib/python3.6/dist-packages (from requests->torchtext==0.4) (2.8)\n",
            "Requirement already satisfied: certifi>=2017.4.17 in /usr/local/lib/python3.6/dist-packages (from requests->torchtext==0.4) (2019.9.11)\n",
            "Requirement already satisfied: chardet<3.1.0,>=3.0.2 in /usr/local/lib/python3.6/dist-packages (from requests->torchtext==0.4) (3.0.4)\n",
            "Requirement already satisfied: urllib3<1.25,>=1.21.1 in /usr/local/lib/python3.6/dist-packages (from requests->torchtext==0.4) (1.24.3)\n",
            "Installing collected packages: torchtext\n",
            "  Found existing installation: torchtext 0.3.1\n",
            "    Uninstalling torchtext-0.3.1:\n",
            "      Successfully uninstalled torchtext-0.3.1\n",
            "Successfully installed torchtext-0.4.0\n"
          ],
          "name": "stdout"
        },
        {
          "output_type": "display_data",
          "data": {
            "application/vnd.colab-display-data+json": {
              "pip_warning": {
                "packages": [
                  "torchtext"
                ]
              }
            }
          },
          "metadata": {
            "tags": []
          }
        }
      ]
    },
    {
      "cell_type": "code",
      "metadata": {
        "id": "D6vcbT3cK0g8",
        "colab_type": "code",
        "outputId": "d5630288-14ff-4e63-90e7-d4f229eb03e7",
        "colab": {
          "base_uri": "https://localhost:8080/",
          "height": 258
        }
      },
      "source": [
        "!pip install PyDrive\n",
        "\n"
      ],
      "execution_count": 0,
      "outputs": [
        {
          "output_type": "stream",
          "text": [
            "Requirement already satisfied: PyDrive in /usr/local/lib/python3.6/dist-packages (1.3.1)\n",
            "Requirement already satisfied: oauth2client>=4.0.0 in /usr/local/lib/python3.6/dist-packages (from PyDrive) (4.1.3)\n",
            "Requirement already satisfied: google-api-python-client>=1.2 in /usr/local/lib/python3.6/dist-packages (from PyDrive) (1.7.11)\n",
            "Requirement already satisfied: PyYAML>=3.0 in /usr/local/lib/python3.6/dist-packages (from PyDrive) (3.13)\n",
            "Requirement already satisfied: pyasn1-modules>=0.0.5 in /usr/local/lib/python3.6/dist-packages (from oauth2client>=4.0.0->PyDrive) (0.2.7)\n",
            "Requirement already satisfied: pyasn1>=0.1.7 in /usr/local/lib/python3.6/dist-packages (from oauth2client>=4.0.0->PyDrive) (0.4.7)\n",
            "Requirement already satisfied: six>=1.6.1 in /usr/local/lib/python3.6/dist-packages (from oauth2client>=4.0.0->PyDrive) (1.12.0)\n",
            "Requirement already satisfied: rsa>=3.1.4 in /usr/local/lib/python3.6/dist-packages (from oauth2client>=4.0.0->PyDrive) (4.0)\n",
            "Requirement already satisfied: httplib2>=0.9.1 in /usr/local/lib/python3.6/dist-packages (from oauth2client>=4.0.0->PyDrive) (0.11.3)\n",
            "Requirement already satisfied: google-auth-httplib2>=0.0.3 in /usr/local/lib/python3.6/dist-packages (from google-api-python-client>=1.2->PyDrive) (0.0.3)\n",
            "Requirement already satisfied: uritemplate<4dev,>=3.0.0 in /usr/local/lib/python3.6/dist-packages (from google-api-python-client>=1.2->PyDrive) (3.0.0)\n",
            "Requirement already satisfied: google-auth>=1.4.1 in /usr/local/lib/python3.6/dist-packages (from google-api-python-client>=1.2->PyDrive) (1.4.2)\n",
            "Requirement already satisfied: cachetools>=2.0.0 in /usr/local/lib/python3.6/dist-packages (from google-auth>=1.4.1->google-api-python-client>=1.2->PyDrive) (3.1.1)\n"
          ],
          "name": "stdout"
        }
      ]
    },
    {
      "cell_type": "code",
      "metadata": {
        "id": "iMGLSlF6R9YW",
        "colab_type": "code",
        "colab": {}
      },
      "source": [
        "import os\n",
        "from pydrive.auth import GoogleAuth\n",
        "from pydrive.drive import GoogleDrive\n",
        "from google.colab import auth\n",
        "from oauth2client.client import GoogleCredentials\n",
        "\n",
        "auth.authenticate_user()\n",
        "gauth = GoogleAuth()\n",
        "gauth.credentials = GoogleCredentials.get_application_default()\n",
        "drive = GoogleDrive(gauth)\n"
      ],
      "execution_count": 0,
      "outputs": []
    },
    {
      "cell_type": "code",
      "metadata": {
        "id": "jmjGYZrsSMnz",
        "colab_type": "code",
        "outputId": "cb98b791-5de6-468f-ba6e-400510fd8267",
        "colab": {
          "base_uri": "https://localhost:8080/",
          "height": 122
        }
      },
      "source": [
        "\n",
        "# Import the corpus data\n",
        "\n",
        "from google.colab import drive\n",
        "\n",
        "drive.mount('/content/drive/', force_remount=True)"
      ],
      "execution_count": 2,
      "outputs": [
        {
          "output_type": "stream",
          "text": [
            "Go to this URL in a browser: https://accounts.google.com/o/oauth2/auth?client_id=947318989803-6bn6qk8qdgf4n4g3pfee6491hc0brc4i.apps.googleusercontent.com&redirect_uri=urn%3aietf%3awg%3aoauth%3a2.0%3aoob&response_type=code&scope=email%20https%3a%2f%2fwww.googleapis.com%2fauth%2fdocs.test%20https%3a%2f%2fwww.googleapis.com%2fauth%2fdrive%20https%3a%2f%2fwww.googleapis.com%2fauth%2fdrive.photos.readonly%20https%3a%2f%2fwww.googleapis.com%2fauth%2fpeopleapi.readonly\n",
            "\n",
            "Enter your authorization code:\n",
            "··········\n",
            "Mounted at /content/drive/\n"
          ],
          "name": "stdout"
        }
      ]
    },
    {
      "cell_type": "markdown",
      "metadata": {
        "id": "Uanjk8B-ldR_",
        "colab_type": "text"
      },
      "source": [
        "Constants"
      ]
    },
    {
      "cell_type": "code",
      "metadata": {
        "id": "1M0RQ8BR6k2h",
        "colab_type": "code",
        "colab": {
          "base_uri": "https://localhost:8080/",
          "height": 102
        },
        "outputId": "01ab2c1d-a36d-4512-e387-cc666f78a030"
      },
      "source": [
        "MY_HOME = \"My Drive/nlp\"\n",
        "stop_words = [\n",
        "        \"a\", \"about\", \"above\", \"across\", \"after\", \"afterwards\", \"again\", \"against\", \"all\", \"almost\", \"alone\", \"along\",\n",
        "        \"already\", \"also\", \"although\", \"always\", \"am\", \"among\", \"amongst\", \"amoungst\", \"amount\", \"an\", \"and\", \"another\",\n",
        "        \"any\", \"anyhow\", \"anyone\", \"anything\", \"anyway\", \"anywhere\", \"are\", \"around\", \"as\", \"at\", \"back\", \"be\",\n",
        "        \"became\", \"because\", \"become\", \"becomes\", \"becoming\", \"been\", \"before\", \"beforehand\", \"behind\", \"being\",\n",
        "        \"below\", \"beside\", \"besides\", \"between\", \"beyond\", \"bill\", \"both\", \"bottom\", \"but\", \"by\", \"call\", \"can\", \"co\",\n",
        "        \"con\", \"could\", \"cry\", \"de\", \"describe\", \"detail\", \"do\", \"done\", \"down\", \"due\", \"during\", \"each\", \"eg\", \"eight\",\n",
        "        \"either\", \"eleven\", \"else\", \"elsewhere\", \"empty\", \"enough\", \"etc\", \"even\", \"ever\", \"every\", \"everyone\",\n",
        "        \"everything\", \"everywhere\", \"except\", \"few\", \"fifteen\", \"fifty\", \"fill\", \"find\", \"fire\", \"first\", \"five\", \"for\",\n",
        "        \"former\", \"formerly\", \"forty\", \"found\", \"four\", \"from\", \"front\", \"full\", \"further\", \"get\", \"give\", \"go\", \"had\",\n",
        "        \"has\", \"have\", \"he\", \"hence\", \"her\", \"here\", \"hereafter\", \"hereby\", \"herein\", \"hereupon\", \"hers\", \"herself\",\n",
        "        \"him\", \"himself\", \"his\", \"how\", \"however\", \"hundred\", \"i\", \"ie\", \"if\", \"in\", \"inc\", \"indeed\", \"interest\",\n",
        "        \"into\", \"is\", \"it\", \"its\", \"itself\", \"keep\", \"last\", \"latter\", \"latterly\", \"least\", \"less\", \"ltd\", \"made\",\n",
        "        \"many\", \"may\", \"me\", \"meanwhile\", \"might\", \"mill\", \"mine\", \"more\", \"moreover\", \"most\", \"mostly\", \"move\", \"much\",\n",
        "        \"must\", \"my\", \"myself\", \"name\", \"namely\", \"neither\", \"nevertheless\", \"next\", \"nine\", \"nobody\", \"now\", \"nowhere\",\n",
        "        \"of\", \"off\", \"often\", \"on\", \"once\", \"one\", \"only\", \"onto\", \"or\", \"other\", \"others\", \"otherwise\", \"our\", \"ours\",\n",
        "        \"ourselves\", \"out\", \"over\", \"own\", \"part\", \"per\", \"perhaps\", \"please\", \"put\", \"rather\", \"re\", \"same\", \"see\",\n",
        "        \"serious\", \"several\", \"she\", \"should\", \"show\", \"side\", \"since\", \"sincere\", \"six\", \"sixty\", \"so\", \"some\",\n",
        "        \"somehow\", \"someone\", \"something\", \"sometime\", \"sometimes\", \"somewhere\", \"still\", \"such\", \"system\", \"take\",\n",
        "        \"ten\", \"than\", \"that\", \"the\", \"their\", \"them\", \"themselves\", \"then\", \"thence\", \"there\", \"thereafter\", \"thereby\",\n",
        "        \"therefore\", \"therein\", \"thereupon\", \"these\", \"they\", \"thick\", \"thin\", \"third\", \"this\", \"those\", \"though\",\n",
        "        \"three\", \"through\", \"throughout\", \"thru\", \"thus\", \"to\", \"together\", \"too\", \"top\", \"toward\", \"towards\", \"twelve\",\n",
        "        \"twenty\", \"two\", \"un\", \"under\", \"until\", \"up\", \"upon\", \"us\", \"very\", \"via\", \"was\", \"we\", \"well\", \"were\", \"what\",\n",
        "        \"whatever\", \"when\", \"whence\", \"whenever\", \"where\", \"whereafter\", \"whereas\", \"whereby\", \"wherein\", \"whereupon\",\n",
        "        \"wherever\", \"whether\", \"which\", \"while\", \"whither\", \"who\", \"whoever\", \"whole\", \"whom\", \"whose\", \"why\", \"will\",\n",
        "        \"with\", \"within\", \"without\", \"would\", \"yet\", \"you\", \"your\", \"yours\", \"yourself\", \"yourselves\"\n",
        "        ]\n",
        "\n",
        "from nltk.corpus import stopwords\n",
        "from nltk.stem import LancasterStemmer, WordNetLemmatizer\n",
        "import nltk\n",
        "nltk.download('punkt')\n",
        "nltk.download('wordnet')\n",
        "def _tokenize_stem_lem_join(text):\n",
        "    \"\"\"Stem and lemmatize text by tokenizing and joining back together\"\"\"\n",
        "    words = nltk.word_tokenize(text)\n",
        "    words = _stem_words(words)\n",
        "    words = _lemmatize_verbs(words)\n",
        "    return ' '.join(words)\n",
        "    \n",
        "\n",
        "def _stem_words(words):\n",
        "    \"\"\"Stem words in list of tokenized words\"\"\"\n",
        "    stemmer = LancasterStemmer()\n",
        "    stems = []\n",
        "    for word in words:\n",
        "        stem = stemmer.stem(word)\n",
        "        stems.append(stem)\n",
        "    return stems\n",
        "\n",
        "\n",
        "def _lemmatize_verbs(words):\n",
        "    \"\"\"Lemmatize verbs in list of tokenized words\"\"\"\n",
        "    lemmatizer = WordNetLemmatizer()\n",
        "    lemmas = []\n",
        "    for word in words:\n",
        "        lemma = lemmatizer.lemmatize(word, pos='v')\n",
        "        lemmas.append(lemma)\n",
        "    return lemmas\n",
        "\n",
        "stop_words_preproc = []\n",
        "for word in stop_words:\n",
        "    temp = _tokenize_stem_lem_join(word)\n",
        "    stop_words_preproc.append(temp)\n",
        "\n",
        "print(stop_words_preproc[0:10])"
      ],
      "execution_count": 3,
      "outputs": [
        {
          "output_type": "stream",
          "text": [
            "[nltk_data] Downloading package punkt to /root/nltk_data...\n",
            "[nltk_data]   Unzipping tokenizers/punkt.zip.\n",
            "[nltk_data] Downloading package wordnet to /root/nltk_data...\n",
            "[nltk_data]   Unzipping corpora/wordnet.zip.\n",
            "['a', 'about', 'abov', 'across', 'aft', 'afterward', 'again', 'against', 'al', 'almost']\n"
          ],
          "name": "stdout"
        }
      ]
    },
    {
      "cell_type": "code",
      "metadata": {
        "id": "8gvC0_NKjZyW",
        "colab_type": "code",
        "colab": {}
      },
      "source": [
        "import random\n",
        "def split_train_test(df, train=0.60):\n",
        "    train_size = round(len(df) * train)\n",
        "    train_indices = random.sample(population=df.index.tolist(), k=train_size)\n",
        "    train_df = df.loc[train_indices]\n",
        "    test_df = df.loc[set(df.index) - set(train_df.index)] #get rest of index\n",
        "    return train_df, test_df\n"
      ],
      "execution_count": 0,
      "outputs": []
    },
    {
      "cell_type": "code",
      "metadata": {
        "id": "bghsqE5i3188",
        "colab_type": "code",
        "outputId": "de47fe11-783b-46a8-ea69-ae4ff20b02ed",
        "colab": {
          "base_uri": "https://localhost:8080/",
          "height": 51
        }
      },
      "source": [
        "import numpy as np\n",
        "def one_hot(a, num_classes):\n",
        "  a = np.array([a])\n",
        "  return np.squeeze(np.eye(num_classes)[a.reshape(-1)])\n",
        "\n",
        "print(one_hot([[1], [0]], 2))"
      ],
      "execution_count": 57,
      "outputs": [
        {
          "output_type": "stream",
          "text": [
            "[[0. 1.]\n",
            " [1. 0.]]\n"
          ],
          "name": "stdout"
        }
      ]
    },
    {
      "cell_type": "code",
      "metadata": {
        "id": "2q-lOOjJ5kH0",
        "colab_type": "code",
        "colab": {}
      },
      "source": [
        "from sklearn.neural_network import MLPClassifier\n",
        "import os\n",
        "import numpy as np\n",
        "import pandas as pd\n",
        "from sklearn.feature_extraction.text import TfidfVectorizer\n",
        "from sklearn.feature_extraction.text import CountVectorizer\n",
        "from sklearn.feature_extraction.text import TfidfTransformer\n",
        "\n",
        "from sklearn.metrics import confusion_matrix\n",
        "import pickle\n",
        "from sklearn.metrics import classification_report\n",
        "\n",
        "from warnings import simplefilter\n",
        "simplefilter(action='ignore', category=FutureWarning)\n",
        "\n",
        "from sklearn.metrics.pairwise import cosine_similarity\n",
        "\n",
        "\n",
        "seed = 123\n",
        "np.random.seed(seed)\n",
        "\n",
        "def to_tdidf(_lim_unigram=500):\n",
        "    \"\"\"\n",
        "    prepare utils for torch dataset\n",
        "    \"\"\"\n",
        "    print(\"======> create util vectorizers and some mapping for torch dataset\")\n",
        "    data = pd.read_pickle(os.path.join(\"drive/My Drive/nlp\", \"preprocessed_claim_body.pkl\"))\n",
        "    id_ref = {}\n",
        "\n",
        "    \n",
        "    print(data.head())\n",
        "    lim_unigram = _lim_unigram\n",
        "    # no more ram, limit this\n",
        "    # TODO: change to training set, not a simple slicing\n",
        "    # Create reference dictionary\n",
        "    for i, elem in enumerate(data['claim'] + data['body']):\n",
        "        id_ref[elem] = i\n",
        "    bow_vectorizer = CountVectorizer(max_features=lim_unigram, stop_words=stop_words_preproc)\\\n",
        "                  .fit(data['claim'][0:90] + data['body'][0:90])\n",
        "    bow = bow_vectorizer.transform(data['claim'][0:90] + data['body'][0:90])\n",
        "    tfreq_vectorizer = TfidfTransformer(use_idf=False).fit(bow)\n",
        "    tfreq = tfreq_vectorizer.transform(bow).toarray()\n",
        "\n",
        "    tfidf_vectorizer = TfidfVectorizer(max_features=lim_unigram, stop_words=stop_words_preproc).\\\n",
        "        fit(data['claim'] + data['body'])  # Train and test sets\n",
        "  \n",
        "    return id_ref, bow, tfreq, tfidf_vectorizer\n",
        "\n",
        "\n"
      ],
      "execution_count": 0,
      "outputs": []
    },
    {
      "cell_type": "code",
      "metadata": {
        "id": "whTE8QkuTWSO",
        "colab_type": "code",
        "colab": {}
      },
      "source": [
        "\n",
        "import torch.nn as nn\n",
        "import torch.nn.functional as F\n",
        "\n",
        "\n",
        "class Net(nn.Module):\n",
        "    def __init__(self):\n",
        "        super(Net, self).__init__()\n",
        "\n",
        "        self.fc1 = nn.Linear(64+64+1, 100)\n",
        "        self.fc2 = nn.Linear(100, 3)\n",
        "    def forward(self, x):\n",
        "        x = F.relu(self.fc1(x))\n",
        "        x = F.relu(self.fc2(x))\n",
        "        x = F.log_softmax(x)\n",
        "        return x\n"
      ],
      "execution_count": 0,
      "outputs": []
    },
    {
      "cell_type": "code",
      "metadata": {
        "id": "cFvYxuQDVi72",
        "colab_type": "code",
        "colab": {}
      },
      "source": [
        "from torch.utils.data import Dataset, DataLoader\n",
        "import torch\n",
        "from sklearn.decomposition import PCA\n",
        "\n",
        "class ClaimBodyDataset(Dataset):\n",
        "    \"\"\"claim body dataset for training\"\"\"\n",
        "    # TODO: check using loading the dataframe directly\n",
        "    def __init__(self, df, _lim_unigram=500):\n",
        "        \"\"\"\n",
        "        Args:\n",
        "            df is the dataframe, sliced either train or test, still has the two columns!\n",
        "            claim: 5000 by 1\n",
        "            body: 5000 by 1\n",
        "            cosine_similarity: 1 by 1\n",
        "        \"\"\"\n",
        "        self.df = df #pd.read_pickle(df)\n",
        "        self.lim_unigram = _lim_unigram\n",
        "        self.bow_vectorizer_claim = CountVectorizer(max_features=self.lim_unigram, stop_words=stop_words_preproc)\n",
        "        self.bow_vectorizer_body = CountVectorizer(max_features=self.lim_unigram, stop_words=stop_words_preproc)\n",
        "\n",
        "        self.bow_claim = self.bow_vectorizer_claim.fit_transform(self.df['claim'])\n",
        "        self.bow_body = self.bow_vectorizer_body.fit_transform(self.df['body'])\n",
        "        \n",
        "\n",
        "        self.tfreq_vectorizer_claim = TfidfTransformer(use_idf=False).fit(self.bow_claim)\n",
        "        self.tfreq_vectorizer_body = TfidfTransformer(use_idf=False).fit(self.bow_body)\n",
        "\n",
        "\n",
        "        self.tfreq_claim = self.tfreq_vectorizer_claim.transform(self.bow_claim).toarray()\n",
        "        self.tfreq_body = self.tfreq_vectorizer_body.transform(self.bow_body).toarray()\n",
        "\n",
        "        pca = PCA(n_components=64)\n",
        "        self.tfreq_claim_reduced = pca.fit_transform(self.tfreq_claim)\n",
        "        self.tfreq_body_reduced = pca.fit_transform(self.tfreq_body)\n",
        "\n",
        "        self.tfidf_vectorizer = TfidfVectorizer(max_features=self.lim_unigram, stop_words=stop_words_preproc).\\\n",
        "        fit(self.df['claim'] + self.df['body'])  # Train and test sets\n",
        "\n",
        "        self.tfidf_claim = self.tfidf_vectorizer.transform(self.df['claim'])\n",
        "        self.tfidf_body = self.tfidf_vectorizer.transform(self.df['body'])\n",
        "\n",
        "        self.cosine_similarity = cosine_similarity\n",
        "    def __len__(self):\n",
        "        return len(self.df)\n",
        "\n",
        "    def __getitem__(self, idx):\n",
        "        if torch.is_tensor(idx):\n",
        "            idx = idx.tolist()\n",
        "\n",
        "\n",
        "        claim_tfreq= self.tfreq_claim_reduced[idx]\n",
        "        body_tfreqf = self.tfreq_body_reduced[idx]\n",
        "\n",
        "\n",
        "\n",
        "        claim_tfidf = self.tfidf_claim[idx]\n",
        "        body_tfidf = self.tfidf_body[idx]\n",
        "\n",
        "        cos_tfidf = cosine_similarity(claim_tfidf, body_tfidf)[0].reshape(1, -1)\n",
        "        feat_vec = np.squeeze(np.c_[claim_tfreq.reshape(1, -1), body_tfreqf.reshape(1, -1), cos_tfidf])\n",
        "        label = self.df['label'].iloc[idx]\n",
        "\n",
        "        feat_vec = torch.from_numpy(feat_vec)\n",
        "        label = torch.tensor(label, dtype=torch.long)\n",
        "        return feat_vec, label\n",
        "\n"
      ],
      "execution_count": 0,
      "outputs": []
    },
    {
      "cell_type": "code",
      "metadata": {
        "id": "5ZEclSAFZyba",
        "colab_type": "code",
        "outputId": "34b009be-207b-4f98-a8df-570d0d8fc846",
        "colab": {
          "base_uri": "https://localhost:8080/",
          "height": 1000
        }
      },
      "source": [
        "import torchvision.transforms as transforms\n",
        "import pandas as pd\n",
        "\n",
        "data = pd.read_pickle(os.path.join(\"drive/My Drive/nlp\", \"preprocessed_claim_body_full.pkl\"))\n",
        "train_df, test_df = split_train_test(data, train=0.8)\n",
        "\n",
        "train_dataset = ClaimBodyDataset(train_df)\n",
        "test_dataset = ClaimBodyDataset(test_df)\n",
        "# note: mostly zero!\n",
        "for i in range(4):\n",
        "    sample = train_dataset[i]\n",
        "    print(i, sample, sample[0].shape)\n"
      ],
      "execution_count": 13,
      "outputs": [
        {
          "output_type": "stream",
          "text": [
            "0 (tensor([-8.8258e-02, -8.1451e-02, -3.8060e-02, -3.4802e-02, -2.6754e-02,\n",
            "        -2.2793e-03, -2.5821e-02, -4.3860e-03,  2.4068e-02, -3.6610e-02,\n",
            "         4.1350e-04, -3.1729e-02,  1.3208e-02, -1.6063e-02, -4.3054e-03,\n",
            "         3.6037e-02,  2.5497e-02, -6.4444e-02, -3.1115e-03,  1.9393e-02,\n",
            "        -5.7259e-04, -3.2033e-02,  2.5421e-02,  3.7952e-02, -3.8384e-02,\n",
            "         1.1308e-02, -5.2746e-02, -2.7902e-02,  4.0243e-02, -3.6240e-02,\n",
            "        -1.2778e-01, -4.5834e-02, -1.3878e-01,  8.7047e-02, -5.6946e-04,\n",
            "        -8.9597e-02, -1.5719e-01,  1.3142e-01, -1.8529e-01,  1.8505e-01,\n",
            "         9.0281e-02, -9.8610e-03,  4.5626e-02,  2.8243e-02,  1.0202e-02,\n",
            "        -4.4642e-02, -2.3976e-02, -5.1414e-02, -2.0884e-02,  2.0286e-01,\n",
            "         5.6186e-02, -2.6528e-03, -2.8978e-02, -7.0317e-02,  1.2879e-01,\n",
            "        -1.0748e-02, -1.9781e-02, -4.3238e-02,  2.8759e-02,  4.4162e-02,\n",
            "        -4.7706e-02,  3.6475e-02,  4.7624e-02, -4.6668e-02, -3.2291e-01,\n",
            "         3.0093e-02, -4.6703e-02, -2.3558e-01, -1.2633e-02,  5.3594e-02,\n",
            "         6.6862e-02, -4.8304e-02, -1.9094e-02, -8.5429e-02, -3.0726e-02,\n",
            "        -2.4778e-02,  5.5137e-02, -5.9369e-02, -2.8326e-02,  4.6865e-02,\n",
            "        -5.1522e-02, -1.0942e-01,  9.9715e-02,  4.5935e-03, -2.8465e-02,\n",
            "        -8.1314e-02,  4.4156e-02,  5.8844e-02, -5.2357e-02,  1.6288e-01,\n",
            "         4.2712e-02, -5.3127e-04,  4.6235e-02, -5.7467e-02,  2.3166e-02,\n",
            "         1.5807e-01, -1.3541e-02, -5.4334e-02, -1.4278e-02, -1.1949e-02,\n",
            "         5.3925e-02,  1.7187e-02,  5.1616e-03,  4.0420e-02, -2.2488e-02,\n",
            "         9.6014e-02, -5.1243e-02,  6.6579e-02, -2.5230e-02,  2.9172e-02,\n",
            "         4.7253e-02,  6.0446e-02, -3.0089e-02,  3.1617e-02,  1.5022e-03,\n",
            "        -5.7247e-02, -1.3619e-02,  2.8107e-03, -6.0269e-02,  6.9978e-03,\n",
            "         8.4688e-04,  1.0159e-01, -9.3994e-03,  4.8973e-03,  6.4955e-03,\n",
            "         3.7565e-02,  1.2716e-01, -6.3776e-02,  4.2193e-01],\n",
            "       dtype=torch.float64), tensor(0)) torch.Size([129])\n",
            "1 (tensor([-8.9601e-02, -9.3550e-02, -4.8748e-02, -1.0308e-02, -8.6816e-02,\n",
            "         1.1858e-02,  2.5009e-01, -9.2396e-02, -2.0563e-02, -1.0428e-01,\n",
            "        -2.7028e-02,  3.5973e-02,  1.2628e-02, -1.1888e-02, -1.0682e-02,\n",
            "         1.7375e-02,  4.3097e-02, -1.0508e-02, -4.6742e-02,  3.8338e-03,\n",
            "        -7.0508e-02,  5.8869e-02,  2.1101e-01, -6.6360e-02,  9.0911e-02,\n",
            "        -2.5338e-02,  6.2677e-02,  5.6583e-02,  5.9574e-02,  8.4909e-03,\n",
            "         3.3940e-02, -4.5673e-02,  2.0551e-02, -1.7681e-03, -2.1351e-02,\n",
            "         2.0926e-02, -2.1529e-03, -2.0796e-02,  1.9989e-02, -1.7972e-02,\n",
            "        -1.1469e-02, -4.2883e-02,  9.9779e-02, -5.6676e-02, -7.5229e-02,\n",
            "         3.5277e-02, -1.9395e-03,  1.9171e-01, -6.2393e-02,  8.2188e-02,\n",
            "        -6.9126e-02, -7.3578e-02,  3.3452e-02, -1.4492e-03, -1.1722e-02,\n",
            "        -2.4665e-02, -3.8718e-02,  7.5635e-03,  4.1265e-03, -1.3335e-02,\n",
            "         1.8307e-02, -7.3636e-03,  5.7067e-02, -3.6197e-02,  2.1733e-01,\n",
            "        -1.8418e-01, -2.9986e-02, -1.0547e-01, -7.7266e-02, -3.7048e-02,\n",
            "         5.8425e-02, -7.0550e-02, -5.5235e-03,  7.9935e-02,  5.4885e-02,\n",
            "         4.7744e-02,  4.9062e-02, -7.6457e-02,  4.3807e-02,  3.3844e-02,\n",
            "         1.3570e-02, -4.4134e-03, -1.5088e-01, -2.2199e-02,  3.3707e-02,\n",
            "         5.5679e-02,  9.4510e-02, -3.0637e-02,  3.4329e-02, -3.3576e-02,\n",
            "         3.5779e-03, -2.2937e-02, -2.3262e-02, -4.4847e-03,  7.8302e-02,\n",
            "         5.4499e-02, -3.1402e-02, -3.2545e-02, -5.6826e-02,  5.5299e-02,\n",
            "         5.3454e-02,  1.8929e-02, -2.4258e-02,  3.8875e-02, -3.8712e-02,\n",
            "        -7.2522e-02,  8.8088e-03,  1.9681e-02, -1.0755e-02, -2.3106e-02,\n",
            "        -6.7871e-03, -2.1238e-02, -2.1741e-02,  3.6750e-02,  3.2158e-02,\n",
            "        -5.0773e-02,  7.8706e-03,  4.3193e-02,  2.3973e-02, -2.2250e-04,\n",
            "        -1.0506e-02,  2.1038e-02, -9.8380e-03, -2.4748e-04, -1.6593e-02,\n",
            "         9.1103e-03, -5.1905e-02,  3.1807e-02,  6.0866e-01],\n",
            "       dtype=torch.float64), tensor(2)) torch.Size([129])\n",
            "2 (tensor([-7.9997e-02, -8.5108e-02, -1.7616e-02, -8.3571e-02,  8.7200e-03,\n",
            "        -3.3158e-02, -3.3304e-02, -1.4224e-02, -1.9473e-02, -3.4724e-02,\n",
            "        -1.3104e-02, -2.1706e-02,  1.2737e-02, -1.8079e-02, -9.2868e-03,\n",
            "        -1.9473e-02, -1.2394e-02,  6.3759e-03, -1.2572e-02,  9.3697e-03,\n",
            "        -1.2070e-02, -4.0471e-03, -2.2927e-03,  4.3860e-03, -1.2585e-02,\n",
            "         1.2100e-04, -1.1149e-02,  1.8839e-04,  8.0903e-03, -4.0329e-05,\n",
            "        -8.2501e-03, -1.0931e-02, -9.7509e-03,  2.9531e-03, -1.2929e-02,\n",
            "         1.0176e-03,  1.5221e-02, -7.1836e-03, -1.5477e-02, -1.9166e-02,\n",
            "         2.9419e-03, -1.8366e-03, -1.0265e-02,  7.4585e-03,  2.2561e-02,\n",
            "        -1.6282e-02,  8.2709e-03, -1.5845e-02, -5.6510e-03, -6.7540e-03,\n",
            "        -9.7012e-03, -2.2288e-02, -1.4918e-03,  8.2067e-04, -8.0084e-03,\n",
            "        -7.3878e-03, -1.7972e-03, -9.6850e-03, -1.3196e-02,  1.6724e-02,\n",
            "        -7.2963e-03,  2.1717e-02,  6.4005e-03,  2.3560e-02,  1.5730e-01,\n",
            "         5.0236e-02, -2.0269e-02, -8.1193e-02, -2.1643e-02, -5.8518e-02,\n",
            "        -9.9297e-02, -3.1017e-02,  1.5621e-02, -4.0875e-02, -4.6694e-02,\n",
            "        -1.1913e-01, -6.2140e-02, -7.6851e-02, -3.4451e-02, -6.3631e-02,\n",
            "        -3.3705e-02, -2.5240e-02,  8.1652e-02, -1.6215e-02,  4.9155e-02,\n",
            "         4.0234e-02,  1.1430e-02, -3.0819e-02,  3.7561e-02, -1.6584e-02,\n",
            "        -9.1939e-02,  9.3954e-02, -5.2159e-02,  2.5875e-02, -1.6565e-02,\n",
            "         5.2818e-02,  9.5798e-02, -9.1596e-02,  9.0022e-03,  2.6581e-02,\n",
            "        -7.8759e-03,  6.6208e-04, -8.0336e-02,  7.3394e-02,  5.5693e-04,\n",
            "        -2.0297e-02,  5.7044e-02, -2.0770e-02, -7.0943e-03,  1.3660e-01,\n",
            "        -4.8602e-02,  9.0893e-03,  1.4456e-02,  1.1445e-01,  4.6795e-03,\n",
            "        -9.8656e-03,  6.5364e-02, -6.2932e-03,  2.3690e-02, -5.4976e-02,\n",
            "        -1.1480e-01, -8.5598e-02, -1.3489e-01, -6.9694e-02, -6.3352e-02,\n",
            "         9.9397e-02,  3.7120e-03, -1.5775e-01,  3.0655e-02],\n",
            "       dtype=torch.float64), tensor(1)) torch.Size([129])\n",
            "3 (tensor([-0.0812, -0.0869, -0.0330, -0.0589, -0.0228, -0.0201, -0.0394, -0.0096,\n",
            "         0.0196, -0.0578,  0.0094, -0.0284,  0.0317, -0.0244, -0.0011,  0.0473,\n",
            "         0.0223, -0.0581, -0.0421, -0.0022, -0.0269,  0.0118,  0.0664, -0.0241,\n",
            "        -0.0229, -0.0166,  0.0147, -0.0126,  0.0050, -0.0321, -0.0124, -0.0313,\n",
            "        -0.0320,  0.0234,  0.0100, -0.0007,  0.0691, -0.0468, -0.0260, -0.1590,\n",
            "         0.0539,  0.0846, -0.0318,  0.0061, -0.0254, -0.1497,  0.0155,  0.0390,\n",
            "        -0.0819,  0.1479,  0.1246,  0.0718, -0.2315,  0.0690,  0.0839,  0.0665,\n",
            "         0.1485, -0.1572, -0.0966, -0.0680,  0.0389,  0.0127, -0.1140, -0.0453,\n",
            "         0.1126,  0.2125,  0.0319, -0.1000,  0.0352, -0.1267,  0.0232,  0.0255,\n",
            "         0.0422,  0.0313,  0.0509,  0.1406, -0.0006, -0.0100, -0.0005,  0.0147,\n",
            "        -0.0893,  0.0197, -0.0470,  0.0079, -0.0417,  0.0361, -0.0807, -0.0071,\n",
            "        -0.0156, -0.0227, -0.0707, -0.0356,  0.0877,  0.0368,  0.0147,  0.0363,\n",
            "        -0.0461, -0.0041, -0.0768,  0.0323,  0.0354,  0.0070, -0.0336,  0.0160,\n",
            "         0.0377,  0.0316,  0.0169, -0.0020,  0.0038,  0.0268,  0.0690,  0.0227,\n",
            "        -0.0882, -0.0006, -0.0051,  0.0096,  0.0372,  0.0640, -0.0134,  0.0042,\n",
            "        -0.0423,  0.0376, -0.0406, -0.0396, -0.0459,  0.0442, -0.0287, -0.0138,\n",
            "         0.2079], dtype=torch.float64), tensor(1)) torch.Size([129])\n"
          ],
          "name": "stdout"
        }
      ]
    },
    {
      "cell_type": "code",
      "metadata": {
        "id": "_Bx7uazkmBh-",
        "colab_type": "code",
        "colab": {
          "base_uri": "https://localhost:8080/",
          "height": 51
        },
        "outputId": "391c4640-4a4a-46b7-fcd7-5da9726d6eb8"
      },
      "source": [
        "print(len(train_df.index))\n",
        "print(len(test_df.index))"
      ],
      "execution_count": 14,
      "outputs": [
        {
          "output_type": "stream",
          "text": [
            "12444\n",
            "3111\n"
          ],
          "name": "stdout"
        }
      ]
    },
    {
      "cell_type": "code",
      "metadata": {
        "id": "M5ITnVCIMnHr",
        "colab_type": "code",
        "colab": {
          "base_uri": "https://localhost:8080/",
          "height": 34
        },
        "outputId": "0378c3b9-28d8-4b47-bf0a-109b8b8396a2"
      },
      "source": [
        "# we print some examples to see how sparse this is\n",
        "print(torch.nonzero(sample[0]).size())\n"
      ],
      "execution_count": 68,
      "outputs": [
        {
          "output_type": "stream",
          "text": [
            "torch.Size([204, 1])\n"
          ],
          "name": "stdout"
        }
      ]
    },
    {
      "cell_type": "code",
      "metadata": {
        "id": "G6LzT3-RaoKH",
        "colab_type": "code",
        "colab": {}
      },
      "source": [
        "device = torch.device('cuda')\n"
      ],
      "execution_count": 0,
      "outputs": []
    },
    {
      "cell_type": "code",
      "metadata": {
        "id": "5tR_GL47T_yq",
        "colab_type": "code",
        "colab": {}
      },
      "source": [
        "import torch.optim as optim\n",
        "criterion = torch.nn.CrossEntropyLoss(weight=torch.Tensor([0.1, 0.1, 0.8]).to(device))\n",
        "optimizer = optim.Adam(mlp.parameters(), lr=1e-3)\n",
        "\n"
      ],
      "execution_count": 0,
      "outputs": []
    },
    {
      "cell_type": "code",
      "metadata": {
        "id": "s7vDaMuTXOgu",
        "colab_type": "code",
        "colab": {}
      },
      "source": [
        "\n",
        "\n",
        "def dice_loss(input, target):\n",
        "    batch_size = 8\n",
        "    nb_classes = 3\n",
        "    smooth = 1.\n",
        "\n",
        "    y_onehot = one_hot(target.cpu().numpy(), 3) # 3 classes\n",
        "    y_onehot = torch.FloatTensor(y_onehot).to(device)\n",
        "\n",
        "\n",
        "    iflat = input.view(-1)\n",
        "    tflat = y_onehot.view(-1)\n",
        "    intersection = (iflat * tflat).sum()\n",
        "    cardinality = iflat.sum() + tflat.sum()\n",
        "    \n",
        "    return 1 - ((2. * intersection + smooth) /\n",
        "              (cardinality + smooth))\n"
      ],
      "execution_count": 0,
      "outputs": []
    },
    {
      "cell_type": "code",
      "metadata": {
        "id": "Ghvx_vPimprQ",
        "colab_type": "code",
        "colab": {}
      },
      "source": [
        "def dice_with_logits(input: torch.Tensor, target: torch.Tensor, dim=(-2, -1), reduction='mean', eps=1e-6):\n",
        "    # input = input.sigmoid()\n",
        "    y_onehot = one_hot(target.cpu().numpy(), 3) # 3 classes\n",
        "    y_onehot = torch.FloatTensor(y_onehot).to(device)\n",
        "\n",
        "    target = y_onehot\n",
        "    numerator = 2 * (input * target).sum(dim)\n",
        "    denominator = input.pow(2).sum(dim) + target.pow(2).sum(dim)\n",
        "    dice_losses = -numerator/denominator.clamp(eps)\n",
        "    if reduction == 'sum':\n",
        "        loss = dice_losses.sum()\n",
        "    elif reduction == 'mean':\n",
        "        loss = dice_losses.mean()\n",
        "    elif reduction == 'none':\n",
        "        loss = dice_losses\n",
        "    else:\n",
        "        raise NotImplementedError\n",
        "    return loss\n",
        "  "
      ],
      "execution_count": 0,
      "outputs": []
    },
    {
      "cell_type": "code",
      "metadata": {
        "id": "Ug12HAAUVTLm",
        "colab_type": "code",
        "colab": {}
      },
      "source": [
        "\n",
        "def train_mlp(trainloader, criterion, optimizer, mlp, device):\n",
        "    \n",
        "    train_losses, train_accuracies = [], []\n",
        "    valid_losses, valid_accuracies = [], []\n",
        "    for epoch in range(30):  # loop over the dataset multiple times\n",
        "        mlp.train()\n",
        "        total_tr, correct_tr = 0, 0\n",
        "        total_val, correct_val = 0, 0\n",
        "        running_loss = 0.0\n",
        "        mean_train_loss = 0.0\n",
        "        mean_valid_loss = 0.0\n",
        "        mean_train_acc = 0.0\n",
        "        mean_valid_acc = 0.0\n",
        "\n",
        "\n",
        "        for i, data in enumerate(trainloader, 0):\n",
        "            # get the inputs; data is a list of [inputs, labels]\n",
        "            inputs, labels = data\n",
        "            inputs = inputs.to(device)\n",
        "            labels = torch.squeeze(labels)\n",
        "            # labels = labels.reshape(1, -1)\n",
        "            labels = labels.to(device)\n",
        "            # zero the parameter gradients\n",
        "            optimizer.zero_grad()\n",
        "\n",
        "            # forward + backward + optimize\n",
        "            \n",
        "            outputs = mlp(inputs.float())\n",
        "            loss = criterion(outputs, labels)\n",
        "            loss.backward()\n",
        "            optimizer.step()\n",
        "            # print(\"loss\", loss.item())\n",
        "            # print statistics\n",
        "\n",
        "            _, predicted_tr = torch.max(outputs.data, 1)\n",
        "            correct_tr += (predicted_tr == labels).sum().item()\n",
        "            incorrect_tr = (predicted_tr != labels).cpu().detach().numpy()\n",
        "            running_loss += loss.item()\n",
        "            mean_train_loss += loss\n",
        "            total_tr += labels.size(0)\n",
        "            acc_tr = correct_tr / total_tr\n",
        "            mean_train_acc += acc_tr\n",
        "            # if i % 500 == 99:    # print every 500 mini-batches\n",
        "            #     print('[%d, %5d] loss: %.3f' %\n",
        "            #           (epoch + 1, i + 1, loss.item()))\n",
        "            #     running_loss = 0.0\n",
        "        mean_train_loss /= i + 1\n",
        "        mean_train_acc /= i + 1\n",
        "\n",
        "\n",
        "        # run eval\n",
        "        mlp.eval()\n",
        "        for i, data in enumerate(valid_loader):\n",
        "            inputs, labels = data\n",
        "\n",
        "            X = inputs.to(device)\n",
        "            Y = torch.LongTensor(labels)\n",
        "            labels = labels.to(device)\n",
        "            Y = Y.T\n",
        "            Y = Y.to(device)\n",
        "            valid_outputs = mlp(X.float())\n",
        "            _, predicted = torch.max(valid_outputs.data, 1)\n",
        "            valid_loss = criterion(valid_outputs, Y)\n",
        "            mean_valid_loss += valid_loss\n",
        "    \n",
        "            total_val += labels.size(0)\n",
        "            _, predicted_val = torch.max(valid_outputs.data, 1)\n",
        "            correct_val += (predicted_val == labels).sum().item()\n",
        "            valid_acc = correct_val/total_val\n",
        "            mean_valid_acc += valid_acc\n",
        "        mean_valid_loss /= i+1\n",
        "        mean_valid_acc /= i+1\n",
        "\n",
        "        # record the results\n",
        "        train_losses.append(mean_train_loss.item())\n",
        "        train_accuracies.append(mean_train_acc)\n",
        "        valid_losses.append(mean_valid_loss.item())\n",
        "        valid_accuracies.append(mean_valid_acc)\n",
        "        print('\\nEpoch {} train_loss: {}, train_acc: {}, valid_loss: {}, valid_acc: {}'.format(epoch,\n",
        "        mean_train_loss.item(), mean_train_acc * 100, mean_valid_loss.item(), mean_valid_acc * 100))\n",
        "  \n",
        "    print('Finished Training')\n",
        "    return train_losses, train_accuracies, valid_losses, valid_accuracies\n"
      ],
      "execution_count": 0,
      "outputs": []
    },
    {
      "cell_type": "code",
      "metadata": {
        "id": "xxrppKq7jQ1q",
        "colab_type": "code",
        "colab": {}
      },
      "source": [
        "def accuracy(model, data_x, data_y, device):\n",
        "    model = model.eval() \n",
        "\n",
        "    X = data_x\n",
        "    Y = torch.LongTensor(data_y)\n",
        "    Y = Y.T\n",
        "    output = model(X.float())\n",
        "    _, predicted = torch.max(output.data, 1)\n",
        "    \n",
        "    # arg_maxs is tensor of indices [0, 1, 0, 2, 1, 1 . . ]\n",
        "    num_correct = torch.sum(Y==predicted)\n",
        "    acc = (num_correct * 100.0 / len(data_y))\n",
        "    return acc.item()  # percentage format\n"
      ],
      "execution_count": 0,
      "outputs": []
    },
    {
      "cell_type": "code",
      "metadata": {
        "id": "RnnoxT-4pjSN",
        "colab_type": "code",
        "colab": {}
      },
      "source": [
        "from torch.utils.data.sampler import SubsetRandomSampler\n",
        "\n",
        "def create_train_test(dataset):\n",
        "    validation_split = .2\n",
        "    shuffle_dataset = True\n",
        "    random_seed= 42\n",
        "    batch_size = 8\n",
        "    # Creating data indices for training and validation splits:\n",
        "    dataset_size = len(dataset)\n",
        "    indices = list(range(dataset_size))\n",
        "    split = int(np.floor(validation_split * dataset_size))\n",
        "    if shuffle_dataset :\n",
        "        np.random.seed(random_seed)\n",
        "        np.random.shuffle(indices)\n",
        "    train_indices, val_indices = indices[split:], indices[:split]\n",
        "\n",
        "    \n",
        "    # Creating PT data samplers and loaders:\n",
        "    train_sampler = SubsetRandomSampler(train_indices)\n",
        "    valid_sampler = SubsetRandomSampler(val_indices)\n",
        "\n",
        "    train_loader = torch.utils.data.DataLoader(dataset, batch_size=batch_size, \n",
        "                                           sampler=train_sampler, drop_last=True)\n",
        "    validation_loader = torch.utils.data.DataLoader(dataset, batch_size=batch_size,\n",
        "                                                sampler=valid_sampler, drop_last=True)\n",
        "    return train_loader, validation_loader\n",
        "\n",
        "def rebal_create_train_test(dataset, df):\n",
        "\n",
        "    class_sample_count = np.array([len(np.where(df['label']==t)[0]) for t in df['label'].unique()])\n",
        "    weight = 1. / class_sample_count\n",
        "    samples_weight = np.array([weight[t] for t in df['label']])\n",
        "\n",
        "    samples_weight = torch.from_numpy(samples_weight)\n",
        "    print(\"samples_weight\", samples_weight.size())\n",
        "    batch_size = 8\n",
        "    sampler = torch.utils.data.sampler.WeightedRandomSampler(samples_weight, len(samples_weight))\n",
        "    loader = torch.utils.data.DataLoader(dataset, batch_size=batch_size, \n",
        "                                           sampler=sampler, drop_last=True)\n",
        "    return loader\n"
      ],
      "execution_count": 0,
      "outputs": []
    },
    {
      "cell_type": "code",
      "metadata": {
        "id": "GRvXkk0nvupi",
        "colab_type": "code",
        "colab": {}
      },
      "source": [
        "from sklearn.metrics import classification_report\n",
        "\n",
        "def valid_acc_report(val_loader, device, model=mlp):\n",
        "    \"\"\"\n",
        "    A detailed validation set report, from SKlearn's classification report\n",
        "    \"\"\"\n",
        "    y_pred = []\n",
        "    y_true = []\n",
        "    target_names = ['false', 'partially true', 'true']\n",
        "    for i, data in enumerate(val_loader, 0):\n",
        "        inputs, labels = data\n",
        "\n",
        "        model = model.eval() \n",
        "\n",
        "        X = inputs.to(device)\n",
        "        Y = torch.LongTensor(labels)\n",
        "        Y = Y.T\n",
        "        Y = Y.to(device)\n",
        "        output = model(X.float())\n",
        "        _, predicted = torch.max(output.data, 1)\n",
        "        y_pred.append(predicted.cpu().numpy())\n",
        "        y_true.append(Y.cpu().numpy())\n",
        "    \n",
        "    y_pred = np.array(y_pred).flatten()\n",
        "    y_true = np.array(y_true).flatten()\n",
        "    print(y_true)\n",
        "    print(y_pred)\n",
        "    print(classification_report(y_true, y_pred, target_names=target_names))\n",
        "        \n"
      ],
      "execution_count": 0,
      "outputs": []
    },
    {
      "cell_type": "code",
      "metadata": {
        "id": "frsHZGNEo52R",
        "colab_type": "code",
        "colab": {
          "base_uri": "https://localhost:8080/",
          "height": 51
        },
        "outputId": "476dff53-2ad3-49d8-93f0-5cdfecdcc23b"
      },
      "source": [
        "train_loader = rebal_create_train_test(train_dataset, train_df)\n",
        "valid_loader = rebal_create_train_test(test_dataset, test_df)"
      ],
      "execution_count": 71,
      "outputs": [
        {
          "output_type": "stream",
          "text": [
            "samples_weight torch.Size([12444])\n",
            "samples_weight torch.Size([3111])\n"
          ],
          "name": "stdout"
        }
      ]
    },
    {
      "cell_type": "code",
      "metadata": {
        "id": "5KvdufIco5cR",
        "colab_type": "code",
        "colab": {
          "base_uri": "https://localhost:8080/",
          "height": 1000
        },
        "outputId": "da7d3502-03d7-4008-e904-64859a1c2a73"
      },
      "source": [
        "# NOTE:this only tests on the original training set\n",
        "# need to figure out this train vs test vectorizer fit issue\n",
        "# see https://github.com/uclnlp/fakenewschallenge/blob/badc65fb8d06b840ab25093ea5fdd4bc3a365c30/pred.py#L53\n",
        "\n",
        "device = torch.device('cuda' if torch.cuda.is_available() else 'cpu')\n",
        "print(\"device\", device)\n",
        "mlp = Net()\n",
        "\n",
        "mlp = mlp.to(device)\n",
        "\n",
        "# another one with reweigth\n",
        "criterion = torch.nn.CrossEntropyLoss().to(device)\n",
        "optimizer = optim.Adam(mlp.parameters(), lr=1e-3)\n",
        "\n",
        "train_losses, train_accuracies, valid_losses, valid_accuracies = train_mlp(train_loader, criterion, optimizer, mlp, device)"
      ],
      "execution_count": 77,
      "outputs": [
        {
          "output_type": "stream",
          "text": [
            "device cuda\n"
          ],
          "name": "stdout"
        },
        {
          "output_type": "stream",
          "text": [
            "/usr/local/lib/python3.6/dist-packages/ipykernel_launcher.py:15: UserWarning: Implicit dimension choice for log_softmax has been deprecated. Change the call to include dim=X as an argument.\n",
            "  from ipykernel import kernelapp as app\n"
          ],
          "name": "stderr"
        },
        {
          "output_type": "stream",
          "text": [
            "\n",
            "Epoch 0 train_loss: 0.7011218667030334, train_acc: 60.55043337920465, valid_loss: 1.2922654151916504, valid_acc: 26.10406512383398\n",
            "\n",
            "Epoch 1 train_loss: 0.6225799322128296, train_acc: 76.23248439761502, valid_loss: 1.2631555795669556, valid_acc: 26.906074750012632\n",
            "\n",
            "Epoch 2 train_loss: 0.6046113967895508, train_acc: 77.67317472158987, valid_loss: 1.3532382249832153, valid_acc: 26.269468029091975\n",
            "\n",
            "Epoch 3 train_loss: 0.5946608185768127, train_acc: 77.65076492977413, valid_loss: 1.311326026916504, valid_acc: 27.801749210053416\n",
            "\n",
            "Epoch 4 train_loss: 0.5812100768089294, train_acc: 78.18550297416915, valid_loss: 1.3410403728485107, valid_acc: 28.833672111340864\n",
            "\n",
            "Epoch 5 train_loss: 0.5734003782272339, train_acc: 79.0579639801257, valid_loss: 1.3819820880889893, valid_acc: 28.445907245112373\n",
            "\n",
            "Epoch 6 train_loss: 0.566037118434906, train_acc: 78.84477001024386, valid_loss: 1.2984895706176758, valid_acc: 32.92540777228092\n",
            "\n",
            "Epoch 7 train_loss: 0.5679794549942017, train_acc: 79.37186322852344, valid_loss: 1.3191927671432495, valid_acc: 30.235595451736536\n",
            "\n",
            "Epoch 8 train_loss: 0.5428590774536133, train_acc: 79.91832030881876, valid_loss: 1.2816873788833618, valid_acc: 33.03748695418822\n",
            "\n",
            "Epoch 9 train_loss: 0.5443562269210815, train_acc: 80.52739089608932, valid_loss: 1.2844334840774536, valid_acc: 35.53046901511958\n",
            "\n",
            "Epoch 10 train_loss: 0.5395950078964233, train_acc: 79.96707232130153, valid_loss: 1.4042943716049194, valid_acc: 32.788180881922614\n",
            "\n",
            "Epoch 11 train_loss: 0.5285935401916504, train_acc: 80.54650760614864, valid_loss: 1.2922416925430298, valid_acc: 36.42269223931448\n",
            "\n",
            "Epoch 12 train_loss: 0.5232250690460205, train_acc: 81.04211046750287, valid_loss: 1.2875219583511353, valid_acc: 40.26426177166251\n",
            "\n",
            "Epoch 13 train_loss: 0.5149529576301575, train_acc: 81.6537214996031, valid_loss: 1.407548427581787, valid_acc: 35.060881265740946\n",
            "\n",
            "Epoch 14 train_loss: 0.505189836025238, train_acc: 82.50193909276013, valid_loss: 1.2711080312728882, valid_acc: 43.298858329741684\n",
            "\n",
            "Epoch 15 train_loss: 0.5012457966804504, train_acc: 82.52213536994711, valid_loss: 1.3593515157699585, valid_acc: 41.0085272031996\n",
            "\n",
            "Epoch 16 train_loss: 0.49498727917671204, train_acc: 82.51686842984954, valid_loss: 1.203061819076538, valid_acc: 45.82928751137601\n",
            "\n",
            "Epoch 17 train_loss: 0.5103612542152405, train_acc: 82.65985364616533, valid_loss: 1.3748160600662231, valid_acc: 40.54091840536689\n",
            "\n",
            "Epoch 18 train_loss: 0.487631231546402, train_acc: 82.14133073488985, valid_loss: 1.4033395051956177, valid_acc: 39.011717001913155\n",
            "\n",
            "Epoch 19 train_loss: 0.4775049686431885, train_acc: 82.90379539930184, valid_loss: 1.3491630554199219, valid_acc: 42.6449582126774\n",
            "\n",
            "Epoch 20 train_loss: 0.47174903750419617, train_acc: 83.90795876167823, valid_loss: 1.363884449005127, valid_acc: 43.01150452315785\n",
            "\n",
            "Epoch 21 train_loss: 0.4634992480278015, train_acc: 83.35691406672149, valid_loss: 1.4709346294403076, valid_acc: 39.6265289817303\n",
            "\n",
            "Epoch 22 train_loss: 0.4570378363132477, train_acc: 84.97447532047626, valid_loss: 1.4145740270614624, valid_acc: 41.76785933877741\n",
            "\n",
            "Epoch 23 train_loss: 0.4617556631565094, train_acc: 84.03501501073816, valid_loss: 1.4186259508132935, valid_acc: 42.01142434154348\n",
            "\n",
            "Epoch 24 train_loss: 0.44584473967552185, train_acc: 84.20009707561208, valid_loss: 1.5459065437316895, valid_acc: 41.46055993347878\n",
            "\n",
            "Epoch 25 train_loss: 0.443419486284256, train_acc: 84.88398296153467, valid_loss: 1.4598910808563232, valid_acc: 42.56085776040381\n",
            "\n",
            "Epoch 26 train_loss: 0.4374274015426636, train_acc: 85.08799150866454, valid_loss: 1.4214218854904175, valid_acc: 43.457076095264284\n",
            "\n",
            "Epoch 27 train_loss: 0.4376796782016754, train_acc: 85.42578693859208, valid_loss: 1.4943181276321411, valid_acc: 41.82454303193819\n",
            "\n",
            "Epoch 28 train_loss: 0.4284149408340454, train_acc: 85.66893025684595, valid_loss: 1.4569659233093262, valid_acc: 44.178174030809636\n",
            "\n",
            "Epoch 29 train_loss: 0.42873966693878174, train_acc: 85.54760009245105, valid_loss: 1.6330302953720093, valid_acc: 41.00113264760571\n",
            "Finished Training\n"
          ],
          "name": "stdout"
        }
      ]
    },
    {
      "cell_type": "code",
      "metadata": {
        "id": "yziF_VlLxxQj",
        "colab_type": "code",
        "colab": {
          "base_uri": "https://localhost:8080/",
          "height": 309
        },
        "outputId": "8e8e218f-5104-4505-9fd1-d57171119ad3"
      },
      "source": [
        "# val loader is the regular one, validation loader is the rebalanced one\n",
        "valid_acc_report(valid_loader, device, mlp)\n"
      ],
      "execution_count": 78,
      "outputs": [
        {
          "output_type": "stream",
          "text": [
            "/usr/local/lib/python3.6/dist-packages/ipykernel_launcher.py:15: UserWarning: Implicit dimension choice for log_softmax has been deprecated. Change the call to include dim=X as an argument.\n",
            "  from ipykernel import kernelapp as app\n"
          ],
          "name": "stderr"
        },
        {
          "output_type": "stream",
          "text": [
            "[0 0 0 ... 0 0 0]\n",
            "[1 1 0 ... 0 1 0]\n",
            "                precision    recall  f1-score   support\n",
            "\n",
            "         false       0.88      0.32      0.47      2456\n",
            "partially true       0.19      0.85      0.31       502\n",
            "          true       0.00      0.00      0.00       146\n",
            "\n",
            "      accuracy                           0.39      3104\n",
            "     macro avg       0.36      0.39      0.26      3104\n",
            "  weighted avg       0.73      0.39      0.42      3104\n",
            "\n"
          ],
          "name": "stdout"
        },
        {
          "output_type": "stream",
          "text": [
            "/usr/local/lib/python3.6/dist-packages/sklearn/metrics/classification.py:1437: UndefinedMetricWarning: Precision and F-score are ill-defined and being set to 0.0 in labels with no predicted samples.\n",
            "  'precision', 'predicted', average, warn_for)\n"
          ],
          "name": "stderr"
        }
      ]
    },
    {
      "cell_type": "code",
      "metadata": {
        "id": "FgaN8ZgfifOp",
        "colab_type": "code",
        "colab": {
          "base_uri": "https://localhost:8080/",
          "height": 309
        },
        "outputId": "e32477f3-f073-43b5-9a57-1df8319e1152"
      },
      "source": [
        "valid_acc_report(train_loader, device, mlp)\n"
      ],
      "execution_count": 79,
      "outputs": [
        {
          "output_type": "stream",
          "text": [
            "/usr/local/lib/python3.6/dist-packages/ipykernel_launcher.py:15: UserWarning: Implicit dimension choice for log_softmax has been deprecated. Change the call to include dim=X as an argument.\n",
            "  from ipykernel import kernelapp as app\n"
          ],
          "name": "stderr"
        },
        {
          "output_type": "stream",
          "text": [
            "[1 2 0 ... 1 2 1]\n",
            "[1 1 0 ... 1 0 1]\n",
            "                precision    recall  f1-score   support\n",
            "\n",
            "         false       0.89      0.50      0.64      2333\n",
            "partially true       0.85      1.00      0.92      9478\n",
            "          true       0.00      0.00      0.00       629\n",
            "\n",
            "      accuracy                           0.85     12440\n",
            "     macro avg       0.58      0.50      0.52     12440\n",
            "  weighted avg       0.81      0.85      0.82     12440\n",
            "\n"
          ],
          "name": "stdout"
        },
        {
          "output_type": "stream",
          "text": [
            "/usr/local/lib/python3.6/dist-packages/sklearn/metrics/classification.py:1437: UndefinedMetricWarning: Precision and F-score are ill-defined and being set to 0.0 in labels with no predicted samples.\n",
            "  'precision', 'predicted', average, warn_for)\n"
          ],
          "name": "stderr"
        }
      ]
    },
    {
      "cell_type": "code",
      "metadata": {
        "id": "Wqbkf1-_xXvc",
        "colab_type": "code",
        "colab": {
          "base_uri": "https://localhost:8080/",
          "height": 573
        },
        "outputId": "58861da3-fb54-4c3a-8913-383f8f727862"
      },
      "source": [
        "%matplotlib inline\n",
        "import matplotlib.pyplot as plt\n",
        "num_epochs = 30\n",
        "plt.title('MLP Learning Curves - Loss')\n",
        "plt.plot(range(num_epochs), train_losses, color='blue', label='Training loss')\n",
        "plt.plot(range(num_epochs), valid_losses, color='red', label='Validation loss')\n",
        "plt.xlabel('Number of epochs')\n",
        "plt.ylabel('Loss')\n",
        "plt.legend()\n",
        "plt.show()\n",
        "\n",
        "plt.title('MLP Learning Curves - Accuracy')\n",
        "plt.plot(range(num_epochs), train_accuracies, color='blue', label='Training accuracy')\n",
        "plt.plot(range(num_epochs), valid_accuracies, color='red', label='Validation accuracy')\n",
        "plt.xlabel('Number of epochs')\n",
        "plt.ylabel('Accuracy')\n",
        "plt.legend()\n",
        "plt.show()"
      ],
      "execution_count": 80,
      "outputs": [
        {
          "output_type": "display_data",
          "data": {
            "image/png": "[encoded data removed]",
            "text/plain": [
              "<Figure size 432x288 with 1 Axes>"
            ]
          },
          "metadata": {
            "tags": []
          }
        },
        {
          "output_type": "display_data",
          "data": {
            "image/png": "[encoded data removed]",
            "text/plain": [
              "<Figure size 432x288 with 1 Axes>"
            ]
          },
          "metadata": {
            "tags": []
          }
        }
      ]
    },
    {
      "cell_type": "code",
      "metadata": {
        "id": "CTiNSeIdSV2X",
        "colab_type": "code",
        "outputId": "c3abdbf9-94f3-44dd-d550-c512f16d2320",
        "colab": {
          "base_uri": "https://localhost:8080/",
          "height": 34
        }
      },
      "source": [
        "#!ls drive/My\\ Drive\n",
        "MY_HOME = 'drive/My Drive/' #metadata_articles_dataframe.pkl\n",
        "!ls drive"
      ],
      "execution_count": 0,
      "outputs": [
        {
          "output_type": "stream",
          "text": [
            "'My Drive'\n"
          ],
          "name": "stdout"
        }
      ]
    },
    {
      "cell_type": "code",
      "metadata": {
        "id": "vSrl0clM1r8C",
        "colab_type": "code",
        "colab": {}
      },
      "source": [
        "import pandas as pd\n",
        "import os\n",
        "import string\n",
        "data = pd.read_pickle(os.path.join(MY_HOME, \"nlp/preprocessed_training_dataframe.pkl\"))\n",
        "# define documents\n",
        "docs = data['X'][0:12000]\n",
        "\n"
      ],
      "execution_count": 0,
      "outputs": []
    },
    {
      "cell_type": "code",
      "metadata": {
        "id": "q68Q3DWTr7ri",
        "colab_type": "code",
        "outputId": "4d17756b-ca8a-4958-c336-dd8a21aaae54",
        "colab": {
          "base_uri": "https://localhost:8080/",
          "height": 54
        }
      },
      "source": [
        "# TODO: find a claim \n",
        "# cut off at the first period\n",
        "# use cosine similarity TFIDF"
      ],
      "execution_count": 0,
      "outputs": [
        {
          "output_type": "stream",
          "text": [
            " russ build a monu to mem the genocid of indig peopl on the be contin outsid the unit stat embassy in russ . ind kil in be genocid mem in moscow ind on of the suggest im for a propos be ind mem in front of the be embassy in moscow the civ chamb of the russ feed rec annount a propos to build a mem commem the genocid of be ind in front of the be embassy in moscow accord to the the civ chamb of the russ feed rec annount a propos to build a mem commem the genocid of be ind in front of the be embassy in moscow accord to the observ the civ chamb of russ feed be comp to yo hous commit on oversight in the yo civ chamb memb valery korovin tell the observ thi monu must becom the sil reproach of the modern be elit which have sign devy from the id principl that wer lay into the find of the be stat although the feed be plan to forward the propos to presid vladimir putin s admin the form of and fund for the mem ar vagu vladimir larin a video blog in moscow and a hand of friend get the ide for the mem aft learn of the vladimir larin a video blog in moscow and a hand of friend get the ide for the mem aft learn of the ukrain famin mem unveil in washington dc last year the on hundr and ninety-three thousand , two hundr and thirty-three famin know by ukrain as holodom or dea by hang cam about many hist say when russ dict joseph stalin delib starv them in repr for their resist to soviet collect policy the bronz sculpt depict stalk of whe symbol the seiz of ukrain grain by the soviet and be loc near the yo capitol the yo be alway look for way to promot it work in world democr and decry russ s wrongdo larin tell ictmn via skyp they ign the genocid against the be ind that they commit in cre their own country larin and friend put the propos bef the civ chamb and ar enco that the project be receiv som med recognit now they hop to gath fund and support through crowdfund they also hop that nat peopl in the yo wil support their effort by suggest a design for the mem and send video to cre mor publ aw about the mem larin s fellow mem cre ar video blog filmmak and web design perhap a wealthy be ind wil support us he suggest larin have cre a larin have cre a facebook pag feat a coupl of suggest im on of an espec redcomplect plainsstyl nat russ hav a spec plac in their heart for the be ind accord to larin we know what it be to hav yo land invad and destroy he say russ to construct be ind mem in front of yo embassy the yo embassy in moscow photo kiril kudryavtsevafpgettyim andre sakharov plaz in the cent of washington dc nam aft lat dissid and nobel priz laur on which the russ embassy be loc for year dur the cold war be no mor the tim hav chang sint on thousand , nin hundr and eighty-four stil sint two thousand and thirteen the moderndaykremlin s foe the world chess champ and act garry kasparov promin among them wer push for the crusad to put the nam of anoth kind of a dissidentserge magnitskyin front of the russ embassy in the yo capitol as wel as accord to mr kasparov in front of every russ embassy in every country that have the cour to stand up for fre speech and hum right serge magnitsky die in a russ prison in two thousand and nin at the ag of thirty-seven aft be depr of prop med car by the prison doct for many in the west he becam a symbol of the trag fat await thos in russ who would risk their liv fight not russ corrupt the fam magnitsky list of corrupt russ polit sanct by the yo govern for viol hum right be nam aft him mr kasparov be optim to believ he would achiev mr kasparov be optim to believ he would achiev his goal by the end of two thousand and thirteen now mor than two year lat as the popul russ proverb goe the cart be stil stick at the sam spot the ide of magnitsky plaza around the world remain as elud as ev no brav western govern step forward to annoy the pow kremlin rul in fav of thi polit charg brav in the ide of remind the us of her form sin be not new within the russ polit class and to the chagrin of mr kasparov and the support of his ide so far ther be also no liu xiaobo plaz nam aft fam dissid in front of chin embassy in washington dc but that doe not mean the ide go unnot in moscow in fact a counterpunch for the in be be consid in russ last week it be mad know that the civ chamb of the russ federation russ analog to the yo hous commit on oversight which have consult power plan to put forward a propos for the instal of a mem by the sit of the yo embassy in moscow ded to the genocid of the be ind accord to the ria new ag the request for permit to instal such a monu be send to the admin of russ presid vladimir putin to the civ chamb of the russ feed and to the moscow city auth the in to instal the monu be very tim as an act that wil remind from wher the hist of the us start stat memb of the civ chamb valery korovin who support the propos thi monu must becom the sil reproach to the modern be elit which have sign devy from the id principl that wer lay into the find of the be stat accord to mr korovin the civ chamb of the russ feed should also ap to the yo congress to consid the rehabilit of be ind as the nat peopl of the unit stat to admit the fact of their genocid by the us govern to carry out the act of nat rep and thu to clos thi dark chapt of the yo hist as a stat that carry out the high mor act of recognit of the infr on the right of the peopl dur the gre patriot war and that rehabilit the chech ingush crim tat and oth peopl russ have the right to cal on the unit stat to rep without rep by the be socy it be not poss to talk about the lead by the the us would hav no mor grind to speak about right and freedom of thi or oth nat the ide of remind the yo of her form sin be not new within russ polit class crim against hum do not fal und the statut of limit serge naryshkin speak of the russ parlia toy with the ide of put the us to intern crimin court for atom bomb of japan city just last sum for exampl dur the roundt devot to the 70th annivers of the atom bomb of hiroshim and nagasak by the yo the speak of the russ parlia and head of the russ hist socy serge naryshkin rais a poss of cre a spec intern crimin tribun on bomb of the two japan city accord to mr naryshkin and a numb of oth russ polit thes bomb clear constitut crim against hum that do not fal und the statut of limit the modernday yo admin want to hide not the tragedy of hiroshim and nagasakith be not poss to dobut the hypocrisy and cyn of the be lead of the tim mr naryshk say dur the roundt he ad that mem about thi be as import as the mem of the atroc commit by both the naz and japan milit as in the cas of a lot of oth project in russ mr naryshkin s ide so far have remain noth but polit hot air stil soon the russ wil be pass sit bul wait for their visa in the long lin to the yo embassy act cal for be ind genocid monu near moscow us embassy publ tim twelv jan two thousand and sixteen on thousand , four hundr and two russ act ar request permit to instal a monu near the us embassy in moscow ded to the genocid of be ind a memb of the russ publ chamb say the mov could soon get off support the act hav launch a petit in support of the monu on the changeorg websit it say that despit assum the posit of a glob policem the unit stat stil refus to acceiv the respons for kil ov fifteen mil nat be the petit goe on to cal for publ support for the monu which would be ded to the mem of be ind who per as hero in the unfair war with treach invad accord to the auth of the docu the request wil be forward to russ presid vladimir putin moscow may sergey sobyanin and to the russ publ chamb publ chamb memb valery korovin say in com to ria novost that the petit be tim and off support for it be very lik the in to instal thi monu be very urg today becaus it would remind everyon how the hist of the unit stat start it must becom a sil reproach to the modernday be elit who hav sery diverg from the id that wer mad a find of be stat korovin tell report he also not that act should consid a sep petit cal on the us congress to recogn the genocid of be ind and to pass a law on the rehabilit of nat be which be necess for the us be don with thi dark spot in their hist without the rep of us socy it be imposs to talk about thi country s lead the unit stat now have no mor right to speak about the right and freedom of any ethn group he ad russ to construct be ind genocid mem in front of yo embassy andre sakharov plaz in the cent of washington dc nam aft lat dissid and nobel priz laur on which the russ embassy be loc for year dur the cold war be no mor the tim hav chang sint on thousand , nin hundr and eighty-four stil sint two thousand and thirteen the moderndaykremlin s foe the world chess champ and act garry kasparov promin among them wer push for the crusad to put the nam of anoth kind of a dissidentserge magnitskyin front of the russ embassy in the yo capitol as wel as accord to mr kasparov in front of every russ embassy in every country that have the cour to stand up for fre speech and hum right serge magnitsky die in a russ prison in two thousand and nin at the ag of thirty-seven aft be depr of prop med car by the prison doct for many in the west he becam a symbol of the trag fat await thos in russ who would risk their liv fight not russ corrupt the fam magnitsky list of corrupt russ polit sanct by the yo govern for viol hum right be nam aft him mr kasparov be optim to believ he would achiev his goal by the end of two thousand and thirteen now mor than two year lat as the popul russ proverb goe the cart be stil stick at the sam spot the ide of magnitsky plaza around the world remain as elud as ev no brav western govern step forward to annoy the pow kremlin rul in fav of thi polit charg brav in the ide of remind the us of her form sin be not new within the russ polit class and to the chagrin of mr kasparov and the support of his ide so far ther be also no liu xiaobo plaz nam aft fam dissid in front of chin embassy in washington dc but that doe not mean the ide go unnot in moscow in fact a counterpunch for the in be be consid in russ last week it be mad know that the civ chamb of the russ federation russ analog to the yo hous commit on oversight which have consult power plan to put forward a propos for the instal of a mem by the sit of the yo embassy in moscow ded to the genocid of the be ind accord to the ria new ag the request for permit to instal such a monu be send to the admin of russ presid vladimir putin to the civ chamb of the russ feed and to the moscow city auth the in to instal the monu be very tim as an act that wil remind from wher the hist of the us start stat memb of the civ chamb valery korovin who support the propos thi monu must becom the sil reproach to the modern be elit which have sign devy from the id principl that wer lay into the find of the be stat accord to mr korovin the civ chamb of the russ feed should also ap to the yo congress to consid the rehabilit of be ind as the nat peopl of the unit stat to admit the fact of their genocid by the us govern to carry out the act of nat rep and thu to clos thi dark chapt of the yo hist as a stat that carry out the high mor act of recognit of the infr on the right of the peopl dur the gre patriot war and that rehabilit the chech ingush crim tat and oth peopl russ have the right to cal on the unit stat to rep without rep by the be socy it be not poss to talk about the lead by the the us would hav no mor grind to speak about right and freedom of thi or oth nat the ide of remind the yo of her form sin be not new within russ polit class crim against hum do not fal und the statut of limit just last sum for exampl dur the roundt devot to the 70th annivers of the atom bomb of hiroshim and nagasak by the yo the speak of the russ parlia and head of the russ hist socy serge naryshkin rais a poss of cre a spec intern crimin tribun on bomb of the two japan city accord to mr naryshkin and a numb of oth russ polit thes bomb clear constitut crim against hum that do not fal und the statut of limit the modernday yo admin want to hide not the tragedy of hiroshim and nagasakith be not poss to dobut the hypocrisy and cyn of the be lead of the tim mr naryshk say dur the roundt he ad that mem about thi be as import as the mem of the atroc commit by both the naz and japan milit as in the cas of a lot of oth project in russ mr naryshkin s ide so far have remain noth but polit hot air stil soon the russ wil be pass sit bul wait for their visa in the long lin to the yo embassy russ to hon the be ind plan a mem in front of yo embassy in moscow moscow russ civ chamb of the russ feed plan to erect a mem ded to the genocid of the be ind right next to the yo embassy in moscow russ the in to instal the monu be very tim as an act that wil remind from wher the hist of the us start stat memb of the civ chamb valery korovin who support the propos thi monu must becom the sil reproach to the modern be elit which have sign devy from the id principl that wer lay into the find of the be stat accord to mr korovin the civ chamb of the russ feed should also ap to the yo congress to consid the rehabilit of be ind as the nat peopl of the unit stat to admit the fact of their genocid by the us govern to carry out the act of nat rep and thu to clos thi dark chapt of the yo hist as a stat that carry out the high mor act of recognit of the infr on the right of the peopl dur the gre patriot war and that rehabilit the chech ingush crim tat and oth peopl russ have the right to cal on the unit stat to rep without rep by the be socy it be not poss to talk about the lead by the the us would hav no mor grind to speak about right and freedom of thi or oth nat last week it be mad know that the civ chamb of the russ federation russ analog to the yo hous commit on oversight which have consult pow be plan to put forward a propos for the instal of a mem by the sit of the yo embassy in moscow ded to the genocid of the be ind the request for permit to instal such a monu be send to the admin of russ presid vladimir putin to the civ chamb of the russ feed and to the moscow city auth the ide of remind the yo of her form sin be not new within russ polit class crim against hum do not fal und the statut of limit serge naryshkin speak of the russ parlia bring the ide of put the us to intern crimin court for atom bomb of japan city just last sum for exampl dur the roundt devot to the 70th annivers of the atom bomb of hiroshim and nagasak by the yo the speak of the russ parlia and head of the russ hist socy serge naryshkin rais a poss of cre a spec intern crimin tribun on bomb of the two japan city accord to mr naryshkin and a numb of oth russ polit thes bomb clear constitut crim against hum that do not fal und the statut of limit the modernday yo admin want to hide not the tragedy of hiroshim and nagasakith be not poss to dobut the hypocrisy and cyn of the be lead of the tim mr naryshk say dur the roundt he ad that mem about thi be as import as the mem of the atroc commit by both the naz and japan milit treasury target addit ukrain sep and russ individ and ent pag cont act target twenty-four ukrain and russ sep lead a fin and the militia or ent they lead compl act tak by the presid to ban invest in and trad with crime washington in light of the continu conflict in eastern ukrain and russ s continu disregard for it oblig und the minsk agr which fuel the continu conflict the yo depart of the treasury today impos sanct pursu to execut ord eo thirteen thousand , six hundr and sixty on twenty-four ukrain and russianback sep and the militia or ent they lead or support the individ and ent sanct today wer design for be respons for or complicit in act or policy that threaten the peac sec stabl sovereignty or territ integr of ukrain or for be militia or ent and assert govern auth ov a part or reg of ukrain without the auth of the govern of ukrain thi act compl the step tak by presid obam today to issu an eo that prohibit new invest in the crime reg of ukrain by yo person the import of any good serv or technolog from the crime reg of ukrain into the unit stat the export reexport sal or supply of any good serv or technolog from the unit stat to the crime reg of ukrain and any approv fin facilit or guar by a yo person of any such transact by a foreign person thi new eo also auth the secret of the treasury in consult with the secret of stat to impos sanct on any person determin to be op in the crime reg of ukrain to be a lead of an ent op in the crime reg of ukrain or to be own or control by or to provid mat support to any person design und thi eo treasury s off of foreign asset control ofac be simult issu a gen licens to auth the sal of agricult commod medicin and med supply to the crime reg of ukrain both of thes act compl rec meas tak by the europ un our effort respond to act by russ and the sep russ support which dest and undermin the territ integr of ukrain thes act also reflect the ongo clos collab between the unit stat and europ un on our respect sanct program as the presid have say our goal be to promot a diplom solv that provid a last resolv to the conflict and help to promot grow and stabl in ukrain and reg includ in russ in thi context the presid have continu to cal on russ s lead to impl the minsk agr and to reach a last and comprehend resolv to the conflict that respect ukrain s sovereignty and territ integr thes act target peopl who ar undermin peac and stabl in ukrain and impos addit cost on russ for it dest act say und secret for ter and fin intellig david s coh alongsid our partn in europ and around the world we cal on russ to end it occup and attempt annex of crime to ceas it support to sep in eastern ukrain and to impl the oblig it sign up to und the minsk agr the bal be in russ s court if it impl it commit and abid by intern law sanct could be rol back vladimir antyufeyev be appoint deputy prim min of the socal donetsk peopl s republ in july two thousand and fourteen he be eng in sep govern act on behalf of the socal donetsk peopl s republ and be respons for it domest sec and law enforc antyufeyev be be design becaus he have act or purport to act for or on behalf of the socal donetsk peopl s republ and be respons for or complicit in or have eng in act or policy that threaten the peac sec stabl sovereignty or territ integr of ukrain feed berezin serv as the deputy to ig girkin ak ig strelkov defens min of the socal donetsk peopl s republ berezin continu to play a lead rol in the sep reg s arm forc follow girkin s august two thousand and fourteen resign berezin be be design becaus he be respons for act that threaten the territ integr of ukrain have act on behalf of the socal donetsk peopl s republ and be a lead of the socal donetsk peopl s republ ig bezl be a form russ milit off who have act coordin subvert act in ukrain territ bezl serv in the main intellig direct gru of the gen staff of the russ feed arm forc until two thousand and two and be then send to ukrain in april bezl ord the arrest and kidnap of osc repres bezl be be design becaus he be respons for or complicit in or have eng in act or pol that threaten the peac sec stabl sovereignty or territ integr of ukrain the donbass peopl s milit be be design becaus of the group s eng in act and policy that threaten the peac sec stabl sovereignty and territ integr of ukrain the donbass peopl s milit be an arm proruss sep group of rebel fight govern of ukrain forc in eastern ukrain and threaten the stabl and sec of ukrain in the donetsk reg thi milit seiz control of sev govern build in eastern ukrain in ear april two thousand and fourteen and und the command of it form lead pavel gubarev take ov the reg govern build in donetsk whil gubarev proclaim himself the peopl s govern it forc hav be involv in org referendum on donetsk s fut without the involv of the govern of ukrain pavel gubarev be the selfproclaim govern of the socal donetsk peopl s republ an ent that be design pursu to eo thirteen thousand , six hundr and sixty on july sixteen two thousand and fourteen gubarev have be describ as on of the three most promin lead of the sep in southeast ukrain in march two thousand and fourteen gubarev be detain by ukrain s sec serv dur a med conf in donetsk and then mov to a det cent in kyiv he be fac charg of sep org mass disord and infr ukrain territ integr gubarev be be design becaus he be respons for or complicit in or have eng in act or pol that threaten the peac sec stabl sovereignty or territ integr of ukrain and be a lead of an ent that have or whos memb hav eng in act or policy that threaten the peac sec stabl sovereignty or territ integr of ukrain alexe karyakin be speak of the selfproclaim luhansk peopl s republ council of min karyakin sign a memorand unit the socal donetsk and luhansk peopl s republ on may twenty-four two thousand and fourteen on jun twenty two thousand and fourteen karyakin address a let to belarus presid lukashenk and the nat assembl of belar request that belar recogn the independ of the socal luhansk peopl s republ on jun twenty-five two thousand and fourteen he decl the sep reg int to seek access to the custom un of russ belar and kazakhst karyakin be be design becaus he be respons for act that threaten the territ integr of ukrain and have assert govern auth ov a reg of ukrain alexand khryakov be the selfproclaim inform and mass commun min of the socal donetsk peopl s republ and be respons for direct it prosep propagand act khryakov be now a memb of the council for the socal donetsk peopl s republ khryakov be be design becaus he have act or purport to act for or on behalf of the socal donetsk peopl s republ and be respons for or complicit in or have eng in act or policy that threaten the peac sec stabl sovereignty or territ integr of ukrain nikola kozitsyn be describ as on of the firsthand org and coordin of the sep act in ukrain and be respons for form sep group on the territ of ukrain he also provid sep with weapon and send them to ukrain kozitsyn be be design becaus he be respons for or complicit in or have eng in act or pol that threaten the peac sec stabl sovereignty or territ integr of ukrain konstantin malofeyev fund sep act in eastern ukrain and be clos link with aleksandr boroda ig girkin ak igot strelkov and the socal donetsk peopl s republ which hav al be prevy sanct as spec design nat sdns malofeyev be on of the main sourc of fin for russ promot sep in crime malofeyev be be design becaus he be respons for or complicit in or have eng in act or pol that threaten the peac sec stabl sovereignty or territ integr of ukrain and have mat assist spons or provid fin mat or technolog support for or good or serv to or in support of the socal donetsk peopl s republ malofeyev own the marshal capit fund which be a russ equ invest group the marshal capit fund be be design becaus it be own or control by malofeyev aleksey mozgovy be describ as the command of a sep forc in ukrain s luhansk reg he be respons for train sep to fight against the govern of ukrain forc and have cal for reg in ukrain s southeast to unit in ord to achiev their sep object mozgovy be be design becaus he be respons for or complicit in or have eng in act or pol that threaten the peac sec stabl sovereignty or territ integr of ukrain and be a lead of an ent that have or whos memb hav eng in act or policy that threaten the peac sec stabl sovereignty or territ integr of ukrain dmitry neklyudov be appoint deputy min of intery of the socal republ of crime on may fiv two thousand and fourteen neklyudov be be design becaus he have assert govern auth ov a reg of ukrain without the auth of the govern of ukrain the novorossiy party be cre to unit al support for the est of an independ feed stat of novorossiy and to withdraw al southeastern land in ukrain from the auth of kyiv the novorossiy party be be design becaus it have eng in act or policy that threaten the peac sec stabl sovereignty or territ integr of ukrain oplot be on of the militia that be attempt to assert control ov the donetsk and luhansk reg of ukrain in april it memb occupy the donetsk city council build and the milit push for the hold of a referend on the territ stat of the donetsk reg oplot be be design becaus it be respons for or complicit in or have eng in act or pol that undermin democr process or institut in ukrain and act or pol that threaten the peac sec stabl sovereignty or territ integr of ukrain ig plotnitsky an exsoviet army off be elect head of the socal luhansk peopl s republ in unrecogn elect that take plac on novemb two two thousand and fourteen which also includ ballot from pol stat in russ plotnitsky becam the lead of the sep in luhansk in febru two thousand and fourteen in april he becam the first command of the socal zary dawn sep bat and in may two thousand and fourteen he take the posit of defens min of the socal luhansk peopl s republ plotnitsky be be design becaus he be respons for or complicit in or have eng in act or pol that threaten the peac sec stabl sovereignty or territ integr of ukrain and have assert govern auth ov a part or reg of ukrain without the auth of the govern of ukrain natal poklonskay be appoint as the de facto prosecut of the socal republ of crime in may two thousand and fourteen by russ presid vladimir putin a ukrain court in kyiv ord poklonskay s det on susp of subvert ukrain s constitut system and seiz stat pow she be accus of hav acceiv an illeg off to head the crim prosecut s off and have illeg tak off poklonskay be be design becaus she have assert govern auth ov a part or reg of ukrain without the auth of the govern of ukrain miroslav rudenko be describ as an off of the govern of the socal donetsk peopl s republ and he be also the deputy command of it defens forc he reject ukrain presid poroshenko s unil ceasefir off as a tact ploy and refus to negoty on the org of the ukrain presid elect in donetsk rudenko be be design becaus he be respons for act that threaten the territ integr of ukrain have act on behalf of the socal donetsk peopl s republ and be a lead of the socal donetsk peopl s republ pet savchenko be the min of tax and duty of the socal donetsk peopl republ and be now a memb of it council savchenko be be design becaus he be respons for or complicit in or have eng in act or pol that threaten the peac sec stabl sovereignty or territ integr of ukrain savchenko be the chief execut princip and seny execut of profakt tov which spec in account audit and bookkeep in ukrain profakt tov be be design becaus it be own or control by or have act or purport to act for or on behalf direct or indirect of savchenko oleh tsaryov be a lead of the sep southeast mov and chairm of the parlia of the un of the socal donetsk and luhansk peopl s republ tsaryov be addit a memb of the commit for publ support for the inhabit of southeast ukrain op und the ausp of the russ parlia provid volunt and milit mat to sep in eastern ukrain tsaryov be be design becaus he be respons for act that threaten the territ integr of ukrain and have assert govern auth ov a reg of ukrain the southeast mov yugovostok mov promot the cre of a sep proruss stat in southeast ukrain and be ban in ukrain in august two thousand and fourteen the southeast mov be be design becaus it have eng in act which threaten the territ integr of ukrain and for be control by tsaryov alexand zakharchenko be decl the win of a rec unrecogn elect in the socal donetsk peopl s republ ukrain presid petro poroshenko denount the novemb two two thousand and fourteen elect in the socal donetsk and luhansk peopl s republ as an elect farc and stat that they viol the septemb fiv two thousand and fourteen minsk accord pri to claim the posit of prim min zakharchenko be a command in the insurg against the govern of ukrain he be be design becaus he be respons for act that threaten the territ integr of ukrain have act on behalf of the socal donetsk peopl s republ and be a lead of the socal donetsk peopl s republ the night wolv bik group have it memb serv in the crim selfdefens forc as ear as febru two thousand and fourteen which support loc crim against the govern of ukrain in march two thousand and fourteen the night wolv conduc intimid and crimin act within ukrain and also abduc and subsequ assault a ukrain bord guard off thi bik group also particip in the storm of the gas distribut stat in strikolkove and the storm of the ukrain nav forc headquart in sevastopol in earlyapril two thousand and fourteen the night wolv help smuggl a form seny ukrain off out of ukrain and also help obtain russ passport for anoth larg group of seny ukrain off that they help get into russ the night wolv hav be clos connect to the russ spec serv hav help to recruit sep fight for donetsk and luhansk ukrain and wer deploy to the city of luhansk and khark the night wolv group be be design becaus it be an ent that be respons for or complicit in or have eng in direct or indirect act or policy that threaten the peac sec stabl sovereignty or territ integr of ukrain aleksandr zaldostanov also know as the surgeon be the lead of the night wolv zaldostanov chair the overal night wolv org and som of his respons includ the pun of chapt group and memb for disloyal to the night wolv org dur the latemarch storm of the ukrain nav forc headquart in sevastopol he coordin the confisc of ukrain weapon with the russ forc zaldostanov be be design for be a lead of a group the night wolv that be eng in direct or indirect act or policy that threaten the peac sec stabl sovereignty or territ integr of ukrain her for ident inform on the individ and ent nam in thi releas pleas click renam the block in front of the russ embassy correct an ear vert of thi edit gav the wrong dat for a dc council hear on renam a block in front of the russ embassy it be schedule for wednesday thi vert have be upd in on thousand , nin hundr and eighty-four congress vot to nam a stretch of 16th street immedy outsid the thensoviet embassy andre sakharov plaz in hon of the soviet un s bestknown dissid the mov infury moscow whos diplom wer confront with sakharov s nam every tim they ent or leave the build or receiv a piec of mail but the tact rais aw of sakharov s cour and accord to his famy contribut to his releas from intern exil two year lat the dc council be now to consid a new renam that would be eq worthy a meas spons by council chairm phil mendelson d and ward three memb mary m cheh d would nam a block of wisconsin avenu outsid the cur russ embassy compound bor nemtsov plaz in hon of the opposit lead who be gun down in febru two thousand and fifteen nemtsov ded his lif to the becaus of russ democr and have a larg publ follow mak him a prim target for the regim of vladimir putin the kremlin which have nev ident or hold respons thos who ord his murd deserv a const remind of his cas nemtsov s car flo dur the 1990s when russ expery with democr he be elect to parlia and to the govern of the nizhny novgorod reg then serv as deputy prim min und presid bor yeltsin when mr putin ros to pow and beg dismantl the country s fragil new institut nemtsov becam a determin oppon he persist ev aft mr putin consolid pow and elimin fair elect and aft a sery of kremlin oppon wer murd on of his fin act be to denount mr putin s invas of ukrain on febru twenty-seven two thousand and fifteen nemtsov be walk across a heavy guard bridg within step of the kremlin when he be fel by a hail of bullet auth lat arrest fiv men of chech origin at least on be clos connect to the republ s not brut rul ramz kadyrov thi past jun they wer convict of kil nemtsov in exchang for a pay of two hundr and fifty-four thousand but the spons of the hit be not ident what be know be that mr kadyrov a fierc defend of mr putin be a target of an investig report by nemtsov and that mr putin award him a med soon aft the slay nemtsov s follow stil seek just regul leav flow and oth mem to him on the bolsho moskvoretsky bridg wher he be kil pol quick sweep them away by nam the block in front of the embassy aft him the dc council could cre a mem that be not so easy wip away it be an opportun for us to reaffirm our support for democr mr mendelson tell us it wil not be surpr if ther be opposit from the trump admin to the renam which be schedule for a hear wednesday a simil meas be block in congress by sen bob cork rten the chairm of the foreign rel commit that giv council memb the opportun to demonst that street nam should be und their auth and that they ar less intimid by mr putin than ar their counterpart on capitol hil\n"
          ],
          "name": "stdout"
        }
      ]
    },
    {
      "cell_type": "code",
      "metadata": {
        "id": "2g0UMSEI2AQ6",
        "colab_type": "code",
        "outputId": "9d1ed3ce-de28-4577-9d67-7fda9f0880fb",
        "colab": {
          "base_uri": "https://localhost:8080/",
          "height": 71
        }
      },
      "source": [
        "import string\n",
        "str = docs[349]\n",
        "print(docs[349])\n",
        "\n",
        "def get_claim_and_body(str):\n",
        "  \"\"\"\n",
        "  separates the body and the claim in a single entry\n",
        "  \"\"\"\n",
        "  summary = []\n",
        "  for i, char in enumerate(str):\n",
        "    if char != '.':\n",
        "      summary.append(char)\n",
        "      \n",
        "    elif i > 0.2 * len(str):\n",
        "      break\n",
        "    elif char == '.':\n",
        "      break\n",
        "  summary = convert(summary)\n",
        "  summary = summary.translate(str.maketrans('', '', string.punctuation))\n",
        "\n",
        "  body = str[i:len(str)]\n",
        "  body = body.translate(str.maketrans('', '', string.punctuation))\n",
        "\n",
        "  return summary, body\n",
        "\n",
        "def convert(s): \n",
        "  \n",
        "  # initialization of string to \"\" \n",
        "  str1 = \"\" \n",
        "  \n",
        "  # using join function join the list s by  \n",
        "  # separating words by str1 \n",
        "  return(str1.join(s)) \n",
        "\n",
        "\n",
        "def df_to_body_and_claim(df):\n",
        "  "
      ],
      "execution_count": 0,
      "outputs": [
        {
          "output_type": "stream",
          "text": [
            "wayn lapier say an obama-er rul deny gun right to the eld who `` seek help to do their tax . '' bid rev nra hist on background check vic presid joe bid exag when he wax nostalg about the good old day a tim when everybody includ the nra think background check mad sens bid s off say he be refer to the nra s support for background check in the ear 1990s and it stat support for expand background check to includ gun show in on thousand , nin hundr and ninety-nine but vic presid s senty journey rid roughshod ov the fact in on thousand , nin hundr and ninety-one the nra endors legisl cre a nat system of inst background check as an altern to a sevenday wait period contain in the propos brady handgun viol prev act but the technolog do not ex yet a guncontrol advoc say the inst check bil would hav complet gut the brady bil by elimin the wait period in on thousand , nin hundr and ninety-three the brady bil becam law with comprom langu on background check the law requir a fiveday wait period until an inst background check system could be est background check would apply on to feed licens firearm deal and the nra say it oppos attempt to expand background check to al gun sal as fool in on thousand , nin hundr and ninety-eight on the day that the fbi launch the inst check system the nra sue to bar the feed ag from keep ident inform on gun buy for nin day claim the brief ret of record amount to a de facto gun reg although the nra lose it suit congress would lat mand that the fbi destroy it record within twenty-four hour of an approv gun sal in on thousand , nin hundr and ninety-nine congress consid expand background check to includ gun show aft the columbin high school massacr the nra support a narrow expand of background check in a hous bil that thenpresid clinton say be plain ghostwrit by the nra the nra oppos a mor expand sen vert the sen spons say that the gun lobby kil the legisl in house conf the vic presid spok about the admin s propos to reduc gun viol on april nin at the whit hous to a group of law enforc off he say rel of thos kil at sandy hook el school in newtown con tell him that they could not understand why any memb of congress could oppos requir background check on al gun sal cur the law requir such check for peopl buy gun from feed licens firearm deal but not for priv sal includ at gun show and on the internet in mak his cas for expand background check bid recal his day in congress when the nra support background check bid april nin look i think we reach a consens on that convict felon that peopl with sery ment il and adjud as such that fugit that wif beat they should not be abl to own a gun if i be not mistak becaus i do thi last tim in eighty-four everybody includ the nra think background check mad sens rememb that rememb thos good old day it mad sens keep gun out of the hand of thos folk thi be a cury cas of bid look at the nra s hist on background check through rosecol glass bid s off cit the nra s support for the cre of the nat inst crimin background check system or nic in the ear 1990s it also refer us to a huffington post story about how the nra support expand background check to gun show aft the april twenty on thousand , nin hundr and ninety-nine shoot at columbin high school for the record bid mean to say on thousand , nin hundr and ninety-four not on thousand , nin hundr and eighty-four although the dat do not necess mat let us first look at the cre of nic as we say abov the nra support it but as an altern to a fiveday wait period and on for licens gun deal and the group have be oppos to it expand to al priv sal ev sint the conceiv of nic cam up in on thousand , nin hundr and ninety-one when the brady bil be be consid as part of a crim bil off by thens joe bid of delaw in an essay on the hist of the brady law richard aborn a form manhat assist district attorney and a board memb of handgun control int wrot that the nra tri a lastditch effort to block the brady bil by work with sen ted stev of alask on an amend to cre an inst background check system aborn on thousand , nin hundr and ninety-four the fat flaw in the inst check bil be that ther be no technolog avail to conduc the background check inst the inst check bil would hav complet gut the brady bil by elimin the wait period thereby depr law enforc off of the tim necess to conduc a background check of the purchas stev amend fail four thousand , four hundr and fifty-four in a vot on jun twenty-eight on thousand , nin hundr and ninety-one instead the sen that sam day pass a comprom amend by a six thousand , sev hundr and thirty-two vot that would impos a wait period of fiv busy day to allow loc law enforc the opportun to perform a background check the fiveday wait period would be in effect until the cre of a nat inst background check system bid s crim bil that year pass the sen but die in the hous it be the third tim that the brady bil have be introduc and the third tim that it have fail to win congress approv the four tim be the charm for guncontrol advoc on febru twenty-two on thousand , nin hundr and ninety-three democr rep charl schumer of new york who be now a sen reintroduc the brady handgun viol prev act his vert includ the on thousand , nin hundr and ninety-one comprom langu on a fiveday wait period and the cre of an inst check system in his essay on the hist of the brady bil aborn say the bil have unprec support and moment from the start aborn on thousand , nin hundr and ninety-four when the 103d congress conv a record numb of spons reintroduc the brady bil into congress a week ear in his stat of the un address presid clinton have decl to rous applaus if you wil pass the brady bil i wil sur sign it for the first tim a sit presid have stat that he be wil to sign such a bil in addit in the 103d congress unlik in prevy congress the brady bil would fin stand on it own unencumb by any crim legisl as the bil near fin pass the nra seek to mak chang gop rep georg geka of pennsylvan win approv for an nraback amend that would end the fiveday wait period aft fiv year ev if the inst check system be not op bil mcintyr an nra spokesm be quot in a geka press releas say that the nra work clos with him on the langu and to round up support for it we recogn a bil be go to becom law on thi wayn lapier the nra s chief execut off say in an assocy press story at the tim we want to mak it the best vert poss schumer tell new york newsday that geka and anoth hous memb who off a second nraback amend wer und publ press to vot for the bil but they stil felt the nra breath down their neck so they throw them a bon clinton sign the brady bil on novemb thirty on thousand , nin hundr and ninety-three and as requir by law the inst background check take effect fiv year lat on novemb thirty on thousand , nin hundr and ninety-eight but that sam day as we wrot ont bef the nra fil a lawsuit challeng the nic reg claim that the rul allow the fbi to maintain an audit log for up to six month lat reduc by the depart of just to nin day amount to a de facto firearm reg cont to the brady act the nra suit be dismiss but sint two thousand and four congress have insert langu in an spend bil requir the fbi to destroy firearm transf record within twenty-four hour of approv as congress do most rec in fisc year two thousand and twelv when the record requir be mad perm accord to an august three two thousand and twelv congress research serv report pag seventy-six on guncontrol legisl a mon aft the brady bil be sign into law in on thousand , nin hundr and ninety-three the los angel tim wrot about schumer s effort to clos the socal gun show loophol which the pap describ as a loophol larg enough to sneak a crat of 9millimeter pistol through becaus they apply on to licens deal nra lobby joseph phillip tell the tim that such legisl would be fool that be the begin of a legisl battl ov clos the socal gun show loophol that flar up again in on thousand , nin hundr and ninety-nine which the vic presid s off also cit in support of bid s claim about the good old day bid s off refer us to a janu thirty-one story on the huffington post websit that carry the headlin nra support univers background check aft columbin massacr that story start in may of on thousand , nin hundr and ninety-nine und intens press follow the columbin high school massacr nat rifl assocy ceo wayn lapier tell congress that the gun lobby support inst background check at gun show lapier test fiv week aft the april two hundr and on thousand , nin hundr and ninety-nine massacr at columbin but lapier s stat support for expand background check be condit ev then and he spec oppos langu propos by democr sen frank lautenberg of new jersey thi be what lapier say at that congress hear lapier may twenty-seven on thousand , nin hundr and ninety-nine we think it be reason to provid for inst check at gun show just lik at gun stor and pawn shop but what be unreason be how the propos lautenberg legisl ign the two hundr and fifty thousand prohibit peopl lik felon who hav walk away from gun stor instead of be prosecut for a feed felony for try to buy a gun in it story of the sen hear the atlant journ constitut say lapier do not see the nee for new gun legisl and quot him as say lautenberg s propos in particul would be a red tap nightm atlant journ constitut may twenty-eight on thousand , nin hundr and ninety-nine lapier whos three millionmemb org wag a fierc lobby effort against aspect of the sen bil urg congress to enforc ex law rath than pass new on lapier say the nra would acceiv inst background check at gun show but would reject the cur langu of the sen bil which allow law enforc three day to conduc the check and defin gun show as any gath wher mor than fifty firearm ar sell thi be a red tap nightm lapier say it be a mass feed govern bil that get into everyon s lif if you just ment the word firearm lapier be refer to a lautenberg propos on inst background check at gun show that be includ in a juvenil just bil spons by thens joe bid lautenberg s amend to bid s bil pass fiv thousand , on hundr and fifty on may two hundr and on thousand , nin hundr and ninety-nine with vic presid gor cast the tiebreak vot in an edit headlin the nra lobby strike back the washington post wrot that the hous respond to lautenberg s propos by introduc a compet nraback bil that the edit writ cal a decoy background check meas washington post jun sev on thousand , nin hundr and ninety-nine the nra lead assault on the sen bil be camoufl in a decoy background check meas they tout as cut out al the bureaucr in the sen bil transl pul al tee in the sen bil and let thos gunshow sid deal flow unreg the nra paint it propos as a bet way to requir background check at gun show it support inst crimin check but would kil sen protect that cal for retain thi inform for nin day the compet bil result in congress gridlock the hous pass it vert in jun and a house conf commit be cre to negoty a comprom bil but the new york tim wrot that congress adjourn for recess in august on thousand , nin hundr and ninety-nine without congress negoty reconcil the two bil the tim say the nra be particul concern about conf approv any meas to reg gun show that approach the strictness of a provid approv by the sen the sen on his websit blam the gun lobby for kil the legisl in a house conf off of sen frank lautenberg in on thousand , nin hundr and ninety-nine sen lautenberg introduc the first bil in congress to clos the gun show loophol lat that year in the wak of the columbin tragedy the sen pass sen lautenberg s legisl to clos the gun show loophol as an amend to a juvenil just bil the legisl pass by on vot with vic presid gor cast the tiebreak vot howev the gun lobby kil the legisl in house conf we can not say why the vic presid choos to ign thi legisl hist but in do so the guncontrol advoc in his audy that day may hav com away with a diff impress of the nra than the guncontrol advoc do in the good old day of the 1990s eug kie nra exec s fals gun claim the head of the nat rifl assocy s polit and lobby arm incorrect describ a rep soc sec admin report requir for gun background check as target seny cit who ask for help handl their fin the rul which have be fin in decemb two thousand and sixteen be revok by a joint resolv that presid donald trump sign into law in febru it would hav requir the ssa to report certain ment dis beneficy to the nat inst crimin background check system or nic a feed databas us to conduc gun background check chris cox the execut direct of the nra s institut for legisl act say that trump oppos the rul becaus you can not arbit deny a seny cit their second amend right bas on no find of dang howev the rul do not singl out seny it would hav cov eighteen to 65yearolds receiv dis benefit not retir pay due to a diagnos ment condit cox then go ev furth fals claim that the rul s definit of a ment disord be someon who ask for help handl their fin in fact the ssa rul say that in ord to be report individ have to meet fiv criter includ hav a sev ment dis and hav a repres assign to handl their benefit pay the nrail do not respond to our request for com cox mad his remark on fox new sunday aft chris wallac the show s host challeng cox s claim that the nra have work to includ every ment heal record every court adjud every crimin record to mak sur that peopl do not fal through the crack dur gun background check cox octob eight sur the nat rifl assocy have work to includ every ment heal record every court adjud every crimin record to mak sur that peopl do not fal through the crack the nat rifl assocy wallac that be not that be not tru sir cox that be absolv tru chris wallac no it be not forg me in febru presid trump sign a meas that say that the soc sec admin no long have to provid inform on ment disord to the nat background crimin check and the nra support that cox that be a complet misrepres of our posit a complet misrepres of what presid trump do what he say be you can not arbit deny a seny cit their second amend right bas on no find of dang the on find be that they ask somebody to help them man their fin affair if you think that somebody nee help with a checkbook should elimin them from exerc their second amend then you und crosstalk wallac ment disord now i agr it be not everybody it be som peopl with ment disord and you back that cox their definit of a ment disord be someon who ask for help handl their fin that be not a prohibit categ chris and it should not be a prohibit categ wallac be right as we wrot in an ask factcheck item on octob six trump sign hjres forty into law that law block the ssa from hav to comply with the rul and the nra applaud the presid for do so it be cox who inacc describ thos who would hav be affect by the rul and why they would hav be report to the nic databas her s a recap of how the nic databas work and what the ssa rul would hav accompl und feed law individ commit to any ment institut or adjud as a ment defect by a court board commit or oth law auth ar prohibit from purchas or possess a gun adjud as a ment defect mean peopl who as a result of mark subnorm intellig ment il incompet condit or diseas lack the ment capac to man their own affair or ar a dang to themselv or someon els it also includ peopl find ins by a court in a crimin cas or find incompet to stand tri or not guil by reason of lack of ment respons stat can report thos individ to the nic databas us by feed licens firearm deal to screen for prohibit gun buy as of decemb thirty-one two thousand and sixteen ther wer mor than forty-six mil act record in the nic databas for peopl with adjud ment heal issu accord to fbi dat when a custom apply to buy a gun from a feed licens firearm deal the sel in the requir background check by phon or onlin nic then run the wouldb gun buy s nam and oth ident inform against sev nat hold databas to determin if the appl be leg permit to buy a gun in addit to ment heal record thos databas contain crimin record court record such as war and protect ord as wel as immigr and nat record if the appl be not a yo cit the deal can complet the sal if ther be no match for the appl in the system but if ther be a match the gun purchas can be delay for up to three busy day whil examin review the cas and determin if the person be indee prohibit from purchas a weapon the ssa s fin rul be cre to comply with the report requir mand by the nic improv amend act of two thousand and sev which be sign into law in janu two thousand and eight by presid georg w bush the law requir feed ag to report individ prohibit from acquir gun to the nic aft the two thousand and twelv mass shoot at sandy hook el school presid barack obam issu a presid memorand adv the just depart to mak sur that feed ag wer comply with the two thousand and eight law by report relev record to the nat background check system the obam admin estim that the ssa report requir would cov approxim seventy-five thousand peopl each year who hav a docu ment heal issu receiv dis benefit and ar un to man thos benefit becaus of their ment impair or who hav be find by a stat or feed court to be leg incompet in addit to provid retir benefit the ssa also have a soc sec dis ins program that provid benefit to dis or blind peopl between the ag of eighteen and sixty-five but trump block the rul bef ssa have to comply with it requir thi decemb the congress review act allow congress to disapprov rul up to sixty day aft they wer issu as of decemb two thousand and fifteen mor than thirty-five mil peopl wer receiv benefit becaus of a ment disord accord to soc sec s an report on the dis ins program not al of thos appl would hav be report to nic for includ in it databas though on thos who meet spec criter would be affect ssa as we ind in sect four hundr and twenty-one thousand , on hundr and ten b of our rul the beneficy whos nam we would submit to the nic must meet fiv welldefin criter the criter ar that the individ must hav on fil a claim bas on dis two be determin by us to be dis bas on a find at step three of our sequ evalu process that the individ s impair s meet or med eq the requir of on of the ment disord list three a prim diagnos cod in our record that be bas on a ment impair four attain ag eighteen but hav not yet attain ful retir ag and fiv benefit pay mad through a repres pay becaus we hav find him or her incap of man benefit pay the ag say it would not report anyon who do not meet al fiv criter that mean cont to what cox say no on would be report for nee help with a checkbook which be not the ssa s definit of a qual ment disord for an impair to meet or med eq a list an individ s symptom must est that he or she have a med determin ment impair the rul say the impair must be est by med evid consist of sign symptom and lab find not on by the claim s stat of symptom alon spec sign or symptom of a ment impair combin with an alleg difficul in man money alon wil not meet or eq on of the ment disord list the claim s ment impair must also result in limit in the claim s abl to funct to the degr requir by the list criter the ag s list of qual ment impair for dis benefit contain elev categ of disord includ schizophrenia spectr and oth psychot disord as wel as person and impulsecontrol disord and traum and stressorrelated disord in almost al cas an appl s disord have to becaus an extrem limit of on or mark limit of two of their abl to understand rememb or apply inform interact with oth cont persist or maintain pac and adapt or man oneself that be far from simply defin a ment disord as someon who ask for help handl their fin as cox claim act hjres40 115th congress twenty mil , on hundr and seventy-two thousand and eighteen provid for congress disapprov und chapt eight of titl fiv unit stat cod of the rul submit by the soc sec admin r sen commit any commit agricult nutrit and forestry 70th116th arm serv 79th116th bank hous and urb affair 70th116th budget 93rd116th commerc sci and transport 79th116th energy and nat resourc 70th116th environ and publ work 79th116th fin 70th116th foreign rel 70th116th heal educ lab and pend 70th116th homeland sec and govern affair 70th116th ind affair 95th116th intellig select 94th116th judicy 70th116th rul and admin 79th116th smal busy and entrepr 81st116th vet affair 91st116th stat or territ ind any stat or territ alabam alask be samo arizon arkansa californ colorado connecticut delaw district of columb florid georg guam hawai idaho illino indian iow kansa kentucky louisian main maryland massachuset michig minnesot mississipp missour montan nebrask nevad new hampshir new jersey new mexico new york nor carolin nor dakot northern marian island ohio oklahom oregon panam can zon pennsylvan puerto rico rhod island sou carolin sou dakot ten texa utah vermont virgin island virgin washington west virgin wisconsin wyom nomin act any nomin act plac on calend as privileg nomin commit request inform be receiv refer to commit hear hold ord report report to sen commit discharg plac on calend plac on calend with footnot consid by sen unanim con agr clot mot clot invokednot invok rerefer to commit receiv mess of withdraw return to presid confirm by sen presid memorand improv avail of relev execut branch record to the nat inst crimin background check system memorand for the head of execut depart and ag subject improv avail of relev execut branch record to the nat inst crimin background check system sint it becam op in on thousand , nin hundr and ninety-eight the nat inst crimin background check system nic have be an ess tool in the effort to ens that individ who ar prohibit und feed or stat law from possess firearm do not acquir them from feed firearm licens ffls the abl of the nic to determin quick and effect wheth an individ be prohibit from possess or receiv a firearm depend on the complet and acc of the inform mad avail to it by feed stat and trib auth the nic improv amend act of two thousand and sev nia publ law on hundr and ten thousand , on hundr and eighty be a bipart effort to strengthen the nic by increas the quant and qual of relev record from feed stat and trib auth access by the system among it requir the nia mand that execut depart and ag ag provid relev inform includ crimin hist record certain adjud rel to the ment heal of a person and oth inform to databas access by the nic much progress have be mad to ident inform gen by ag that be relev to determin wheth a person be prohibit from receiv or possess firearm but mor must be don gre particip by ag in ident record they possess that ar relev to determin wheth an individ be prohibit from possess a firearm and a regul process for submit thos record to the nic wil strengthen the acc and efficy of the nic increas publ saf by keep gun out of the hand of person who can not law possess them theref by the auth vest in me as presid by the constitut and the law of the unit stat of americ i hereby direct the follow sect on improv the avail of record to the nic a within forty-five day of the dat of thi memorand and consist with the process describ in sect three of thi memorand the depart of just doj shal issu guid to ag regard the id and shar of relev feed record and their submit to the nic b within sixty day of issu of guid pursu to subsect a of thi sect ag shal submit a report to doj adv wheth they possess relev record as set for in the guid and set for an impl plan for mak inform in thos record avail to the nic consist with appl law c in accord with the auth and respons provid to the attorney gen by the brady handgun viol prev act publ law on hundr and three thousand , on hundr and fifty-nine as amend the attorney gen consist with the process describ in sect three of thi memorand shal resolv any disput concern wheth ag record ar relev and should be mad avail to the nic d to the ext they possess relev record as set for in the guid issu pursu to subsect a of thi sect ag shal priorit mak thos record avail to the nic on a regul and ongo bas sec two meas progress a by octob on two thousand and thirteen and an thereaft ag that possess relev record shal submit a report to the presid through the attorney gen describ i the relev record possess by the ag that can be shar with the nic consist with appl law ii the numb of thos record submit to databas access by the nic dur each report period ii the effort mad to increas the perc of relev record possess by the ag that ar submit to databas access by the nic iv any obstac to increas the perc of record that ar submit to databas access by the nic v for ag that mak qual adjud rel to the ment heal of a person the meas put in plac to provid not and program for reliev from dis as requir und the nia vi the meas put in plac to correct mod or remov record access by the nic when the bas und which the record be mad avail no long apply and vii addit step that wil be tak within on year of the report to improv the process by which record ar ident mad access and correct mod or remov b if an ag cert in it an report that it have mad avail to the nic it relev record that can be shar consist with appl law and describ it plan to mak new record avail to the nic and to upd mod or remov ex record electron no less oft than quart as requir by the nia such ag wil not be requir to submit furth an report instead the ag wil be requir to submit an an cert to doj attest that the ag continu to submit relev record and have correct mod or remov appropry record sec three nic consult and coordin work group to ens adequ ag input in the guid requir by sect on a of thi memorand subsequ decid about wheth an ag possess relev record and determin concern wheth relev record should be provid to the nic ther be est a nic consult and coordin work group work group to be chair by the attorney gen or his design a memb in addit to the chair the work group shal consist of repres of the follow ag i the depart of defens ii the depart of heal and hum serv ii the depart of transport iv the depart of vet affair v the depart of homeland sec vi the soc sec admin vii the off of personnel man vii the off of man and budget and ix such oth ag or off as the chair may design b funct the work group shal conv regul and as nee to allow for consult and coordin between doj and ag affect by the attorney gen s impl of the nia includ with respect to the guid requir by sect on a of thi memorand subsequ decid about wheth an ag possess relev record and determin concern wheth relev record should be provid to the nic the work group may also consid as appropry i develop mean and method for ident ag record deem relev by doj s guid ii address obstac fac by ag in mak their relev record avail to the nic ii impl not and reliev from dis program and iv ens mean to correct mod or remov record when the bas und which the record be mad avail no long apply c report the work group wil review the an report requir by sect two a of thi memorand and memb ag may append to the report any mat they deem appropry includ an id of any ag best pract that may be of assist to stat in supply record to the nic sec four gen provid a noth in thi memorand shal be constru to impair or otherw affect i the auth grant by law to a depart or ag or the head thereof or ii the funct of the direct of the off of man and budget rel to budget admin or legisl propos b thi memorand shal be impl consist with appl law and subject to the avail of appropry c thi memorand be not intend to and doe not cre any right or benefit subst or proc enforc at law or in equ by any party against the unit stat it depart ag or ent it off employ or ag or any oth person d independ ag ar strongly enco to comply with the requir of thi memorand sec fiv publ the attorney gen be hereby auth and direct to publ thi memorand in the feed reg barack obam guncontrol act win fin battl as gop ret washington novemb twenty-four the sen today pass a mand wait period for the purchas of handgun aft republ opposit to the meas collaps it be an anticlimact fin to sev year of congress battl the meas the brady bil be the toughest guncontrol bil pass by congress sint a ban on mailord rifl sal pass in on thousand , nin hundr and sixty-eight although ev it support expect it to hav on a modest impact on viol crim it be now head to the whit hous and presid clinton say he hop to sign it soon the bil have already bount back from the dead ont in rec day when republ drop a filibust saturday night in the fac of strong publ support for the meas then they stal it again on monday at it fin threshold block a vot on wheth to adopt a house conf comprom vert ninety-seven empty sen seat aft day of person anim and futil backroom deal republ back down without much to show for their effort the bil pass without deb with on three sen sit in a chamb empty by the thanksg holiday as vic presid al gor and mark o hatfield an oregon republ who support the bil watch the two sen lead bob dol of kansa and georg j mitchel of main pronount the meas adopt by unanim con that be a parlia dev allow the lead to pass the legisl themselv by voic vot aft ascertain that no sen would object al of us ar happy to hav thi issu behind us mr dol say aft a long long hard fight jim brady have win thanksg pres the bil be nam for jam brady who with his wif sarah lead the campaign in fav of the guncontrol meas mr brady be presid ronald reag s press secret when he be sery wind dur the on thousand , nin hundr and eighty-one assassin attempt on mr reag at a new conf aft the vot mr brady rais his fist from his wheelchair and say it be an aw nic thanksg pres for the peopl of americ the brady bil wil set a wait period of fiv work day to giv sel and lawenforc off tim to check the background of prospect buy for crimin record or ment inst the wait period wil be lift aft fiv year at which point an inst check of a buy s background be suppos to be avail nationwid by comput the legisl wil also provid stat with mor than two hundr mil to upgrad their comput record on crimin it wil not by itself stop gun viol in americ mr mitchel say it be howev a sign albeit a modest step forward def for gun lobby pass of the bil repres a sting def for the nat rifl assocy the gun lobby that contribut to the campaign of scor of lawmak wayn lapier execut direct of the nra rep the org s object to the bil today say the wait period be unfair to honest lawabid peopl the crimin wil not wait in the twenty-two stat that already hav such wait period ther have be no apprecy impact on ris violentcrim rat although som felon want by the auth hav be deny gun and arrest the bil wil also hav no effect on the seventy mil handgun that ar already on the nat s streets stil lawenforc off say that at the very least the bil wil provid a cool off period that could stem crim of pass by for exampl angry spous and disgruntl employ robert t scul execut direct of the nat assocy of pol org say that by mak wait period nationwid peopl now deny gun wil not be abl to run from michig to ohio to buy on the bil have pass the hous and then the sen aft an agr that end a republ filibust last week but the vert that win approv in a senateh conf bog down when sen republ complain that democr have strip out provid that wer ad as part of the agr in particul republ wer unhappy about the disappear of two provid to phas out the wait period bef fiv year as the struggle devolv into a grudg match between sen dol and joseph r bid jr the delaw democr who head the judicy commit it appear that congress might not be abl to pass the bil until lat janu at the earliest mr mitchel the maj lead cal on sen to return from their holiday break to vot to break the filibust and pass the bil mr dol then off a comprom propos tuesday night but democr lead continu to insist that republ acceiv the conf vert which includ som ear republ propos propos by dol mr dol drop his opposit today when mr mitchel agree to let the sen consid legisl mod the brady bil next year as propos by the kansa republ the bil would mak poss the phaseout of the wait period in two year as long as the nat comput check system reach a certain level of acc guncontrol support today hail the brady bil s pass as the first vict of many in congress thi be the first tim sint on thousand , nin hundr and sixty-eight that the nra have be beat on a maj meas but it wil not be the last predict repres charl e schumer democr of brooklyn the lead handguncontrol advoc in the hous lawmak wil learn that ther be lif aft vot against the nra indee the brady bil be the best know of sev guncontrol meas mov through congress a twenty-three bil anticrim pack the sen pass thi mon includ a ban on the sal of handgun for juvenil and a ban on the manufact of nineteen typ of militarystyl assault weapon simil assault weapon provid hav be block by the hous in rec year but the ris popul frust express ov crim could chang the equ thi year photo presid clinton congrat jam brady in the ov off aft learn of the sen pass of the brady bil at rear wer attorney gen janet reno vic presid al gor and sarah brady assocy press nra v ashcroft opposit no on thousand , three hundr and thirty-two in the suprem court of the unit stat nat rifl assocy of americ int et al petit v john d ashcroft attorney gen of the unit stat on petit for a writ of certiorar to the unit stat court of ap for the district of columb circuit brief for the respond in opposit barbar d underwood act solicit gen counsel of record stuart e schiffer act assist attorney gen mark b stern michael s raab attorney depart of just washington dc two hundr and fiv mil , three hundr thousand and on two hundr and two fiv mil , on hundr and forty-two thousand , two hundr and seventeen quest pres the brady handgun viol prev act brady act pub l no on hundr and three thousand , on hundr and fifty-nine on hundr and sev stat on thousand , fiv hundr and thirty-six on thousand , nin hundr and ninety-three requir the attorney gen to est a nat inst crimin background check system nic that feed licens firearm deal can contact for inform on wheth receipt of firearm by prospect transf would viol eighteen yousc nin hundr and twenty-two or stat law a reg promulg by the attorney gen twenty-eight cfr two hundr and fifty-nine b provid for the maint of an audit log of al incom and outgo transact that pass through the nic and for the destruct of that log aft no mor than six month the quest pres ar on wheth the ret of the nic audit log concern allow firearm transf for no mor than six month be prohibit by sect on hundr and three i of the brady act on hundr and sev stat on thousand , fiv hundr and forty-two two wheth retain inform concern allow firearm transf in the nic audit log for a period not to excess six month be prohibit by eighteen yousc nin hundr and twenty-two t two three wheth the court of ap prop review the attorney gen s reg interpret the brady act und chevron yous int v nat resourc defens council int four hundr and sixty-seven yo eight hundr and thirty-seven on thousand , nin hundr and eighty-four in the suprem court of the unit stat no on thousand , three hundr and thirty-two nat rifl assocy of americ int et al petit v john d ashcroft attorney gen of the unit stat on petit for a writ of certiorar to the unit stat court of ap for the district of columb circuit brief for the respond in opposit opin below the opin of the court of ap pet ap 1a42a be report at two hundr and sixteen f3d on hundr and twenty-two the memorand and ord of the district court pet ap 49a53a 54a55a ar unreport jurisdict the judg of the court of ap pet ap 43a44a be ent on july elev two thousand the court of ap deny petit for rehear on octob twenty-six two thousand pet ap 45a46a 47a48a on janu seventeen two thousand and on the chief just extend the tim within which to fil a petit for a writ of certiorar to and includ febru twenty-three two thousand and on the petit for a writ of certiorar be fil on febru twenty-two two thousand and on the jurisdict of thi court be invok und twenty-eight yousc on thousand , two hundr and fifty-four on stat on the brady handgun viol prev act pub l no on hundr and three thousand , on hundr and fifty-nine on hundr and sev stat on thousand , fiv hundr and thirty-six on thousand , nin hundr and ninety-three brady act or act direct the attorney gen to est and op a nat inst crimin background check system nic that feed licens firearm deal can contact by telephon or oth electron mean for immedy inform on wheth the receipt of a firearm by a pot transf would viol eighteen yousc nin hundr and twenty-two or stat law brady act on hundr and three b on hundr and sev stat on thousand , fiv hundr and forty-one eighteen yousc nin hundr and twenty-two t on eighteen yousc nin hundr and twenty-two t two on thousand , nin hundr and ninety-four sup v on thousand , nin hundr and ninety-nine becaus the inform contain in the system and query outcomesy the fact that an individ have someth in his hist such as a convict or ment il that would preclud him from own a gunra both priv and sec issu congress direct the attorney gen to issu reg to ens the priv and sec of the inform of the brady act on hundr and three h on hundr and sev stat on thousand , fiv hundr and forty-two the brady act also restrict the feed govern s us and ret of record concern background check wher the propos firearm transf would not viol feed or stat law in particul the act provid that if receipt of a firearm would not viol stat or feed law the system must assign a transact numb to the cal provid that numb to the deal and destroy al record of the system with respect to the cal oth than the ident numb and the dat the numb be assign and al record of the system rel to the person or the transf eighteen yousc nin hundr and twenty-two t two on thousand , nin hundr and ninety-four sup v on thousand , nin hundr and ninety-nine the act doe not spec when the record destruct must tak plac the vert of the brady bil init pass by the hous of repres provid that the system must immedy destroy al record of any transact that ar allow to process see on hundr and thirty-nine cong rec h9098 h9123 h9144 dai ed novemb ten on thousand , nin hundr and ninety-three the hous howev acc to the sen vert of the destruct requir which do not contain the term immedy see pet ap 10a11a see also eighteen yousc nin hundr and twenty-two t two c two follow not and com the attorney gen promulg reg to est and impl the nic see twenty-eight cfr two hundr and fifty-one et seq at the heart of thi lawsuit be the audit log reg which requir that certain inform on nic transact includ transf that ar allow to process be retain in an audit log for a period not to excess six month twenty-eight cfr two hundr and fifty-nine b inform in the audit log be us to analys system perform assist us in resolv op problem support the ap process or support audit of the us of the system twenty-eight cfr two hundr and fifty-nine b two sixty-six feed reg six thousand , four hundr and seventy six thousand , four hundr and seventy-four two thousand and on audit log inform on allow transf may be access direct on by the fbi for the purpos of conduc audit of the us and perform of the nic sixty-six feed reg at six thousand , four hundr and seventy-two the attorney gen s reg express prohibit the us of the audit log to est a feed firearm reg twenty-eight cfr two hundr and fifty-nine b on and two the audit log can be retain no mor than six month aft which al inform on approv transact exceiv the nic transact numb and the dat the transact numb be assignedmust be destroy twenty-eight cfr two hundr and fifty-nine b on see eighteen yousc nin hundr and twenty-two t two on thousand , nin hundr and ninety-four sup v on thousand , nin hundr and ninety-nine on as the preambl to the attorney gen s reg explain the audit log be design to satisfy the statut requir of ens the priv and sec of the nic and the prop op of the system sixty-three feed reg fifty-eight thousand , three hundr and three on thousand , nin hundr and ninety-eight by audit the system the fbi can ident inst in which the nic be us for unauth purpos such as run check of peopl oth than act gun transf and protect against the invas of priv that would result from such misus audit can also determin wheth pot handgun purchas or hav stol the id of innoc and unsuspect individ or otherw submit fals id inform in ord to thwart the nam check system the audit log wil also allow the fbi to perform qual control check on the system s op by review the acc of the respons giv by the nic record examin to gun deal id at fiv bil , eight hundr and thirty mil , three hundr and fifty-eight thousand , three hundr and four see also sixty-four feed reg ten thousand , two hundr and sixty-two ten thousand , two hundr and sixty-three on thousand , nin hundr and ninety-nine audit be ess to safeguard the sec and priv of person inform in the system the nic wil perform background check that access a tremend amount of crimin hist ment heal milit background and oth inform about individ many busy and individ would be very interest in hav easy access to thes govern databas through ffls to do employ or oth unauth check dur the not and com period the just depart respond to the claim that eighteen yousc nin hundr and twenty-two t two requir immedy destruct of al record and thu bar the govern from retain a temp audit log although mand the destruct of al person ident inform in the nic assocy with approv firearm transact oth than the ident numb and the dat the numb be assign the statut doe not spec a period of tim within which record of approv must be destroy sixty-three feed reg at fifty-eight thousand , three hundr and three the depart also reject the claim that the audit log constitut a feed firearm reg prohibit by sect on hundr and three i of the brady act on hundr and sev stat on thousand , fiv hundr and forty-two the record would be retain the depart explain on for a limit tim and us on for the purpos of ens inform priv and guar system rely acc and integr sixty-three feed reg at fifty-eight thousand , three hundr and three the attorney gen also conclud that the audit log should be destroy within six month and that the govern should work toward reduc the ret period to the shortest pract period of tim less than six month that wil allow bas sec audit of the nic sixty-three feed reg at fifty-eight thousand , three hundr and four consist with that goal in janu two thousand and on the attorney gen promulg amend to twenty-eight cfr two hundr and fifty-nine b which would short the ret period to nin day see sixty-six feed reg at six thousand , four hundr and seventy six thousand , four hundr and seventy-four thos chang wer origin to tak effect on march fiv two thousand and on id at six thousand , four hundr and seventy-one and ar cur schedule to tak effect on july three two thousand and on unless furth mod ar mad see sixty-six feed reg twenty-two thousand , eight hundr and ninety-eight two thousand and on three on novemb thirty on thousand , nin hundr and ninety-eight the dat on which the audit log reg first take effect petit fil thi act for decl and injunct reliev and a writ of mandam against the attorney gen petit alleg int al that the temp ret of an audit log contain nic record of allow firearm transf be inconsist with the brady act see ca ap on thousand , sev hundr and nineteen the district court dismiss petit complaint conclud that congress have not spok direct to the quest at issu and that defend s construct of the brady law be permiss pet ap 55a the court of ap affirm pet ap 1a34a 43a44a the court of ap first observ that becaus petit challeng an ag reg the cas must be analys und the famili twopart test of chevron yous int v nat resourc defens council int four hundr and sixty-seven yo eight hundr and thirty-seven on thousand , nin hundr and eighty-four pet ap 7a und chevron step on the court ask wheth congress have direct spok to the prec quest at issu for if it have that be the end of the mat for the court as wel as the ag must giv effect to the unambigu express int of congress ibid quot chevron four hundr and sixty-seven yo at eight hundr and forty-two thousand , eight hundr and forty-three if the statut be sil or ambigu with respect to the spec quest at issu the court of ap explain it mov to chevron s second step ask wheth the ag s answ be bas on a permiss construct of the statut ibid quot four hundr and sixty-seven yo at eight hundr and forty-three at that oint the court afford subst def to the ag s interpret of statut langu ibid apply the twostep chevron framework the court of ap reject petit challeng to the attorney gen s reg pet ap 7a34a petit first claim be that eighteen yousc nin hundr and twenty-two t two unambigu prohibit the attorney gen from retain inform about allow transact for any purpos pet ap 7a sect nin hundr and twenty-two t two the court agree doe requir the govern to destroy al record of the system regard approv transact exceiv the ident numb and the dat the numb be assign id at 8a but the court disagree with petit claim that the statut unambigu requir destruct to tak plac immedy the word immedy be not in the statut ibid and congress have declin to adopt a vert of the statut that includ that term id at 10a11a moreov follow the attorney gen s promulg of the audit log reg congress rep declin to amend the statut or pass appropry legisl that would insert an immedy destruct requir into the statut id at 11a12a in light of thos consid the court conclud that sect nin hundr and twenty-two t two doe not requir the immedy destruct of nic transact record the court of ap also reject petit claim that the audit log be inconsist with sect on hundr and three i of brady act which be entitl prohibit rel to est of reg system with respect to firearm subsect on of sect on hundr and three i bar any ag off or employ of the unit stat from requir that any record or port thereof gen by the be record at or transfer to a facil own man or control by the unit stat or any stat or polit subdivid thereof on hundr and sev stat on thousand , fiv hundr and forty-two the audit log reg petit contend viol sect on hundr and three i on becaus log entry constitut record gen by the nic and ar record at facil own man or control by the unit stat the court of ap disagree sect on hundr and three i on s prohibit on requir the record of a record the court explain be lad with ambigu pet ap 13a14a as an init mat the prohibit could not be read as bar the gen of record in the first inst sect nin hundr and twenty-two t two c itself speak of destroy al record rel to allow transf and thu presum that record wil be gen in addit the court observ that the prohibit could not be read as categ ban the govern from retain record for a brief period although sect on hundr and three i bar the govern from requir the record of any nic record or port thereof and provid no exceptionsoth provid of the act spec contempl that the govern would itself record and retain certain nic record includ record rel to disallow transf see eighteen yousc nin hundr and twenty-two t two on thousand , nin hundr and ninety-four sup v on thousand , nin hundr and ninety-nine on hundr and sev stat on thousand , fiv hundr and forty-two and id numb and dat for transact for allow transf eighteen yousc nin hundr and twenty-two t two c see pet ap 15a16a in view of thos consid the court of ap find the attorney gen s altern construct of the statut persuas emphas the word requir the attorney gen have interpret the statut as bar the govern from requir third party such as firearm deal from record inform at a feed or stat govern facil pet ap 16a if congress have intend sect on hundr and three i to bar the attorney gen from record or retain inform the court of ap explain it would not hav bar govern ag off and employ from requir that any record or port thereof gen by the be record brady act on hundr and three i on on hundr and sev stat on thousand , fiv hundr and forty-two emphas ad instead congress would hav bar govern ag off and employ from record or mak a record of the nic transact pet ap 16a the court of ap also reject petit claim that the audit log viol subsect two of sect on hundr and three i which bar govern ag and off from us the to est any system for the reg of firearm firearm own or firearm transact or disposit exceiv with respect to individ who ar bar from receiv firearm pet ap 17a the audit log the court observ be not a system for the reg of firearm firearm own or firearm transact or disposit ibid it doe not retain the nam and person inform of gun purchas indefinit or for purpos of track thos individ instead it permit certain inform to be retain for a limit period of tim for the sol and exclud purpos of protect the priv of the nic and for qual control ibid intern quot mark omit the audit log moreov contain a maxim of six month transact a snapshot that rev virt noth about the univers of firearm own in the unit stat ibid indee the court of ap continu the audit log stand in contradistinct to oth databas that constitut reg system lik the cent reg of machin gun est by the nat firearm act whil the machin gun reg contain extend inform about the individ with the weapon and the weapon themselv the audit log contain littl inform doe not ind if the propos buy complet the transact and be purg every six month id at 18a the court of ap also conclud that the attorney gen s audit log reg reason impl the brady act s requir pet ap 18a34a the brady act itself the court observ direct the attorney gen to issu reg to ens the priv and sec of the inform of the id at 23a quot brady act on hundr and three h on hundr and sev stat on thousand , fiv hundr and forty-two audit the court agree serv that goal by ens that the system s confid inform be not us for unauth purpos id at 23a24a the court also not that the audit log reg wer consist with the act s legisl hist which evid congress s concern about the invas of priv that could result from unauth us see id at 24a quot on hundr and thirty-nine cong rec s16326 s16327 dai ed novemb nineteen on thousand , nin hundr and ninety-three stat of sen leahy in addit the court of ap agree that the audit log help ens that the system be work prop id at 21a and provid acc respons id at 22a the nee for an audit log the court of ap also not be support by the fact that audit be not unus for comput system lik the nic id at 23a judg sentel diss pet ap 3442a the attorney gen he decl have not on excess the auth grant her und but ha also viol express prohibit of oth statut sect pet ap 35a argu the court of ap decid be correct and doe not conflict with any decid of thi court or any oth court of ap furth review theref be not war on the brady handgun viol prev act brady act or act pub l no on hundr and three thousand , on hundr and fifty-nine on hundr and sev stat on thousand , fiv hundr and thirty-six on thousand , nin hundr and ninety-three requir the attorney gen to est an effect nat inst crimin background check system nic the act requir the attorney gen to ens the priv and sec of the inform of the brady act on hundr and three h on hundr and sev stat on thousand , fiv hundr and forty-two and spec that the attorney gen must destroy record of allow firearm transf eighteen yousc nin hundr and twenty-two t two on thousand , nin hundr and ninety-four sup v on thousand , nin hundr and ninety-nine the attorney gen s audit log regulationswhich requir both temp ret of certain inform for a brief period and the inform s complet destruct aft that period consist with the brady act as the preambl to the attorney gen s reg mak clear the audit log be design to satisfy the statut requir of ens the priv and sec of the nic and the prop op of the system sixty-three feed reg fifty-eight thousand , three hundr and three on thousand , nin hundr and ninety-eight by audit the system the govern can ident inst in which the nic be us for unauth purpos such as run check of peopl oth than act gun transf and protect against the invas of priv that would result from such misus ibid the nee for such protect be particul gre giv the confid and valu inform the system provid as the attorney gen explain audit the us of the nic be ess to safeguard the sec and priv of person inform in the system the nic wil perform background check that access a tremend amount of crimin hist ment heal milit background and oth inform about individ without the capac to audit the us of the system ther wil be no way of determin wheth ar request check for purpos oth than check on the background of a prospect gun purchas many busy and individ would be very interest in hav easy access to thes govern databas through ffls to do employ or oth unauth check sixty-four feed reg ten thousand , two hundr and sixty-two ten thousand , two hundr and sixty-three on thousand , nin hundr and ninety-nine the audit log moreov help ens that inform provid by the system be acc sixty-three feed reg at fiv bil , eight hundr and thirty mil , three hundr and fifty-eight thousand , three hundr and four decid to allow a firearm purchas ar not ful autom and thu requir off to review and evalu record bef mak a decid see ca ap on hundr and ten review of decid mad by nic examin be necess to ens that the respons individ mak correct decid on wheth a transf be permiss and to en superv to provid addit train wher necess see id at on hundr and ten thousand , on hundr and elev sixty-three feed reg at fiv bil , eight hundr and thirty mil , three hundr and fifty-eight thousand , three hundr and four audit can also help determin wheth pot handgun purchas or ffls hav stol the id of innoc and unsuspect individ or otherw submit fals id inform in ord to thwart the nam check system sixty-three feed reg at fiv bil , eight hundr and thirty mil , three hundr and fifty-eight thousand , three hundr and four fin audit ar vit to ens that the system includ it softw be work prop from a techn standpoint see twenty-eight cfr two hundr and fifty-nine b two ca ap on hundr and sev thousand , on hundr and eight the fbi have estim that ninety-eight of system inquiry result in approv of firearm transact ca ap on hundr and twelv see also id at on hundr and nin as the court of ap recogn congress hav direct the attorney gen to est a system for prev disqual person from purchas firearm would expect the attorney gen to ens that the system produc acc inform and guard against misus pet ap 32a consist with thos limit goal the attorney gen s reg provid that the audit log can be us on to satisfy the statut requir of ens the priv and sec of the nic and the prop op of the system sixty-three feed reg at fifty-eight thousand , three hundr and three see also sixty-six feed reg six thousand , four hundr and seventy six thousand , four hundr and seventy-one two thousand and on the temp retain inform on approv firearm transf be us on for purpos rel to discov misus or avoid of the system or ens the prop op of the system the attorney gen moreov be commit to reduc the ret period to the shortest pract period of tim less than six month that wil allow bas sec audit of the nic sixty-three feed reg at fifty-eight thousand , three hundr and four in janu two thousand and on the attorney gen promulg an amend that abs furth mod would short the ret period to nin day sixty-six feed reg at six thousand , four hundr and seventy six thousand , four hundr and seventy-four that chang be origin to tak effect on march fiv two thousand and on id at six thousand , four hundr and seventy-one and be cur schedule to tak effect on july three two thousand and on sixty-six feed reg twenty-two thousand , eight hundr and ninety-eight two thousand and on two petit contend that the attorney gen s audit log reg ar inconsist with the text of the brady act pet eight hundr and eighteen that claim lack merit and be prop reject by the court of ap a petit first assert that the audit log reg conflict with sect on hundr and three i of the brady act on hundr and sev stat on thousand , fiv hundr and forty-two petit argu process from the prem that sect on hundr and three i on by it term prohibit any nic record of an allow transf from be record at or transfer to a govern facil pet nin howev as the court of ap recogn pet ap 16a that be not what sect on hundr and three i on say sect on hundr and three i doe not prohibit the govern or it ag from record nic record at a govern facil it bar the govern and it ag from requir that any record or port thereof gen by the system be record at or transfer to such a facil on hundr and sev stat on thousand , fiv hundr and forty-two emphas ad in light of congress s us of the word requir the attorney gen could prop understand sect on hundr and three i on as address what the attorney gen and oth govern off or ag may requir third party to do with record gen by the nic see pet ap 16a see also sixty-six feed reg at six thousand , four hundr and seventy-three in oth word the provid prohibit the attorney gen from impos addit report requir on firearm deal requir that could be us to cent the record of deal and est a feed firearm reg petit propos construct of sect on hundr and three i on by contrast effect exc the word requir from sect on hundr and three i on if the statut have be design to bar the govern and it ag from retain certain record presum it would hav prohibit the govern and it ag from record nic record at or transfer them to govern facil it would not hav bar the govern and it ag from requir that record be record at or transfer to such facil it be of cours inappropry to adopt a construct of a statut that rend on of it term superflu see unit stat v alask fiv hundr and twenty-one yo on fifty-nine on thousand , nin hundr and ninety-seven the court wil avoid an interpret of a statut that rend som word altogeth redund intern quot mark omit unit stat v menasch three hundr and forty-eight yo fiv hundr and twenty-eight fiv hundr and thirty-eight thousand , fiv hundr and thirty-nine on thousand , nin hundr and fifty-five court must giv effect to every claus and word of a statut mosk v unit stat four hundr and ninety-eight yo on hundr and three on hundr and nin thousand , on hundr and ten on thousand , nin hundr and nin simil two petit construct moreov would plac sect on hundr and three i on in conflict with oth provid of the brady act as the court of ap explain petap 15a16a sect on hundr and three i on s prohibit extend without exceptionto any record or port thereof gen by the nic consequ if petit construct wer correct sect on hundr and three i on would bar the govern from record any nicsg record such a prohibit would conflict with the brady act s express recognit that the govern can record and perm retain certain nicsg record includ record rel to disapprov transact eighteen yousc nin hundr and twenty-two t two on thousand , nin hundr and ninety-four sup v on thousand , nin hundr and ninety-nine and the transact numb and dat of approv transf eighteen yousc nin hundr and twenty-two t two on thousand , nin hundr and ninety-four sup v on thousand , nin hundr and ninety-nine on hundr and sev stat on thousand , fiv hundr and forty-two recogn that conflict petit argu that the court of ap should hav harmon sect on hundr and three i on with the rest of the statut by in effect jud transpl exceiv into sect on hundr and three i on notwithstand the fact that thos exceiv do not appear in sect on hundr and three i on itself pet elev such jud surgery to statut text howev can not be just und the guis of harmon otherw conflict statut provid wher as her an altern construct elimin the conflict among the statut provid whil giv effect to each word and phrase in the statute3 b altern petit contend pet on thousand , three hundr and fifteen that the attorney gen s audit log reg viol sect on hundr and three i two of the brady act on hundr and sev stat on thousand , fiv hundr and forty-two sect on hundr and three i two provid that nic record may not be us by feed depart ag off or employ to est any system for the reg of firearm firearm own or firearm transact or disposit exceiv with respect to person prohibit by sect nin hundr and twenty-two g or n of titl eighteen unit stat cod or stat law from receiv a firearm the attorney gen s audit log howev be not a reg system to the cont the reg express provid that he nic includ the nic audit log may not be us by any depart ag off or employ of the unit stat to est any system for the reg of firearm firearm own or firearm transact or disposit twenty-eight cfr two hundr and fifty-nine b two the inform contain in the audit log moreov can not be ready transform into a feed firearm reg as the court of ap explain pet ap 18a the audit log includ no address of person approv to buy firearm nor any inform on spec weapon nor ev wheth approv gun purchas act complet a transact the cont of the audit log ar routin purg and nev contain inform on mor than six month of propos transact ibid thu unlik the reg of machin gun est und the nat firearm act comprehend list of person entitl to possess machin gun and certain oth firearm see twenty-six yousc 5841the audit log repres on a tiny fract of the univers of firearm own pet ap 18a fin unlik the machin gun reg the audit log may be us on for the purpos of monit the us and perform of the nic itself twenty-eight cfr two hundr and fifty-nine b two three the court of ap also correct reject petit cont pet on thousand , eight hundr and twenty-two that eighteen yousc nin hundr and twenty-two t two requir the immedy destruct of nic record concern allow firearm transf see pet ap 8a12a sect nin hundr and twenty-two t two doe requir that nic record on allow transf exceiv the transact numb and dat be destroy but it be sil as to the tim of that destruct the requir of immedy destruct that petit insist on doe not appear in the statut itself accord the attorney gen reason conclud that the act permit the destruct of nic record aft a brief period wher that brief ret period help ens that the nic system be work prop and be us law as the court of ap observ congress hav direct the attorney gen to est a system for prev disqual person from purchas firearm would expect the attorney gen to ens that the system produc acc inform and guard against misus id at 32a the audit log regulationsby spec a ret period that be the minim reason period for perform audit the system to ens acc and detect privacyinvad misus consist with both that expect and the statut mand of record destruct sixty-three feed reg at fifty-eight thousand , three hundr and four the valid of the attorney gen s interpret be undersc by the fact that congress have rep both bef and aft pass of the brady act declin to impos an immedy destruct requir see pet ap 10a12a as the court of ap observ congress s fail to retain the immedy destruct requir that appear in the hous vert of the brady act strongly support the conclud that congress s int be at least ambigu id at 11a congress know how to mand immedy destructionby plac the word immedy bef destroy in statut textand the hous vert of the brady act do so but the statut that congress act enact and that the presid sign into law in comply with the requir artic i sect sev claus two of the constitut do not includ that langu congress moreov rep have reject effort to reinsert immedy destruct or nearimmedy destruct requir aft the act s pass includ aft the attorney gen s promulg of the audit log reg see id at 10a12a that too be consist with the court of ap conclud that ther be no unambigu congress int to requir immedy destruct of nic record id at 12a4 cont to petit cont pet twenty an interim provid of the brady act requir that record of approv transact be destroy within twenty day eighteen yousc nin hundr and twenty-two s six b i doe not undermin the valid of the attorney gen s audit log reg the interim provid govern background check perform bef the est of the autom nic the audit log be cre to protect the sec of the new autom system and ens it prop op to the ext the form 20day deadlin be relev at al it prov that congress know how to includ express deadlin for record destruct but do not do so her nor do congress otherw foreclos the attorney gen from est an audit log to ens that the autom nic be funct prop and be not subject to misus four fin petit argu pet two thousand , six hundr and thirty that the court of ap should not hav rely on the tradit twostep analys of chevron yous int v nat resourc defens council int four hundr and sixty-seven yo eight hundr and thirty-seven on thousand , nin hundr and eighty-four instead petit contend the court of ap should hav rely on thi court s decid in food drug admin v brown williamson tobacco corp fiv hundr and twenty-nine yo on hundr and twenty two thousand that argu be without merit as an init mat in brown williamson thi court itself apply the tradit twostep approach of chevron becaus thi cas involv an admin ag s construct of a statut that it admin the court explain our analys be govern by chevron id at on hundr and thirty-two apply the first step of chevron the court determin that congress in fact have spok to the quest ther which be wheth the fda have auth to reg tobacco car canvas the polit hist of tobacco the court conclud that congress s act ov the prevy thirty-five year preclud an interpret of the food drug and cosmet act that grant the fda jurisdict to reg tobacco produc id at on hundr and fifty-five the court take car not that throughout most of the fda s hist the fda have disavow any auth to reg tobacco the court conclud that congress by pass a host of tobaccospec law follow the fda s disavow and by act to preclud any ag from exerc reg control ov tobacco have effect rat the fda s prevy posit that it lack jurisdict to reg tobacco id at on hundr and fifty-six to be sur the court in brown williamson also observ that it inquiry into wheth congress have spok direct to the issu be shap at least in som meas by the nat of the quest pres fiv hundr and twenty-nine yo at on hundr and fifty-nine in extraordin cas the court explain ther may be reason to hesit bef conclud that congress have intend an implicit deleg of pow to reg a certain seg of the econom ibid in the context of tobacco the court explain the un polit hist of the produc the distinct reg scheme govern it congress s rep reject of propos to allow the fda to reg tobacco and congress s rep act to preclud reg of tobacco al provid reason to hesit ow to it un plac in be hist and socy tobacco have it own un polit hist congress for bet or for wors have cre a distinct reg scheme for tobacco produc squ reject propos to giv the fda jurisdict ov tobacco and rep act to preclud any ag from exerc sign policymak auth in the be giv thi hist and the bread of the auth that the fda have assert we ar oblig to def not to the expand construct of the statut but to congress consist judg to deny the fda thi pow id at on hundr and fifty-nine thousand , on hundr and sixty brown williamson as the abov describ attest have no apply here5 thi be not an extraordin cas in which the ag for the prevy thirty-five year disavow pow to reg a particul produc und the statut provid at issu it be not a cas in which congress effect rat the ag s disavow in which congress rep reject propos that would hav empow the ag to reg or in which congress adopt propos that cre a distinct reg regim for the produc at issu on to hav the ag lat chang it view instead thi be a cas in which congress explicit deleg to the attorney gen auth to cre a nat inst crimin background check system ord the attorney gen to promulg reg to safeguard that system and reject statut langu that would hav preclud or overturn the reg that petit now challenge6 becaus noth in the act bar the attorney gen from promulg the reg at issu her the court of ap do not er in uphold them conclud the petit for a writ of certiorar should be deny respect submit barbar d underwood act solicit gen stuart e schiffer act assist attorney gen mark b stern michael s raab attorney may two thousand and on on wher the inform in the audit log be nee to pursu cas of ident misus of the system the dat may be retain and us as necess to bring the mat to resolv twenty-eight cfr two hundr and fifty-nine b two two petit contend that the attorney gen s construct of the word requir be noth mor than an ag s conveny litig posit pet twelv cit bow v georgetown un hosp four hundr and eighty-eight yo two hundr and four two hundr and twelv thousand , two hundr and thirteen on thousand , nin hundr and eighty-eight ev if that wer tru it be irrelev the court of ap accord the attorney gen no def in determin wheth or not the statut direct spok to that issu see pet ap 16a e ow no def to the attorney gen s interpret of statut langu at thi stag of chevron analys three to the ext petit suggest pet twelv that the court of ap decid conflict with nat rifl assn v brady nin hundr and fourteen f2d four hundr and seventy-five four hundr and eighty-three thousand , four hundr and eighty-four 4th cir on thousand , nin hundr and nin cert deny four hundr and ninety-nine yo nin hundr and fifty-nine on thousand , nin hundr and ninety-one that claim be without merit in that cas the court of ap uphold certain reg promulg by the bureau of alcohol tobacco and firearm und the firearm own protect act pub l no ninety-nine thousand , three hundr and eight eighteen yousc nin hundr and twenty-one et seq but reject two requir as inconsist with the statut on of the statut provid at issu ther eighteen yousc nin hundr and twenty-three c provid for certain recordkeep requir but spec decl that no oth recordkeep shal be requir nin hundr and fourteen f2d at four hundr and eighty-three in light of that express prohibit and oth statut provid the court of ap invalid reg recordkeep requir that in the court s view wer not contempl by the statut id at four hundr and eighty-three thousand , four hundr and eighty-four her howev the statut doe not express preclud the ag from retain nicsg record to the cont as explain abov it spec contempl that certain record wil be retain moreov as also explain abov the statut by it term mer bar the govern from requir oth to retain record in that respect the nra cas support the court of ap construct of the statut in both thi cas and that on congress be concern with the inform the ag might requir oth to record four for that reason petit er in rely pet two thousand , four hundr and twenty-five on sect six hundr and twenty-one of the omnib consolid and emerg suppl appropry act of on thousand , nin hundr and ninety-nine ocesa pub l no on hundr and fiv thousand , two hundr and seventy-seven on hundr and twelv stat two mil , six hundr and eighty-one thousand , on hundr and sixteen sect six hundr and twenty-one prohibit the us of appropry fund for any system to impl eighteen yousc nin hundr and twenty-two t that doe not requir and result in the destruct of any ident inform submit by or on behalf of any person who have be determin not to be prohibit from own a firearm ocesa six hundr and twenty-one two on hundr and twelv stat two mil , six hundr and eighty-one thousand , on hundr and sixteen see also act of decemb twenty-one two thousand pub l no on hundr and six thousand , fiv hundr and fifty-three appendix bhr fiv thousand , fiv hundr and forty-eight six hundr and eighteen on hundr and fourteen stat 2762a252 but that provid lik eighteen yousc nin hundr and twenty-two t doe not spec when destruct of the ref record must tak plac see pet ap 11a as the court of ap not congress consid but do not enact an appropry rid that would hav condit nic fund on the immedy destruct of al inform rel to person elig to possess firearm ibid quot on hundr and forty-four cong rec s8680 dai ed july twenty-one on thousand , nin hundr and ninety-eight fiv in addit it be far from clear that any quest concern the appl of brown williamson be prop pres by thi cas petit rely on brown williamson for the proposit that chevron def be inappropry on most of the issu petit rais howev the court of ap accord the ag no def see pet ap 16a not three supr six much of petit effort to rend thi cas extraordin rest on the fals prem that the audit log be a system for gun reg see pet on thousand , six hundr and seventeen as show abov it be not see pp on thousand , six hundr and seventeen supr petit moreov blink real when they assert that iv the alway vis and sometim ranco deb on firearm issu the attorney gen s abl to retain an audit log be hard a detail that congress would hav implicit deleg to the ag pet two thousand , sev hundr and twenty-eight cont to petit assum it be sometim prec wher congress can not itself resolv an issu rel to the admin of a new systemwheth becaus of rant or insufficy factsth congress declin to speak to the quest and instead deleg to an ag the respons of fil the statut gap in light of it expert and expery wheth and to what ext the attorney gen may nee to retain a temp audit log to ens system integr be prec the sort of issu on might expect congress to leav to the attorney gen for resolv fbi gun check ful of glitch the system to spee up background check on gun buy be launch thi week with gre expect that it would mak firearm purchas near inst whil rely keep gun from dang crimin instead rick fitzpatrick own of a gun stor in nix mo find that when he beg us the comput fbi instantcheck system al he get be a busy sign so many custom becam feed up with wait that in two or three day he say he lose twenty to twenty-five custom near his entir clientel for that period that be a lot of busy fitzpatrick say the real sad thing be they have fiv year to put in plac a system that work to me they do not car wheth the system work or not fitzpatrick s account be echo by gun deal and custom across the country though the system s perform seem to improv by midweek the glitch highlight the deep crit of the instantcheck conceiv from both camp in the guncontrol deb on monday the first day of op a malfunct telephon system at the fbi keep switch cal to a busy sign leav thousand of wouldb buy and sel strand dur thi busy gunpurchas season techn glitch forc the system to shut down for nin minut monday and anoth twenty minut tuesday the fbi s custom serv lin meanwhil receiv twenty thousand cal from angry or perplex cal on the first day alon atty gen janet reno acknowledg the problem it be have som startup difficul but they ar work around the clock and i think they ar start to solv them she say wednesday fbi spokesm paul bresson also prom improv with tim we wil see that it run smooth and the on peopl who wil be frust with the system wil be crimin and oth who ar prohibit by law from buy gun despit the glitch the new setup be plow along in the first three day the system receiv seventy-three thousand , fiv hundr and eighty-two cal about sixty-five perc of the purchas sail right through the fbi say whil rough fiv perc wer deny and the rest giv a delay respons giv the fbi three day to mak addit check aft three day with no respons from the fbi deal ar allow to complet the sal it be fiv year ago that the brady bil be sign into law requir al firearm deal to check wheth every wouldb buy have a crimin record or oth disq such as ment il to plac gun enthusiast who fear a riv of red tap and endless delay brady support agree to an inst comput system fiv year lat novemb thirty on thousand , nin hundr and ninety-eight the just depart predict the new system would tak less than two minut for most purchas but now that the nat inst check system or nic be in op no on appear to be satisfy the nat rifl assocy sue reno thi week ov the way her depart be impl the system the nra charg that the just depart be viol the law by keep a list of the gun buy who go through the system the brady law the lawsuit not spec ord the depart and the fbi to destroy al record of lawabid gun buy nra lead warn thi week that such recordkeep reek of big broth govern and policest tact it be anathem to our system of govern to stand id by whil a feed pol forc illeg compil a databas of cit who ar demonst lawabid say nra chief lobby jam jay bak just depart off say they ar keep the nam on brief for audit purpos bef destroy the record we ar confid that our policy of keep the record for a very limit tim be ful consist with feed law say greg king a just depart spokesm som gun group complain that the not of background check viol the constitut becaus the right to bear arm can not be comprom we should hav a bump stick that say nix nic say lawr prat execut direct of gun own of americ refer to the system s off acronym we ar convert a right into a privileg say you hav to get permit to exerc yo 2nd amend right it be lik a hav to go through a govern background check to be a journ howev guncontrol advoc say the crimin record in many part of the country ar abysm incomplet so a sign numb of felon may go undetect by the inst system the new system rely on a vast databas of al arrest maintain by the fbi at it hightech cent in clarksburg wva as wel as stat record but thes record ar spotty espec when it com to fig out if someon be ultim convict or acquit the record of an estim onethird of al felony across the nat ar unrely or not comput ther wil be thos who ar not auth to buy gun who wil be abl to do so predict kent mark a form just depart off who be instru in develop the system what most concern guncontrol advoc be that becaus the new system be inst if a buy s arrest be not catch immedy he get the gun without delay the way the brady system have work until now pol have fiv day to check out a wouldb purchas it gav pol tim to conduc a thorough background check say dan kotowsk execut direct of the illino council against handgun viol the spin com out on thi nat be that now gun own wil hav to deal with instacheck and it be so on when in fact if noth com up inst on a dang person you and i hav a problem on our hand support not that if the instantcheck system flag a problem in someon s past that requir furth investig pol get three day to check it out illino be larg unaffect by chang in nat gun rul becaus the stat s system be far tough than anyth on the feed level on massachuset have a guncontrol system with a strictness that approach that of illino a wouldb gun own in illino must apply for a firearm own s id card that can tak thirty day to be approv an act purchas requir an addit wait period seventy-two hour for a handgun and twenty-four hour for a long gun suspect ter and gun the mass shoot in orlando by a man who pledg allegy to the ter islam stat have reignit a deb in washington ov suspect ter access to gun in the yo but we find fault with som of the claim mad by both sid in the deb a republ sen say know or suspect ter can not just walk in and buy a firearm at a gun stor not that sam day but ninety-one perc of individ on ter watch list who hav attempt to buy a firearm or explod sint two thousand and four wer abl to complet the sal typ in three day yo attorney gen lorett lynch declin twic to say how many be ar on ter watch list claim we do not provid thos exact numb or ev a ring that be fals feed off hav tell congress that the numb of yo cit and leg resid on watch list cur ring from fiv thousand to fifteen thousand donald trump say a florid gun stor own report om mateen to the fbi week bef the orlando shoot when mateen attempt to buy body arm and bulk ammunit but that auth do not act on it a gun stor do report the suspicy act but be un to provid the fbi with his nam or oth inform about him gun sal to suspect ter in decemb the sen def an amend off by democr sen dian feinstein of californ that would hav allow the attorney gen to block the sal of weapon or explod to individ on ter databas if the attorney gen have reason to believ that the weapon would be us in connect with ter but the mass shoot in orlando by om mateen in the nam of the ter islam stat have reop that deb aft the orlando shoot sen chris murph of connecticut spok on the sen flo for near fifteen hour in an attempt to get the sen to tak up guncontrol legisl includ a rev vert of the feinstein amend langu be ad to the feinstein amend to includ anyon who have be the subject of a feed ter investig in the past fiv year that be becaus the fbi investig mateen for ter tie in two thousand and thirteen and two thousand and fourteen but clos thos investig without tak act mateen purchas the gun us in the attack in jun the sen be expect to tak up feinstein s amend jun twenty dur it consid of the an appropry bil for the depart of just and oth rel ag on jun sixteen cnn s wolf blitz interview sen jam lankford who vot against feinstein s amend last year wolf ask lankford of oklahom if he would vot for legisl that would prev thos on the ter watch list from get a gun lankford say know or suspect ter can not just walk in and buy a firearm at a gun stor lankford jun sixteen if someon be know or suspect as a ter they can not just walk in and buy a firearm they hav a long wait period that act kick in that the system itself wil kick them out the fbi be ping on that and they get som opt to be abl to deal with so it be already cur law so ther be a lot of pushback to say al thes know ter can just walk in and buy a gun at a gun stor that be not correct they ar already hold back and already can not walk in and buy a gun in a gun stor right now lankford s respons be mislead the fbi have limit opt in deal with individ on a ter watch list who want to buy a weapon or explod and whil the sal or transf may not hap immedy it can hap aft seventy-two hour her s how the nat inst crimin background check system work a prospect gun buy who tri to buy a gun from a licens firearm deal fil out an apply that be check against a vary of databas to determin if the appl be leg permit to buy a gun thos databas contain crimin record and court record such as war and protect ord as wel as immigr and nat record if the appl be not a yo cit an fbi spokesm tell us that a weapon sal or transf can be approv in less than an hour if the background search turn up no evid that the appl be prohibit from own a gun but if the nam of the appl match any of thos in the databas then the gun purchas can be delay for up to seventy-two hour giv nic examin at an fbi off in west virgin tim to review the cas and determin if the person be indee prohibit from purchas a weapon an apply can be deny for exampl if the person be a convict felon or fugit or if the person be liv in the yo illeg or have be convict of a domest viol offens in febru two thousand and four the depart of just beg check prospect gun buy against what the fbi cal the know or suspect ter fil which includ the ter screen databas common refer to as the fbi s ter watch list as explain in a may two thousand and thirteen report by the nonpart congress research serv a match in the ter databas trig an autom 72hour delay ev if ther ar no oth socal prohibit fact it may be for exampl that the fbi have disqual inform on that individ that be not ent in the nic databas crs may on two thousand and thirteen dur a delay nic staff contact immedy the fbi headquart counterter divid and fbi spec ag in the field and a coordin effort be mad to research poss unknown prohibit fact if no prohibit fact ar uncov within thi threeday period firearm deal may process with the transact at their discret howev fbi counterter off continu to work the cas for up to nin day in cas disposit inform be return that permit a fin determin so lankford be correct that the fbi be ping whenev an individ on a ter watch list tri to buy a gun but the sal can process aft three day and that be exact what have hap in the vast maj of cas as we ment ear sint the nat inst crimin background check system beg check prospect gun buy against ter watch list record in febru two thousand and four individ on the ter watch list wer involv in firearm or explod background check two thousand , four hundr and seventy-seven tim of which two thousand , two hundr and sixty-five about ninety-one perc of the transact wer allow to process and two hundr and twelv wer deny accord to the nonpart govern account off see gao chart below for mor detail by law al ident inform about the buy in cas lik thi must be destroy in nin day exceiv for the transact numb and dat but the crs say it be unknown what hap to the inform gen by nicsrel ter watchl hit that ar pass on to the fbi counterter divid and investig personnel in the field it be poss that that inform be record and stor electron in the fbi s investig cas fil an fbi spokesm tell us that the fbi can op an investig if ther be prob becaus fbi guidelin say a prelimin investig may be op on the bas of any alleg or inform ind of poss crimin act or threats to the nat sec we tak no posit on feinstein s amend but lankford be not tel the whol story when he say that individ on a ter watch list can not just walk in and buy a firearm at a gun stor they can aft a threeday wait and nin out of ten of thos who hav tri hav don so https wwwsharethefactscosharedf085bfed1404c2293b5c9aa91fdd008 be on the ter watch list on abc s thi week yo attorney gen lorett lynch declin twic to say how many be ar on the ter watch list claim we do not provid thos exact numb or ev a ring that be fals feed off hav tell congress that the numb of yo person on ter watch list ring from fiv thousand to fifteen thousand lynch mad her remark when ask about feinstein s amend by thi week host jonath karl karl jun nineteen the just depart have com out in fav of thi ide of the nof nobuy if you ar on the ter watch list the nof list you should not be abl to buy a gun how many be ar on the ter watch list lynch you know we do not provid thos exact numb karl can you giv me a ring i mean what ar we talk about her lynch wel as i say we do not provid thos exact numb as we hav writ bef ther ar multipl databas that contain the nam of suspect or know ter the largest be the ter id datamart environ or tid the nat counterter cent maintain tid which the nonpart congress research serv in a two thousand and thirteen report refer to as the govern s cent reposit of intern ter and suspect ter the numb on that list stand at elev mil as of decemb two thousand and thirteen includ twenty-five thousand yo person that be cit and leg perm resid accord to an nctc fact sheet as of jun seventeen the tot numb of nam on the tid list have grow to fifteen mil nam although the numb of yo person shrink to few than fifteen thousand accord to feinstein s off the fbi s ter screen cent sep maintain the ter screen databas which be common refer to as the ter watchl the fbi tell feinstein s off that ther ar about on mil record in the tsdb and about fiv perc of thos or few than fiv thousand record ar of yo person the watch list includ about eighty-one thousand nam on the socal nof list includ few than on thousand nam of yo person the sen s off say the dat wer obtain from the nat counterter cent nctc and the feed bureau of investig fbi to congress quest the nctc be within the off of the direct of nat intellig but the fbi s ter screen cent be in the depart head by lynch so lynch be wrong when she say we do not provid thos exact numb or ev a ring https wwwsharethefactscoshareb7ace6fb6deb458d820dd0273095d4de what gun stor report about mateen donald trump leave out import fact when he say a gun stor own report om mateen to the fbi week bef the orlando shoot due to suspicy behavy whil mateen be try to buy body arm and bulk ammunit but that auth do not act on it a gun stor do report the suspicy act but be un to provid the fbi with mateen s nam or oth inform about him and so the fbi say that due to a lack of inform it be un to conduc any mean investig follow up trump rais the issu on two sunday show on jun nineteen on inst cam on abc s thi week in an interview with jonath karl trump jun nineteen he be a bad dud i mean look wil somebody slip through ye you hav a problem you hav to report thes peopl and everybody know thi guy have a problem now in on cas they do report it i guess the gun stor own report him and the auth do not act on it what a sham karl so what doe that say to you trump it say very sad that be what it say i mean to me it say very sad but they act do report him and the auth do not act and i think it be very unus and i be a big fan of the fbi but they have a littl bite of a bad day trump reit the point in a cbs fac the nat interview with john dickerson dickerson jun nineteen what donald trump policy would hav keep thi from hap trump wel we hav to report look the big thing that we ar miss her be that peopl hav to report when they see somebody thi man be pretty much unh i mean you look at his record you look at what hap and act i guess it be the gun stor that do report and report him when he go in to buy al sort of body arm and oth thing he report him to the auth law enforc and it very sad noth be don dickerson but the trump it could hav be prev he be excel in what he do but unfortun nobody take adv of it in a jun sixteen interview on abc new robert abel a coown of lot gunwork in jens beach florid say a man lat ident as orlando nightclub shoot mateen cam into his stor sev week bef the mass shoot and attempt to buy highgrad body arm and mor than on thousand round of ammunit abel say a stor salesm find mateen s behavy very suspicy due to od quest about the body arm which the stor do not carry and a subsequ cel phon convers mateen hold in a foreign langu the salesm deny mateen s request for ammunit abel say he want bulk ammunit on and aft mateen leave the stor cal the loc fbi off in west palm beach and report the incid someth in his gut tell him it be wrong abel say of the employ accord to a new york tim report but abel say they wer not abl to provid mateen s nam becaus no sal be mad and the surveil foot they have be grainy abc new report we have no link no contact do not know who he be abel say but we do contact auth and let them know we just have a suspicy person that be in her abel say ther be a followup convers with ag but he say the fbi nev visit the stor or investig furth abc new report accord to a stat from the fbi on jun seventeen the stor op wer un to collect any inform about him to includ nam dat of bir charg card telephon inform or email address unfortun giv the lack of inform about thi individ fbi ag wer un to conduc any mean investig follow up the fbi stat say abel say it be not until aft the dead attack in the orlando nightclub that a stor employ recogn that the man who have ent the stor that day be mateen and her s a prim exampl of try to do the right thing and we get so clos to it abel say but unfortun he slip through the crack and thi be wher we ar at on abc s thi week karl ask yo attorney gen lynch if the fbi do enough to followup on the gun stor s tip lynch say that becaus mateen do not mak a purchas ther be no record ther be no ident inform but do provid that inform and that be exact what he be suppos to hav don and we apprecy that karl then ask if the fbi do anyth with that inform wel lynch say at the tim ther be no ident inform on that and in fact it be not until thes trag ev of last weekend that the gun shop own real oh my good that be the man that cam in and in fact provid that inform that allow us to connect thos dot https wwwsharethefactscoshare5de0817a5b33458ca1457f5065f43e72 gun law loophol allow immedy delivery no background check arm priv own can sel their weapon leg anytim to anyon show ar a common sal venu priv gun own can and do sel their weapon leg to anyon no quest ask no background check no reg and no coolingoff period the brady meas and most supers stat law hav a loophol larg enough to sneak a crat of 9millimeter pistol through becaus they apply on to licens deal but at least they dict that al handgun sal be reg then they must requir a govern background check on al buy miam the brady law and simil gun control on stat book mand a coolingoff period bef anyon can buy a handgun right the gun in thi socal second market ar oft sell through class ad but an increas popul outlet be the gun show wher licens deal and priv own oft compet sid by sid easy mil of gun sal can be transact at gun show say jack killorin a spokesm for the bureau of alcohol tobacco and firearm in washington atf estim that be own two hundr mil gun of al kind includ sixty-seven mil handgun licens gun shop sell seventy-five mil gun last year at a ft lauderd show thi mon a wom who giv her nam on as kar display a us colt 38caliber pol spec next to a sign priv sal on hundr and ninety-five no form no wait period the colt sal be leg she say becaus the gun be her atf say that kar be correct no law prev a priv cit from sel handgun to anyon who answ an ad or walk into a gun show and no clearcut definit sep priv sel from licens deal such as earn or numb of gun sell gen the atf say it requir licens if gun sel ar run a regul profitmak busy thes show hav get as common as gar sal and al thi be a problem for us killorin say it be know that gun hav mov out of thes show into crimin hand texa and florid ar particul worrisom he say becaus they off frequ gun show rel lax law and eas of transit for outofst buy david koresh s branch david cult build up it ars with purchas from texa gun show he not in texa tradit our ag ind that a lot of peopl slide up from mexico and buy at gun show wher ther ar few quest ask killorin say miam atf spokesm bruc snyd say a on thousand , nin hundr and nin coup attempt in the carib island nat of trinidad and tobago be arm through purchas at florid gun show resid of northeastern stat with tough gun control law buy many of the pistol sell leg at florid gun show but neith atf nor stat and loc pol ag can patrol the show routin ther ar simply too many killorin say that leav the show op not on to leg priv sel but also to arm deal who abus the law by claim to sel priv gun collect gun show gun show ar wid attend by be interest in firearm for defend purpos hunt sport recr and hist sign in the 1990s gun control support beg claim that crimin wer common acquir gun at show howev study by the feed govern hav rep show that less than on perc of stat prison inm incarc for gun crim acquir their gun at show whil most acquir gun through theft on the black market or from famy memb or friend in the sam period gun control support beg push feed legisl to requir background check on the rel smal numb of peopl at show who buy gun from peopl who ar not deal now they demand a background check for any sal trad gift or oth transf of any firearm anywh to anyonein som cas includ famy memb or friend nra oppos expand of the background check system becaus crimin easy get gun by oth mean and becaus expand the background check requir would be a step toward transform the background check system into a nat gun reg\n",
            "wayn lapier say an obamaer rul deny gun right to the eld who  seek help to do their tax    bid rev nra hist on background check vic presid joe bid exag when he wax nostalg about the good old day a tim when everybody includ the nra think background check mad sens bid s off say he be refer to the nra s support for background check in the ear 1990s and it stat support for expand background check to includ gun show in on thousand  nin hundr and ninetynine but vic presid s senty journey rid roughshod ov the fact in on thousand  nin hundr and ninetyone the nra endors legisl cre a nat system of inst background check as an altern to a sevenday wait period contain in the propos brady handgun viol prev act but the technolog do not ex yet a guncontrol advoc say the inst check bil would hav complet gut the brady bil by elimin the wait period in on thousand  nin hundr and ninetythree the brady bil becam law with comprom langu on background check the law requir a fiveday wait period until an inst background check system could be est background check would apply on to feed licens firearm deal and the nra say it oppos attempt to expand background check to al gun sal as fool in on thousand  nin hundr and ninetyeight on the day that the fbi launch the inst check system the nra sue to bar the feed ag from keep ident inform on gun buy for nin day claim the brief ret of record amount to a de facto gun reg although the nra lose it suit congress would lat mand that the fbi destroy it record within twentyfour hour of an approv gun sal in on thousand  nin hundr and ninetynine congress consid expand background check to includ gun show aft the columbin high school massacr the nra support a narrow expand of background check in a hous bil that thenpresid clinton say be plain ghostwrit by the nra the nra oppos a mor expand sen vert the sen spons say that the gun lobby kil the legisl in house conf the vic presid spok about the admin s propos to reduc gun viol on april nin at the whit hous to a group of law enforc off he say rel of thos kil at sandy hook el school in newtown con tell him that they could not understand why any memb of congress could oppos requir background check on al gun sal cur the law requir such check for peopl buy gun from feed licens firearm deal but not for priv sal includ at gun show and on the internet in mak his cas for expand background check bid recal his day in congress when the nra support background check bid april nin look i think we reach a consens on that convict felon that peopl with sery ment il and adjud as such that fugit that wif beat they should not be abl to own a gun if i be not mistak becaus i do thi last tim in eightyfour everybody includ the nra think background check mad sens rememb that rememb thos good old day it mad sens keep gun out of the hand of thos folk thi be a cury cas of bid look at the nra s hist on background check through rosecol glass bid s off cit the nra s support for the cre of the nat inst crimin background check system or nic in the ear 1990s it also refer us to a huffington post story about how the nra support expand background check to gun show aft the april twenty on thousand  nin hundr and ninetynine shoot at columbin high school for the record bid mean to say on thousand  nin hundr and ninetyfour not on thousand  nin hundr and eightyfour although the dat do not necess mat let us first look at the cre of nic as we say abov the nra support it but as an altern to a fiveday wait period and on for licens gun deal and the group have be oppos to it expand to al priv sal ev sint the conceiv of nic cam up in on thousand  nin hundr and ninetyone when the brady bil be be consid as part of a crim bil off by thens joe bid of delaw in an essay on the hist of the brady law richard aborn a form manhat assist district attorney and a board memb of handgun control int wrot that the nra tri a lastditch effort to block the brady bil by work with sen ted stev of alask on an amend to cre an inst background check system aborn on thousand  nin hundr and ninetyfour the fat flaw in the inst check bil be that ther be no technolog avail to conduc the background check inst the inst check bil would hav complet gut the brady bil by elimin the wait period thereby depr law enforc off of the tim necess to conduc a background check of the purchas stev amend fail four thousand  four hundr and fiftyfour in a vot on jun twentyeight on thousand  nin hundr and ninetyone instead the sen that sam day pass a comprom amend by a six thousand  sev hundr and thirtytwo vot that would impos a wait period of fiv busy day to allow loc law enforc the opportun to perform a background check the fiveday wait period would be in effect until the cre of a nat inst background check system bid s crim bil that year pass the sen but die in the hous it be the third tim that the brady bil have be introduc and the third tim that it have fail to win congress approv the four tim be the charm for guncontrol advoc on febru twentytwo on thousand  nin hundr and ninetythree democr rep charl schumer of new york who be now a sen reintroduc the brady handgun viol prev act his vert includ the on thousand  nin hundr and ninetyone comprom langu on a fiveday wait period and the cre of an inst check system in his essay on the hist of the brady bil aborn say the bil have unprec support and moment from the start aborn on thousand  nin hundr and ninetyfour when the 103d congress conv a record numb of spons reintroduc the brady bil into congress a week ear in his stat of the un address presid clinton have decl to rous applaus if you wil pass the brady bil i wil sur sign it for the first tim a sit presid have stat that he be wil to sign such a bil in addit in the 103d congress unlik in prevy congress the brady bil would fin stand on it own unencumb by any crim legisl as the bil near fin pass the nra seek to mak chang gop rep georg geka of pennsylvan win approv for an nraback amend that would end the fiveday wait period aft fiv year ev if the inst check system be not op bil mcintyr an nra spokesm be quot in a geka press releas say that the nra work clos with him on the langu and to round up support for it we recogn a bil be go to becom law on thi wayn lapier the nra s chief execut off say in an assocy press story at the tim we want to mak it the best vert poss schumer tell new york newsday that geka and anoth hous memb who off a second nraback amend wer und publ press to vot for the bil but they stil felt the nra breath down their neck so they throw them a bon clinton sign the brady bil on novemb thirty on thousand  nin hundr and ninetythree and as requir by law the inst background check take effect fiv year lat on novemb thirty on thousand  nin hundr and ninetyeight but that sam day as we wrot ont bef the nra fil a lawsuit challeng the nic reg claim that the rul allow the fbi to maintain an audit log for up to six month lat reduc by the depart of just to nin day amount to a de facto firearm reg cont to the brady act the nra suit be dismiss but sint two thousand and four congress have insert langu in an spend bil requir the fbi to destroy firearm transf record within twentyfour hour of approv as congress do most rec in fisc year two thousand and twelv when the record requir be mad perm accord to an august three two thousand and twelv congress research serv report pag seventysix on guncontrol legisl a mon aft the brady bil be sign into law in on thousand  nin hundr and ninetythree the los angel tim wrot about schumer s effort to clos the socal gun show loophol which the pap describ as a loophol larg enough to sneak a crat of 9millimeter pistol through becaus they apply on to licens deal nra lobby joseph phillip tell the tim that such legisl would be fool that be the begin of a legisl battl ov clos the socal gun show loophol that flar up again in on thousand  nin hundr and ninetynine which the vic presid s off also cit in support of bid s claim about the good old day bid s off refer us to a janu thirtyone story on the huffington post websit that carry the headlin nra support univers background check aft columbin massacr that story start in may of on thousand  nin hundr and ninetynine und intens press follow the columbin high school massacr nat rifl assocy ceo wayn lapier tell congress that the gun lobby support inst background check at gun show lapier test fiv week aft the april two hundr and on thousand  nin hundr and ninetynine massacr at columbin but lapier s stat support for expand background check be condit ev then and he spec oppos langu propos by democr sen frank lautenberg of new jersey thi be what lapier say at that congress hear lapier may twentyseven on thousand  nin hundr and ninetynine we think it be reason to provid for inst check at gun show just lik at gun stor and pawn shop but what be unreason be how the propos lautenberg legisl ign the two hundr and fifty thousand prohibit peopl lik felon who hav walk away from gun stor instead of be prosecut for a feed felony for try to buy a gun in it story of the sen hear the atlant journ constitut say lapier do not see the nee for new gun legisl and quot him as say lautenberg s propos in particul would be a red tap nightm atlant journ constitut may twentyeight on thousand  nin hundr and ninetynine lapier whos three millionmemb org wag a fierc lobby effort against aspect of the sen bil urg congress to enforc ex law rath than pass new on lapier say the nra would acceiv inst background check at gun show but would reject the cur langu of the sen bil which allow law enforc three day to conduc the check and defin gun show as any gath wher mor than fifty firearm ar sell thi be a red tap nightm lapier say it be a mass feed govern bil that get into everyon s lif if you just ment the word firearm lapier be refer to a lautenberg propos on inst background check at gun show that be includ in a juvenil just bil spons by thens joe bid lautenberg s amend to bid s bil pass fiv thousand  on hundr and fifty on may two hundr and on thousand  nin hundr and ninetynine with vic presid gor cast the tiebreak vot in an edit headlin the nra lobby strike back the washington post wrot that the hous respond to lautenberg s propos by introduc a compet nraback bil that the edit writ cal a decoy background check meas washington post jun sev on thousand  nin hundr and ninetynine the nra lead assault on the sen bil be camoufl in a decoy background check meas they tout as cut out al the bureaucr in the sen bil transl pul al tee in the sen bil and let thos gunshow sid deal flow unreg the nra paint it propos as a bet way to requir background check at gun show it support inst crimin check but would kil sen protect that cal for retain thi inform for nin day the compet bil result in congress gridlock the hous pass it vert in jun and a house conf commit be cre to negoty a comprom bil but the new york tim wrot that congress adjourn for recess in august on thousand  nin hundr and ninetynine without congress negoty reconcil the two bil the tim say the nra be particul concern about conf approv any meas to reg gun show that approach the strictness of a provid approv by the sen the sen on his websit blam the gun lobby for kil the legisl in a house conf off of sen frank lautenberg in on thousand  nin hundr and ninetynine sen lautenberg introduc the first bil in congress to clos the gun show loophol lat that year in the wak of the columbin tragedy the sen pass sen lautenberg s legisl to clos the gun show loophol as an amend to a juvenil just bil the legisl pass by on vot with vic presid gor cast the tiebreak vot howev the gun lobby kil the legisl in house conf we can not say why the vic presid choos to ign thi legisl hist but in do so the guncontrol advoc in his audy that day may hav com away with a diff impress of the nra than the guncontrol advoc do in the good old day of the 1990s eug kie nra exec s fals gun claim the head of the nat rifl assocy s polit and lobby arm incorrect describ a rep soc sec admin report requir for gun background check as target seny cit who ask for help handl their fin the rul which have be fin in decemb two thousand and sixteen be revok by a joint resolv that presid donald trump sign into law in febru it would hav requir the ssa to report certain ment dis beneficy to the nat inst crimin background check system or nic a feed databas us to conduc gun background check chris cox the execut direct of the nra s institut for legisl act say that trump oppos the rul becaus you can not arbit deny a seny cit their second amend right bas on no find of dang howev the rul do not singl out seny it would hav cov eighteen to 65yearolds receiv dis benefit not retir pay due to a diagnos ment condit cox then go ev furth fals claim that the rul s definit of a ment disord be someon who ask for help handl their fin in fact the ssa rul say that in ord to be report individ have to meet fiv criter includ hav a sev ment dis and hav a repres assign to handl their benefit pay the nrail do not respond to our request for com cox mad his remark on fox new sunday aft chris wallac the show s host challeng cox s claim that the nra have work to includ every ment heal record every court adjud every crimin record to mak sur that peopl do not fal through the crack dur gun background check cox octob eight sur the nat rifl assocy have work to includ every ment heal record every court adjud every crimin record to mak sur that peopl do not fal through the crack the nat rifl assocy wallac that be not that be not tru sir cox that be absolv tru chris wallac no it be not forg me in febru presid trump sign a meas that say that the soc sec admin no long have to provid inform on ment disord to the nat background crimin check and the nra support that cox that be a complet misrepres of our posit a complet misrepres of what presid trump do what he say be you can not arbit deny a seny cit their second amend right bas on no find of dang the on find be that they ask somebody to help them man their fin affair if you think that somebody nee help with a checkbook should elimin them from exerc their second amend then you und crosstalk wallac ment disord now i agr it be not everybody it be som peopl with ment disord and you back that cox their definit of a ment disord be someon who ask for help handl their fin that be not a prohibit categ chris and it should not be a prohibit categ wallac be right as we wrot in an ask factcheck item on octob six trump sign hjres forty into law that law block the ssa from hav to comply with the rul and the nra applaud the presid for do so it be cox who inacc describ thos who would hav be affect by the rul and why they would hav be report to the nic databas her s a recap of how the nic databas work and what the ssa rul would hav accompl und feed law individ commit to any ment institut or adjud as a ment defect by a court board commit or oth law auth ar prohibit from purchas or possess a gun adjud as a ment defect mean peopl who as a result of mark subnorm intellig ment il incompet condit or diseas lack the ment capac to man their own affair or ar a dang to themselv or someon els it also includ peopl find ins by a court in a crimin cas or find incompet to stand tri or not guil by reason of lack of ment respons stat can report thos individ to the nic databas us by feed licens firearm deal to screen for prohibit gun buy as of decemb thirtyone two thousand and sixteen ther wer mor than fortysix mil act record in the nic databas for peopl with adjud ment heal issu accord to fbi dat when a custom apply to buy a gun from a feed licens firearm deal the sel in the requir background check by phon or onlin nic then run the wouldb gun buy s nam and oth ident inform against sev nat hold databas to determin if the appl be leg permit to buy a gun in addit to ment heal record thos databas contain crimin record court record such as war and protect ord as wel as immigr and nat record if the appl be not a yo cit the deal can complet the sal if ther be no match for the appl in the system but if ther be a match the gun purchas can be delay for up to three busy day whil examin review the cas and determin if the person be indee prohibit from purchas a weapon the ssa s fin rul be cre to comply with the report requir mand by the nic improv amend act of two thousand and sev which be sign into law in janu two thousand and eight by presid georg w bush the law requir feed ag to report individ prohibit from acquir gun to the nic aft the two thousand and twelv mass shoot at sandy hook el school presid barack obam issu a presid memorand adv the just depart to mak sur that feed ag wer comply with the two thousand and eight law by report relev record to the nat background check system the obam admin estim that the ssa report requir would cov approxim seventyfive thousand peopl each year who hav a docu ment heal issu receiv dis benefit and ar un to man thos benefit becaus of their ment impair or who hav be find by a stat or feed court to be leg incompet in addit to provid retir benefit the ssa also have a soc sec dis ins program that provid benefit to dis or blind peopl between the ag of eighteen and sixtyfive but trump block the rul bef ssa have to comply with it requir thi decemb the congress review act allow congress to disapprov rul up to sixty day aft they wer issu as of decemb two thousand and fifteen mor than thirtyfive mil peopl wer receiv benefit becaus of a ment disord accord to soc sec s an report on the dis ins program not al of thos appl would hav be report to nic for includ in it databas though on thos who meet spec criter would be affect ssa as we ind in sect four hundr and twentyone thousand  on hundr and ten b of our rul the beneficy whos nam we would submit to the nic must meet fiv welldefin criter the criter ar that the individ must hav on fil a claim bas on dis two be determin by us to be dis bas on a find at step three of our sequ evalu process that the individ s impair s meet or med eq the requir of on of the ment disord list three a prim diagnos cod in our record that be bas on a ment impair four attain ag eighteen but hav not yet attain ful retir ag and fiv benefit pay mad through a repres pay becaus we hav find him or her incap of man benefit pay the ag say it would not report anyon who do not meet al fiv criter that mean cont to what cox say no on would be report for nee help with a checkbook which be not the ssa s definit of a qual ment disord for an impair to meet or med eq a list an individ s symptom must est that he or she have a med determin ment impair the rul say the impair must be est by med evid consist of sign symptom and lab find not on by the claim s stat of symptom alon spec sign or symptom of a ment impair combin with an alleg difficul in man money alon wil not meet or eq on of the ment disord list the claim s ment impair must also result in limit in the claim s abl to funct to the degr requir by the list criter the ag s list of qual ment impair for dis benefit contain elev categ of disord includ schizophrenia spectr and oth psychot disord as wel as person and impulsecontrol disord and traum and stressorrelated disord in almost al cas an appl s disord have to becaus an extrem limit of on or mark limit of two of their abl to understand rememb or apply inform interact with oth cont persist or maintain pac and adapt or man oneself that be far from simply defin a ment disord as someon who ask for help handl their fin as cox claim act hjres40 115th congress twenty mil  on hundr and seventytwo thousand and eighteen provid for congress disapprov und chapt eight of titl fiv unit stat cod of the rul submit by the soc sec admin r sen commit any commit agricult nutrit and forestry 70th116th arm serv 79th116th bank hous and urb affair 70th116th budget 93rd116th commerc sci and transport 79th116th energy and nat resourc 70th116th environ and publ work 79th116th fin 70th116th foreign rel 70th116th heal educ lab and pend 70th116th homeland sec and govern affair 70th116th ind affair 95th116th intellig select 94th116th judicy 70th116th rul and admin 79th116th smal busy and entrepr 81st116th vet affair 91st116th stat or territ ind any stat or territ alabam alask be samo arizon arkansa californ colorado connecticut delaw district of columb florid georg guam hawai idaho illino indian iow kansa kentucky louisian main maryland massachuset michig minnesot mississipp missour montan nebrask nevad new hampshir new jersey new mexico new york nor carolin nor dakot northern marian island ohio oklahom oregon panam can zon pennsylvan puerto rico rhod island sou carolin sou dakot ten texa utah vermont virgin island virgin washington west virgin wisconsin wyom nomin act any nomin act plac on calend as privileg nomin commit request inform be receiv refer to commit hear hold ord report report to sen commit discharg plac on calend plac on calend with footnot consid by sen unanim con agr clot mot clot invokednot invok rerefer to commit receiv mess of withdraw return to presid confirm by sen presid memorand improv avail of relev execut branch record to the nat inst crimin background check system memorand for the head of execut depart and ag subject improv avail of relev execut branch record to the nat inst crimin background check system sint it becam op in on thousand  nin hundr and ninetyeight the nat inst crimin background check system nic have be an ess tool in the effort to ens that individ who ar prohibit und feed or stat law from possess firearm do not acquir them from feed firearm licens ffls the abl of the nic to determin quick and effect wheth an individ be prohibit from possess or receiv a firearm depend on the complet and acc of the inform mad avail to it by feed stat and trib auth the nic improv amend act of two thousand and sev nia publ law on hundr and ten thousand  on hundr and eighty be a bipart effort to strengthen the nic by increas the quant and qual of relev record from feed stat and trib auth access by the system among it requir the nia mand that execut depart and ag ag provid relev inform includ crimin hist record certain adjud rel to the ment heal of a person and oth inform to databas access by the nic much progress have be mad to ident inform gen by ag that be relev to determin wheth a person be prohibit from receiv or possess firearm but mor must be don gre particip by ag in ident record they possess that ar relev to determin wheth an individ be prohibit from possess a firearm and a regul process for submit thos record to the nic wil strengthen the acc and efficy of the nic increas publ saf by keep gun out of the hand of person who can not law possess them theref by the auth vest in me as presid by the constitut and the law of the unit stat of americ i hereby direct the follow sect on improv the avail of record to the nic a within fortyfive day of the dat of thi memorand and consist with the process describ in sect three of thi memorand the depart of just doj shal issu guid to ag regard the id and shar of relev feed record and their submit to the nic b within sixty day of issu of guid pursu to subsect a of thi sect ag shal submit a report to doj adv wheth they possess relev record as set for in the guid and set for an impl plan for mak inform in thos record avail to the nic consist with appl law c in accord with the auth and respons provid to the attorney gen by the brady handgun viol prev act publ law on hundr and three thousand  on hundr and fiftynine as amend the attorney gen consist with the process describ in sect three of thi memorand shal resolv any disput concern wheth ag record ar relev and should be mad avail to the nic d to the ext they possess relev record as set for in the guid issu pursu to subsect a of thi sect ag shal priorit mak thos record avail to the nic on a regul and ongo bas sec two meas progress a by octob on two thousand and thirteen and an thereaft ag that possess relev record shal submit a report to the presid through the attorney gen describ i the relev record possess by the ag that can be shar with the nic consist with appl law ii the numb of thos record submit to databas access by the nic dur each report period ii the effort mad to increas the perc of relev record possess by the ag that ar submit to databas access by the nic iv any obstac to increas the perc of record that ar submit to databas access by the nic v for ag that mak qual adjud rel to the ment heal of a person the meas put in plac to provid not and program for reliev from dis as requir und the nia vi the meas put in plac to correct mod or remov record access by the nic when the bas und which the record be mad avail no long apply and vii addit step that wil be tak within on year of the report to improv the process by which record ar ident mad access and correct mod or remov b if an ag cert in it an report that it have mad avail to the nic it relev record that can be shar consist with appl law and describ it plan to mak new record avail to the nic and to upd mod or remov ex record electron no less oft than quart as requir by the nia such ag wil not be requir to submit furth an report instead the ag wil be requir to submit an an cert to doj attest that the ag continu to submit relev record and have correct mod or remov appropry record sec three nic consult and coordin work group to ens adequ ag input in the guid requir by sect on a of thi memorand subsequ decid about wheth an ag possess relev record and determin concern wheth relev record should be provid to the nic ther be est a nic consult and coordin work group work group to be chair by the attorney gen or his design a memb in addit to the chair the work group shal consist of repres of the follow ag i the depart of defens ii the depart of heal and hum serv ii the depart of transport iv the depart of vet affair v the depart of homeland sec vi the soc sec admin vii the off of personnel man vii the off of man and budget and ix such oth ag or off as the chair may design b funct the work group shal conv regul and as nee to allow for consult and coordin between doj and ag affect by the attorney gen s impl of the nia includ with respect to the guid requir by sect on a of thi memorand subsequ decid about wheth an ag possess relev record and determin concern wheth relev record should be provid to the nic the work group may also consid as appropry i develop mean and method for ident ag record deem relev by doj s guid ii address obstac fac by ag in mak their relev record avail to the nic ii impl not and reliev from dis program and iv ens mean to correct mod or remov record when the bas und which the record be mad avail no long apply c report the work group wil review the an report requir by sect two a of thi memorand and memb ag may append to the report any mat they deem appropry includ an id of any ag best pract that may be of assist to stat in supply record to the nic sec four gen provid a noth in thi memorand shal be constru to impair or otherw affect i the auth grant by law to a depart or ag or the head thereof or ii the funct of the direct of the off of man and budget rel to budget admin or legisl propos b thi memorand shal be impl consist with appl law and subject to the avail of appropry c thi memorand be not intend to and doe not cre any right or benefit subst or proc enforc at law or in equ by any party against the unit stat it depart ag or ent it off employ or ag or any oth person d independ ag ar strongly enco to comply with the requir of thi memorand sec fiv publ the attorney gen be hereby auth and direct to publ thi memorand in the feed reg barack obam guncontrol act win fin battl as gop ret washington novemb twentyfour the sen today pass a mand wait period for the purchas of handgun aft republ opposit to the meas collaps it be an anticlimact fin to sev year of congress battl the meas the brady bil be the toughest guncontrol bil pass by congress sint a ban on mailord rifl sal pass in on thousand  nin hundr and sixtyeight although ev it support expect it to hav on a modest impact on viol crim it be now head to the whit hous and presid clinton say he hop to sign it soon the bil have already bount back from the dead ont in rec day when republ drop a filibust saturday night in the fac of strong publ support for the meas then they stal it again on monday at it fin threshold block a vot on wheth to adopt a house conf comprom vert ninetyseven empty sen seat aft day of person anim and futil backroom deal republ back down without much to show for their effort the bil pass without deb with on three sen sit in a chamb empty by the thanksg holiday as vic presid al gor and mark o hatfield an oregon republ who support the bil watch the two sen lead bob dol of kansa and georg j mitchel of main pronount the meas adopt by unanim con that be a parlia dev allow the lead to pass the legisl themselv by voic vot aft ascertain that no sen would object al of us ar happy to hav thi issu behind us mr dol say aft a long long hard fight jim brady have win thanksg pres the bil be nam for jam brady who with his wif sarah lead the campaign in fav of the guncontrol meas mr brady be presid ronald reag s press secret when he be sery wind dur the on thousand  nin hundr and eightyone assassin attempt on mr reag at a new conf aft the vot mr brady rais his fist from his wheelchair and say it be an aw nic thanksg pres for the peopl of americ the brady bil wil set a wait period of fiv work day to giv sel and lawenforc off tim to check the background of prospect buy for crimin record or ment inst the wait period wil be lift aft fiv year at which point an inst check of a buy s background be suppos to be avail nationwid by comput the legisl wil also provid stat with mor than two hundr mil to upgrad their comput record on crimin it wil not by itself stop gun viol in americ mr mitchel say it be howev a sign albeit a modest step forward def for gun lobby pass of the bil repres a sting def for the nat rifl assocy the gun lobby that contribut to the campaign of scor of lawmak wayn lapier execut direct of the nra rep the org s object to the bil today say the wait period be unfair to honest lawabid peopl the crimin wil not wait in the twentytwo stat that already hav such wait period ther have be no apprecy impact on ris violentcrim rat although som felon want by the auth hav be deny gun and arrest the bil wil also hav no effect on the seventy mil handgun that ar already on the nat s streets stil lawenforc off say that at the very least the bil wil provid a cool off period that could stem crim of pass by for exampl angry spous and disgruntl employ robert t scul execut direct of the nat assocy of pol org say that by mak wait period nationwid peopl now deny gun wil not be abl to run from michig to ohio to buy on the bil have pass the hous and then the sen aft an agr that end a republ filibust last week but the vert that win approv in a senateh conf bog down when sen republ complain that democr have strip out provid that wer ad as part of the agr in particul republ wer unhappy about the disappear of two provid to phas out the wait period bef fiv year as the struggle devolv into a grudg match between sen dol and joseph r bid jr the delaw democr who head the judicy commit it appear that congress might not be abl to pass the bil until lat janu at the earliest mr mitchel the maj lead cal on sen to return from their holiday break to vot to break the filibust and pass the bil mr dol then off a comprom propos tuesday night but democr lead continu to insist that republ acceiv the conf vert which includ som ear republ propos propos by dol mr dol drop his opposit today when mr mitchel agree to let the sen consid legisl mod the brady bil next year as propos by the kansa republ the bil would mak poss the phaseout of the wait period in two year as long as the nat comput check system reach a certain level of acc guncontrol support today hail the brady bil s pass as the first vict of many in congress thi be the first tim sint on thousand  nin hundr and sixtyeight that the nra have be beat on a maj meas but it wil not be the last predict repres charl e schumer democr of brooklyn the lead handguncontrol advoc in the hous lawmak wil learn that ther be lif aft vot against the nra indee the brady bil be the best know of sev guncontrol meas mov through congress a twentythree bil anticrim pack the sen pass thi mon includ a ban on the sal of handgun for juvenil and a ban on the manufact of nineteen typ of militarystyl assault weapon simil assault weapon provid hav be block by the hous in rec year but the ris popul frust express ov crim could chang the equ thi year photo presid clinton congrat jam brady in the ov off aft learn of the sen pass of the brady bil at rear wer attorney gen janet reno vic presid al gor and sarah brady assocy press nra v ashcroft opposit no on thousand  three hundr and thirtytwo in the suprem court of the unit stat nat rifl assocy of americ int et al petit v john d ashcroft attorney gen of the unit stat on petit for a writ of certiorar to the unit stat court of ap for the district of columb circuit brief for the respond in opposit barbar d underwood act solicit gen counsel of record stuart e schiffer act assist attorney gen mark b stern michael s raab attorney depart of just washington dc two hundr and fiv mil  three hundr thousand and on two hundr and two fiv mil  on hundr and fortytwo thousand  two hundr and seventeen quest pres the brady handgun viol prev act brady act pub l no on hundr and three thousand  on hundr and fiftynine on hundr and sev stat on thousand  fiv hundr and thirtysix on thousand  nin hundr and ninetythree requir the attorney gen to est a nat inst crimin background check system nic that feed licens firearm deal can contact for inform on wheth receipt of firearm by prospect transf would viol eighteen yousc nin hundr and twentytwo or stat law a reg promulg by the attorney gen twentyeight cfr two hundr and fiftynine b provid for the maint of an audit log of al incom and outgo transact that pass through the nic and for the destruct of that log aft no mor than six month the quest pres ar on wheth the ret of the nic audit log concern allow firearm transf for no mor than six month be prohibit by sect on hundr and three i of the brady act on hundr and sev stat on thousand  fiv hundr and fortytwo two wheth retain inform concern allow firearm transf in the nic audit log for a period not to excess six month be prohibit by eighteen yousc nin hundr and twentytwo t two three wheth the court of ap prop review the attorney gen s reg interpret the brady act und chevron yous int v nat resourc defens council int four hundr and sixtyseven yo eight hundr and thirtyseven on thousand  nin hundr and eightyfour in the suprem court of the unit stat no on thousand  three hundr and thirtytwo nat rifl assocy of americ int et al petit v john d ashcroft attorney gen of the unit stat on petit for a writ of certiorar to the unit stat court of ap for the district of columb circuit brief for the respond in opposit opin below the opin of the court of ap pet ap 1a42a be report at two hundr and sixteen f3d on hundr and twentytwo the memorand and ord of the district court pet ap 49a53a 54a55a ar unreport jurisdict the judg of the court of ap pet ap 43a44a be ent on july elev two thousand the court of ap deny petit for rehear on octob twentysix two thousand pet ap 45a46a 47a48a on janu seventeen two thousand and on the chief just extend the tim within which to fil a petit for a writ of certiorar to and includ febru twentythree two thousand and on the petit for a writ of certiorar be fil on febru twentytwo two thousand and on the jurisdict of thi court be invok und twentyeight yousc on thousand  two hundr and fiftyfour on stat on the brady handgun viol prev act pub l no on hundr and three thousand  on hundr and fiftynine on hundr and sev stat on thousand  fiv hundr and thirtysix on thousand  nin hundr and ninetythree brady act or act direct the attorney gen to est and op a nat inst crimin background check system nic that feed licens firearm deal can contact by telephon or oth electron mean for immedy inform on wheth the receipt of a firearm by a pot transf would viol eighteen yousc nin hundr and twentytwo or stat law brady act on hundr and three b on hundr and sev stat on thousand  fiv hundr and fortyone eighteen yousc nin hundr and twentytwo t on eighteen yousc nin hundr and twentytwo t two on thousand  nin hundr and ninetyfour sup v on thousand  nin hundr and ninetynine becaus the inform contain in the system and query outcomesy the fact that an individ have someth in his hist such as a convict or ment il that would preclud him from own a gunra both priv and sec issu congress direct the attorney gen to issu reg to ens the priv and sec of the inform of the brady act on hundr and three h on hundr and sev stat on thousand  fiv hundr and fortytwo the brady act also restrict the feed govern s us and ret of record concern background check wher the propos firearm transf would not viol feed or stat law in particul the act provid that if receipt of a firearm would not viol stat or feed law the system must assign a transact numb to the cal provid that numb to the deal and destroy al record of the system with respect to the cal oth than the ident numb and the dat the numb be assign and al record of the system rel to the person or the transf eighteen yousc nin hundr and twentytwo t two on thousand  nin hundr and ninetyfour sup v on thousand  nin hundr and ninetynine the act doe not spec when the record destruct must tak plac the vert of the brady bil init pass by the hous of repres provid that the system must immedy destroy al record of any transact that ar allow to process see on hundr and thirtynine cong rec h9098 h9123 h9144 dai ed novemb ten on thousand  nin hundr and ninetythree the hous howev acc to the sen vert of the destruct requir which do not contain the term immedy see pet ap 10a11a see also eighteen yousc nin hundr and twentytwo t two c two follow not and com the attorney gen promulg reg to est and impl the nic see twentyeight cfr two hundr and fiftyone et seq at the heart of thi lawsuit be the audit log reg which requir that certain inform on nic transact includ transf that ar allow to process be retain in an audit log for a period not to excess six month twentyeight cfr two hundr and fiftynine b inform in the audit log be us to analys system perform assist us in resolv op problem support the ap process or support audit of the us of the system twentyeight cfr two hundr and fiftynine b two sixtysix feed reg six thousand  four hundr and seventy six thousand  four hundr and seventyfour two thousand and on audit log inform on allow transf may be access direct on by the fbi for the purpos of conduc audit of the us and perform of the nic sixtysix feed reg at six thousand  four hundr and seventytwo the attorney gen s reg express prohibit the us of the audit log to est a feed firearm reg twentyeight cfr two hundr and fiftynine b on and two the audit log can be retain no mor than six month aft which al inform on approv transact exceiv the nic transact numb and the dat the transact numb be assignedmust be destroy twentyeight cfr two hundr and fiftynine b on see eighteen yousc nin hundr and twentytwo t two on thousand  nin hundr and ninetyfour sup v on thousand  nin hundr and ninetynine on as the preambl to the attorney gen s reg explain the audit log be design to satisfy the statut requir of ens the priv and sec of the nic and the prop op of the system sixtythree feed reg fiftyeight thousand  three hundr and three on thousand  nin hundr and ninetyeight by audit the system the fbi can ident inst in which the nic be us for unauth purpos such as run check of peopl oth than act gun transf and protect against the invas of priv that would result from such misus audit can also determin wheth pot handgun purchas or hav stol the id of innoc and unsuspect individ or otherw submit fals id inform in ord to thwart the nam check system the audit log wil also allow the fbi to perform qual control check on the system s op by review the acc of the respons giv by the nic record examin to gun deal id at fiv bil  eight hundr and thirty mil  three hundr and fiftyeight thousand  three hundr and four see also sixtyfour feed reg ten thousand  two hundr and sixtytwo ten thousand  two hundr and sixtythree on thousand  nin hundr and ninetynine audit be ess to safeguard the sec and priv of person inform in the system the nic wil perform background check that access a tremend amount of crimin hist ment heal milit background and oth inform about individ many busy and individ would be very interest in hav easy access to thes govern databas through ffls to do employ or oth unauth check dur the not and com period the just depart respond to the claim that eighteen yousc nin hundr and twentytwo t two requir immedy destruct of al record and thu bar the govern from retain a temp audit log although mand the destruct of al person ident inform in the nic assocy with approv firearm transact oth than the ident numb and the dat the numb be assign the statut doe not spec a period of tim within which record of approv must be destroy sixtythree feed reg at fiftyeight thousand  three hundr and three the depart also reject the claim that the audit log constitut a feed firearm reg prohibit by sect on hundr and three i of the brady act on hundr and sev stat on thousand  fiv hundr and fortytwo the record would be retain the depart explain on for a limit tim and us on for the purpos of ens inform priv and guar system rely acc and integr sixtythree feed reg at fiftyeight thousand  three hundr and three the attorney gen also conclud that the audit log should be destroy within six month and that the govern should work toward reduc the ret period to the shortest pract period of tim less than six month that wil allow bas sec audit of the nic sixtythree feed reg at fiftyeight thousand  three hundr and four consist with that goal in janu two thousand and on the attorney gen promulg amend to twentyeight cfr two hundr and fiftynine b which would short the ret period to nin day see sixtysix feed reg at six thousand  four hundr and seventy six thousand  four hundr and seventyfour thos chang wer origin to tak effect on march fiv two thousand and on id at six thousand  four hundr and seventyone and ar cur schedule to tak effect on july three two thousand and on unless furth mod ar mad see sixtysix feed reg twentytwo thousand  eight hundr and ninetyeight two thousand and on three on novemb thirty on thousand  nin hundr and ninetyeight the dat on which the audit log reg first take effect petit fil thi act for decl and injunct reliev and a writ of mandam against the attorney gen petit alleg int al that the temp ret of an audit log contain nic record of allow firearm transf be inconsist with the brady act see ca ap on thousand  sev hundr and nineteen the district court dismiss petit complaint conclud that congress have not spok direct to the quest at issu and that defend s construct of the brady law be permiss pet ap 55a the court of ap affirm pet ap 1a34a 43a44a the court of ap first observ that becaus petit challeng an ag reg the cas must be analys und the famili twopart test of chevron yous int v nat resourc defens council int four hundr and sixtyseven yo eight hundr and thirtyseven on thousand  nin hundr and eightyfour pet ap 7a und chevron step on the court ask wheth congress have direct spok to the prec quest at issu for if it have that be the end of the mat for the court as wel as the ag must giv effect to the unambigu express int of congress ibid quot chevron four hundr and sixtyseven yo at eight hundr and fortytwo thousand  eight hundr and fortythree if the statut be sil or ambigu with respect to the spec quest at issu the court of ap explain it mov to chevron s second step ask wheth the ag s answ be bas on a permiss construct of the statut ibid quot four hundr and sixtyseven yo at eight hundr and fortythree at that oint the court afford subst def to the ag s interpret of statut langu ibid apply the twostep chevron framework the court of ap reject petit challeng to the attorney gen s reg pet ap 7a34a petit first claim be that eighteen yousc nin hundr and twentytwo t two unambigu prohibit the attorney gen from retain inform about allow transact for any purpos pet ap 7a sect nin hundr and twentytwo t two the court agree doe requir the govern to destroy al record of the system regard approv transact exceiv the ident numb and the dat the numb be assign id at 8a but the court disagree with petit claim that the statut unambigu requir destruct to tak plac immedy the word immedy be not in the statut ibid and congress have declin to adopt a vert of the statut that includ that term id at 10a11a moreov follow the attorney gen s promulg of the audit log reg congress rep declin to amend the statut or pass appropry legisl that would insert an immedy destruct requir into the statut id at 11a12a in light of thos consid the court conclud that sect nin hundr and twentytwo t two doe not requir the immedy destruct of nic transact record the court of ap also reject petit claim that the audit log be inconsist with sect on hundr and three i of brady act which be entitl prohibit rel to est of reg system with respect to firearm subsect on of sect on hundr and three i bar any ag off or employ of the unit stat from requir that any record or port thereof gen by the be record at or transfer to a facil own man or control by the unit stat or any stat or polit subdivid thereof on hundr and sev stat on thousand  fiv hundr and fortytwo the audit log reg petit contend viol sect on hundr and three i on becaus log entry constitut record gen by the nic and ar record at facil own man or control by the unit stat the court of ap disagree sect on hundr and three i on s prohibit on requir the record of a record the court explain be lad with ambigu pet ap 13a14a as an init mat the prohibit could not be read as bar the gen of record in the first inst sect nin hundr and twentytwo t two c itself speak of destroy al record rel to allow transf and thu presum that record wil be gen in addit the court observ that the prohibit could not be read as categ ban the govern from retain record for a brief period although sect on hundr and three i bar the govern from requir the record of any nic record or port thereof and provid no exceptionsoth provid of the act spec contempl that the govern would itself record and retain certain nic record includ record rel to disallow transf see eighteen yousc nin hundr and twentytwo t two on thousand  nin hundr and ninetyfour sup v on thousand  nin hundr and ninetynine on hundr and sev stat on thousand  fiv hundr and fortytwo and id numb and dat for transact for allow transf eighteen yousc nin hundr and twentytwo t two c see pet ap 15a16a in view of thos consid the court of ap find the attorney gen s altern construct of the statut persuas emphas the word requir the attorney gen have interpret the statut as bar the govern from requir third party such as firearm deal from record inform at a feed or stat govern facil pet ap 16a if congress have intend sect on hundr and three i to bar the attorney gen from record or retain inform the court of ap explain it would not hav bar govern ag off and employ from requir that any record or port thereof gen by the be record brady act on hundr and three i on on hundr and sev stat on thousand  fiv hundr and fortytwo emphas ad instead congress would hav bar govern ag off and employ from record or mak a record of the nic transact pet ap 16a the court of ap also reject petit claim that the audit log viol subsect two of sect on hundr and three i which bar govern ag and off from us the to est any system for the reg of firearm firearm own or firearm transact or disposit exceiv with respect to individ who ar bar from receiv firearm pet ap 17a the audit log the court observ be not a system for the reg of firearm firearm own or firearm transact or disposit ibid it doe not retain the nam and person inform of gun purchas indefinit or for purpos of track thos individ instead it permit certain inform to be retain for a limit period of tim for the sol and exclud purpos of protect the priv of the nic and for qual control ibid intern quot mark omit the audit log moreov contain a maxim of six month transact a snapshot that rev virt noth about the univers of firearm own in the unit stat ibid indee the court of ap continu the audit log stand in contradistinct to oth databas that constitut reg system lik the cent reg of machin gun est by the nat firearm act whil the machin gun reg contain extend inform about the individ with the weapon and the weapon themselv the audit log contain littl inform doe not ind if the propos buy complet the transact and be purg every six month id at 18a the court of ap also conclud that the attorney gen s audit log reg reason impl the brady act s requir pet ap 18a34a the brady act itself the court observ direct the attorney gen to issu reg to ens the priv and sec of the inform of the id at 23a quot brady act on hundr and three h on hundr and sev stat on thousand  fiv hundr and fortytwo audit the court agree serv that goal by ens that the system s confid inform be not us for unauth purpos id at 23a24a the court also not that the audit log reg wer consist with the act s legisl hist which evid congress s concern about the invas of priv that could result from unauth us see id at 24a quot on hundr and thirtynine cong rec s16326 s16327 dai ed novemb nineteen on thousand  nin hundr and ninetythree stat of sen leahy in addit the court of ap agree that the audit log help ens that the system be work prop id at 21a and provid acc respons id at 22a the nee for an audit log the court of ap also not be support by the fact that audit be not unus for comput system lik the nic id at 23a judg sentel diss pet ap 3442a the attorney gen he decl have not on excess the auth grant her und but ha also viol express prohibit of oth statut sect pet ap 35a argu the court of ap decid be correct and doe not conflict with any decid of thi court or any oth court of ap furth review theref be not war on the brady handgun viol prev act brady act or act pub l no on hundr and three thousand  on hundr and fiftynine on hundr and sev stat on thousand  fiv hundr and thirtysix on thousand  nin hundr and ninetythree requir the attorney gen to est an effect nat inst crimin background check system nic the act requir the attorney gen to ens the priv and sec of the inform of the brady act on hundr and three h on hundr and sev stat on thousand  fiv hundr and fortytwo and spec that the attorney gen must destroy record of allow firearm transf eighteen yousc nin hundr and twentytwo t two on thousand  nin hundr and ninetyfour sup v on thousand  nin hundr and ninetynine the attorney gen s audit log regulationswhich requir both temp ret of certain inform for a brief period and the inform s complet destruct aft that period consist with the brady act as the preambl to the attorney gen s reg mak clear the audit log be design to satisfy the statut requir of ens the priv and sec of the nic and the prop op of the system sixtythree feed reg fiftyeight thousand  three hundr and three on thousand  nin hundr and ninetyeight by audit the system the govern can ident inst in which the nic be us for unauth purpos such as run check of peopl oth than act gun transf and protect against the invas of priv that would result from such misus ibid the nee for such protect be particul gre giv the confid and valu inform the system provid as the attorney gen explain audit the us of the nic be ess to safeguard the sec and priv of person inform in the system the nic wil perform background check that access a tremend amount of crimin hist ment heal milit background and oth inform about individ without the capac to audit the us of the system ther wil be no way of determin wheth ar request check for purpos oth than check on the background of a prospect gun purchas many busy and individ would be very interest in hav easy access to thes govern databas through ffls to do employ or oth unauth check sixtyfour feed reg ten thousand  two hundr and sixtytwo ten thousand  two hundr and sixtythree on thousand  nin hundr and ninetynine the audit log moreov help ens that inform provid by the system be acc sixtythree feed reg at fiv bil  eight hundr and thirty mil  three hundr and fiftyeight thousand  three hundr and four decid to allow a firearm purchas ar not ful autom and thu requir off to review and evalu record bef mak a decid see ca ap on hundr and ten review of decid mad by nic examin be necess to ens that the respons individ mak correct decid on wheth a transf be permiss and to en superv to provid addit train wher necess see id at on hundr and ten thousand  on hundr and elev sixtythree feed reg at fiv bil  eight hundr and thirty mil  three hundr and fiftyeight thousand  three hundr and four audit can also help determin wheth pot handgun purchas or ffls hav stol the id of innoc and unsuspect individ or otherw submit fals id inform in ord to thwart the nam check system sixtythree feed reg at fiv bil  eight hundr and thirty mil  three hundr and fiftyeight thousand  three hundr and four fin audit ar vit to ens that the system includ it softw be work prop from a techn standpoint see twentyeight cfr two hundr and fiftynine b two ca ap on hundr and sev thousand  on hundr and eight the fbi have estim that ninetyeight of system inquiry result in approv of firearm transact ca ap on hundr and twelv see also id at on hundr and nin as the court of ap recogn congress hav direct the attorney gen to est a system for prev disqual person from purchas firearm would expect the attorney gen to ens that the system produc acc inform and guard against misus pet ap 32a consist with thos limit goal the attorney gen s reg provid that the audit log can be us on to satisfy the statut requir of ens the priv and sec of the nic and the prop op of the system sixtythree feed reg at fiftyeight thousand  three hundr and three see also sixtysix feed reg six thousand  four hundr and seventy six thousand  four hundr and seventyone two thousand and on the temp retain inform on approv firearm transf be us on for purpos rel to discov misus or avoid of the system or ens the prop op of the system the attorney gen moreov be commit to reduc the ret period to the shortest pract period of tim less than six month that wil allow bas sec audit of the nic sixtythree feed reg at fiftyeight thousand  three hundr and four in janu two thousand and on the attorney gen promulg an amend that abs furth mod would short the ret period to nin day sixtysix feed reg at six thousand  four hundr and seventy six thousand  four hundr and seventyfour that chang be origin to tak effect on march fiv two thousand and on id at six thousand  four hundr and seventyone and be cur schedule to tak effect on july three two thousand and on sixtysix feed reg twentytwo thousand  eight hundr and ninetyeight two thousand and on two petit contend that the attorney gen s audit log reg ar inconsist with the text of the brady act pet eight hundr and eighteen that claim lack merit and be prop reject by the court of ap a petit first assert that the audit log reg conflict with sect on hundr and three i of the brady act on hundr and sev stat on thousand  fiv hundr and fortytwo petit argu process from the prem that sect on hundr and three i on by it term prohibit any nic record of an allow transf from be record at or transfer to a govern facil pet nin howev as the court of ap recogn pet ap 16a that be not what sect on hundr and three i on say sect on hundr and three i doe not prohibit the govern or it ag from record nic record at a govern facil it bar the govern and it ag from requir that any record or port thereof gen by the system be record at or transfer to such a facil on hundr and sev stat on thousand  fiv hundr and fortytwo emphas ad in light of congress s us of the word requir the attorney gen could prop understand sect on hundr and three i on as address what the attorney gen and oth govern off or ag may requir third party to do with record gen by the nic see pet ap 16a see also sixtysix feed reg at six thousand  four hundr and seventythree in oth word the provid prohibit the attorney gen from impos addit report requir on firearm deal requir that could be us to cent the record of deal and est a feed firearm reg petit propos construct of sect on hundr and three i on by contrast effect exc the word requir from sect on hundr and three i on if the statut have be design to bar the govern and it ag from retain certain record presum it would hav prohibit the govern and it ag from record nic record at or transfer them to govern facil it would not hav bar the govern and it ag from requir that record be record at or transfer to such facil it be of cours inappropry to adopt a construct of a statut that rend on of it term superflu see unit stat v alask fiv hundr and twentyone yo on fiftynine on thousand  nin hundr and ninetyseven the court wil avoid an interpret of a statut that rend som word altogeth redund intern quot mark omit unit stat v menasch three hundr and fortyeight yo fiv hundr and twentyeight fiv hundr and thirtyeight thousand  fiv hundr and thirtynine on thousand  nin hundr and fiftyfive court must giv effect to every claus and word of a statut mosk v unit stat four hundr and ninetyeight yo on hundr and three on hundr and nin thousand  on hundr and ten on thousand  nin hundr and nin simil two petit construct moreov would plac sect on hundr and three i on in conflict with oth provid of the brady act as the court of ap explain petap 15a16a sect on hundr and three i on s prohibit extend without exceptionto any record or port thereof gen by the nic consequ if petit construct wer correct sect on hundr and three i on would bar the govern from record any nicsg record such a prohibit would conflict with the brady act s express recognit that the govern can record and perm retain certain nicsg record includ record rel to disapprov transact eighteen yousc nin hundr and twentytwo t two on thousand  nin hundr and ninetyfour sup v on thousand  nin hundr and ninetynine and the transact numb and dat of approv transf eighteen yousc nin hundr and twentytwo t two on thousand  nin hundr and ninetyfour sup v on thousand  nin hundr and ninetynine on hundr and sev stat on thousand  fiv hundr and fortytwo recogn that conflict petit argu that the court of ap should hav harmon sect on hundr and three i on with the rest of the statut by in effect jud transpl exceiv into sect on hundr and three i on notwithstand the fact that thos exceiv do not appear in sect on hundr and three i on itself pet elev such jud surgery to statut text howev can not be just und the guis of harmon otherw conflict statut provid wher as her an altern construct elimin the conflict among the statut provid whil giv effect to each word and phrase in the statute3 b altern petit contend pet on thousand  three hundr and fifteen that the attorney gen s audit log reg viol sect on hundr and three i two of the brady act on hundr and sev stat on thousand  fiv hundr and fortytwo sect on hundr and three i two provid that nic record may not be us by feed depart ag off or employ to est any system for the reg of firearm firearm own or firearm transact or disposit exceiv with respect to person prohibit by sect nin hundr and twentytwo g or n of titl eighteen unit stat cod or stat law from receiv a firearm the attorney gen s audit log howev be not a reg system to the cont the reg express provid that he nic includ the nic audit log may not be us by any depart ag off or employ of the unit stat to est any system for the reg of firearm firearm own or firearm transact or disposit twentyeight cfr two hundr and fiftynine b two the inform contain in the audit log moreov can not be ready transform into a feed firearm reg as the court of ap explain pet ap 18a the audit log includ no address of person approv to buy firearm nor any inform on spec weapon nor ev wheth approv gun purchas act complet a transact the cont of the audit log ar routin purg and nev contain inform on mor than six month of propos transact ibid thu unlik the reg of machin gun est und the nat firearm act comprehend list of person entitl to possess machin gun and certain oth firearm see twentysix yousc 5841the audit log repres on a tiny fract of the univers of firearm own pet ap 18a fin unlik the machin gun reg the audit log may be us on for the purpos of monit the us and perform of the nic itself twentyeight cfr two hundr and fiftynine b two three the court of ap also correct reject petit cont pet on thousand  eight hundr and twentytwo that eighteen yousc nin hundr and twentytwo t two requir the immedy destruct of nic record concern allow firearm transf see pet ap 8a12a sect nin hundr and twentytwo t two doe requir that nic record on allow transf exceiv the transact numb and dat be destroy but it be sil as to the tim of that destruct the requir of immedy destruct that petit insist on doe not appear in the statut itself accord the attorney gen reason conclud that the act permit the destruct of nic record aft a brief period wher that brief ret period help ens that the nic system be work prop and be us law as the court of ap observ congress hav direct the attorney gen to est a system for prev disqual person from purchas firearm would expect the attorney gen to ens that the system produc acc inform and guard against misus id at 32a the audit log regulationsby spec a ret period that be the minim reason period for perform audit the system to ens acc and detect privacyinvad misus consist with both that expect and the statut mand of record destruct sixtythree feed reg at fiftyeight thousand  three hundr and four the valid of the attorney gen s interpret be undersc by the fact that congress have rep both bef and aft pass of the brady act declin to impos an immedy destruct requir see pet ap 10a12a as the court of ap observ congress s fail to retain the immedy destruct requir that appear in the hous vert of the brady act strongly support the conclud that congress s int be at least ambigu id at 11a congress know how to mand immedy destructionby plac the word immedy bef destroy in statut textand the hous vert of the brady act do so but the statut that congress act enact and that the presid sign into law in comply with the requir artic i sect sev claus two of the constitut do not includ that langu congress moreov rep have reject effort to reinsert immedy destruct or nearimmedy destruct requir aft the act s pass includ aft the attorney gen s promulg of the audit log reg see id at 10a12a that too be consist with the court of ap conclud that ther be no unambigu congress int to requir immedy destruct of nic record id at 12a4 cont to petit cont pet twenty an interim provid of the brady act requir that record of approv transact be destroy within twenty day eighteen yousc nin hundr and twentytwo s six b i doe not undermin the valid of the attorney gen s audit log reg the interim provid govern background check perform bef the est of the autom nic the audit log be cre to protect the sec of the new autom system and ens it prop op to the ext the form 20day deadlin be relev at al it prov that congress know how to includ express deadlin for record destruct but do not do so her nor do congress otherw foreclos the attorney gen from est an audit log to ens that the autom nic be funct prop and be not subject to misus four fin petit argu pet two thousand  six hundr and thirty that the court of ap should not hav rely on the tradit twostep analys of chevron yous int v nat resourc defens council int four hundr and sixtyseven yo eight hundr and thirtyseven on thousand  nin hundr and eightyfour instead petit contend the court of ap should hav rely on thi court s decid in food drug admin v brown williamson tobacco corp fiv hundr and twentynine yo on hundr and twenty two thousand that argu be without merit as an init mat in brown williamson thi court itself apply the tradit twostep approach of chevron becaus thi cas involv an admin ag s construct of a statut that it admin the court explain our analys be govern by chevron id at on hundr and thirtytwo apply the first step of chevron the court determin that congress in fact have spok to the quest ther which be wheth the fda have auth to reg tobacco car canvas the polit hist of tobacco the court conclud that congress s act ov the prevy thirtyfive year preclud an interpret of the food drug and cosmet act that grant the fda jurisdict to reg tobacco produc id at on hundr and fiftyfive the court take car not that throughout most of the fda s hist the fda have disavow any auth to reg tobacco the court conclud that congress by pass a host of tobaccospec law follow the fda s disavow and by act to preclud any ag from exerc reg control ov tobacco have effect rat the fda s prevy posit that it lack jurisdict to reg tobacco id at on hundr and fiftysix to be sur the court in brown williamson also observ that it inquiry into wheth congress have spok direct to the issu be shap at least in som meas by the nat of the quest pres fiv hundr and twentynine yo at on hundr and fiftynine in extraordin cas the court explain ther may be reason to hesit bef conclud that congress have intend an implicit deleg of pow to reg a certain seg of the econom ibid in the context of tobacco the court explain the un polit hist of the produc the distinct reg scheme govern it congress s rep reject of propos to allow the fda to reg tobacco and congress s rep act to preclud reg of tobacco al provid reason to hesit ow to it un plac in be hist and socy tobacco have it own un polit hist congress for bet or for wors have cre a distinct reg scheme for tobacco produc squ reject propos to giv the fda jurisdict ov tobacco and rep act to preclud any ag from exerc sign policymak auth in the be giv thi hist and the bread of the auth that the fda have assert we ar oblig to def not to the expand construct of the statut but to congress consist judg to deny the fda thi pow id at on hundr and fiftynine thousand  on hundr and sixty brown williamson as the abov describ attest have no apply here5 thi be not an extraordin cas in which the ag for the prevy thirtyfive year disavow pow to reg a particul produc und the statut provid at issu it be not a cas in which congress effect rat the ag s disavow in which congress rep reject propos that would hav empow the ag to reg or in which congress adopt propos that cre a distinct reg regim for the produc at issu on to hav the ag lat chang it view instead thi be a cas in which congress explicit deleg to the attorney gen auth to cre a nat inst crimin background check system ord the attorney gen to promulg reg to safeguard that system and reject statut langu that would hav preclud or overturn the reg that petit now challenge6 becaus noth in the act bar the attorney gen from promulg the reg at issu her the court of ap do not er in uphold them conclud the petit for a writ of certiorar should be deny respect submit barbar d underwood act solicit gen stuart e schiffer act assist attorney gen mark b stern michael s raab attorney may two thousand and on on wher the inform in the audit log be nee to pursu cas of ident misus of the system the dat may be retain and us as necess to bring the mat to resolv twentyeight cfr two hundr and fiftynine b two two petit contend that the attorney gen s construct of the word requir be noth mor than an ag s conveny litig posit pet twelv cit bow v georgetown un hosp four hundr and eightyeight yo two hundr and four two hundr and twelv thousand  two hundr and thirteen on thousand  nin hundr and eightyeight ev if that wer tru it be irrelev the court of ap accord the attorney gen no def in determin wheth or not the statut direct spok to that issu see pet ap 16a e ow no def to the attorney gen s interpret of statut langu at thi stag of chevron analys three to the ext petit suggest pet twelv that the court of ap decid conflict with nat rifl assn v brady nin hundr and fourteen f2d four hundr and seventyfive four hundr and eightythree thousand  four hundr and eightyfour 4th cir on thousand  nin hundr and nin cert deny four hundr and ninetynine yo nin hundr and fiftynine on thousand  nin hundr and ninetyone that claim be without merit in that cas the court of ap uphold certain reg promulg by the bureau of alcohol tobacco and firearm und the firearm own protect act pub l no ninetynine thousand  three hundr and eight eighteen yousc nin hundr and twentyone et seq but reject two requir as inconsist with the statut on of the statut provid at issu ther eighteen yousc nin hundr and twentythree c provid for certain recordkeep requir but spec decl that no oth recordkeep shal be requir nin hundr and fourteen f2d at four hundr and eightythree in light of that express prohibit and oth statut provid the court of ap invalid reg recordkeep requir that in the court s view wer not contempl by the statut id at four hundr and eightythree thousand  four hundr and eightyfour her howev the statut doe not express preclud the ag from retain nicsg record to the cont as explain abov it spec contempl that certain record wil be retain moreov as also explain abov the statut by it term mer bar the govern from requir oth to retain record in that respect the nra cas support the court of ap construct of the statut in both thi cas and that on congress be concern with the inform the ag might requir oth to record four for that reason petit er in rely pet two thousand  four hundr and twentyfive on sect six hundr and twentyone of the omnib consolid and emerg suppl appropry act of on thousand  nin hundr and ninetynine ocesa pub l no on hundr and fiv thousand  two hundr and seventyseven on hundr and twelv stat two mil  six hundr and eightyone thousand  on hundr and sixteen sect six hundr and twentyone prohibit the us of appropry fund for any system to impl eighteen yousc nin hundr and twentytwo t that doe not requir and result in the destruct of any ident inform submit by or on behalf of any person who have be determin not to be prohibit from own a firearm ocesa six hundr and twentyone two on hundr and twelv stat two mil  six hundr and eightyone thousand  on hundr and sixteen see also act of decemb twentyone two thousand pub l no on hundr and six thousand  fiv hundr and fiftythree appendix bhr fiv thousand  fiv hundr and fortyeight six hundr and eighteen on hundr and fourteen stat 2762a252 but that provid lik eighteen yousc nin hundr and twentytwo t doe not spec when destruct of the ref record must tak plac see pet ap 11a as the court of ap not congress consid but do not enact an appropry rid that would hav condit nic fund on the immedy destruct of al inform rel to person elig to possess firearm ibid quot on hundr and fortyfour cong rec s8680 dai ed july twentyone on thousand  nin hundr and ninetyeight fiv in addit it be far from clear that any quest concern the appl of brown williamson be prop pres by thi cas petit rely on brown williamson for the proposit that chevron def be inappropry on most of the issu petit rais howev the court of ap accord the ag no def see pet ap 16a not three supr six much of petit effort to rend thi cas extraordin rest on the fals prem that the audit log be a system for gun reg see pet on thousand  six hundr and seventeen as show abov it be not see pp on thousand  six hundr and seventeen supr petit moreov blink real when they assert that iv the alway vis and sometim ranco deb on firearm issu the attorney gen s abl to retain an audit log be hard a detail that congress would hav implicit deleg to the ag pet two thousand  sev hundr and twentyeight cont to petit assum it be sometim prec wher congress can not itself resolv an issu rel to the admin of a new systemwheth becaus of rant or insufficy factsth congress declin to speak to the quest and instead deleg to an ag the respons of fil the statut gap in light of it expert and expery wheth and to what ext the attorney gen may nee to retain a temp audit log to ens system integr be prec the sort of issu on might expect congress to leav to the attorney gen for resolv fbi gun check ful of glitch the system to spee up background check on gun buy be launch thi week with gre expect that it would mak firearm purchas near inst whil rely keep gun from dang crimin instead rick fitzpatrick own of a gun stor in nix mo find that when he beg us the comput fbi instantcheck system al he get be a busy sign so many custom becam feed up with wait that in two or three day he say he lose twenty to twentyfive custom near his entir clientel for that period that be a lot of busy fitzpatrick say the real sad thing be they have fiv year to put in plac a system that work to me they do not car wheth the system work or not fitzpatrick s account be echo by gun deal and custom across the country though the system s perform seem to improv by midweek the glitch highlight the deep crit of the instantcheck conceiv from both camp in the guncontrol deb on monday the first day of op a malfunct telephon system at the fbi keep switch cal to a busy sign leav thousand of wouldb buy and sel strand dur thi busy gunpurchas season techn glitch forc the system to shut down for nin minut monday and anoth twenty minut tuesday the fbi s custom serv lin meanwhil receiv twenty thousand cal from angry or perplex cal on the first day alon atty gen janet reno acknowledg the problem it be have som startup difficul but they ar work around the clock and i think they ar start to solv them she say wednesday fbi spokesm paul bresson also prom improv with tim we wil see that it run smooth and the on peopl who wil be frust with the system wil be crimin and oth who ar prohibit by law from buy gun despit the glitch the new setup be plow along in the first three day the system receiv seventythree thousand  fiv hundr and eightytwo cal about sixtyfive perc of the purchas sail right through the fbi say whil rough fiv perc wer deny and the rest giv a delay respons giv the fbi three day to mak addit check aft three day with no respons from the fbi deal ar allow to complet the sal it be fiv year ago that the brady bil be sign into law requir al firearm deal to check wheth every wouldb buy have a crimin record or oth disq such as ment il to plac gun enthusiast who fear a riv of red tap and endless delay brady support agree to an inst comput system fiv year lat novemb thirty on thousand  nin hundr and ninetyeight the just depart predict the new system would tak less than two minut for most purchas but now that the nat inst check system or nic be in op no on appear to be satisfy the nat rifl assocy sue reno thi week ov the way her depart be impl the system the nra charg that the just depart be viol the law by keep a list of the gun buy who go through the system the brady law the lawsuit not spec ord the depart and the fbi to destroy al record of lawabid gun buy nra lead warn thi week that such recordkeep reek of big broth govern and policest tact it be anathem to our system of govern to stand id by whil a feed pol forc illeg compil a databas of cit who ar demonst lawabid say nra chief lobby jam jay bak just depart off say they ar keep the nam on brief for audit purpos bef destroy the record we ar confid that our policy of keep the record for a very limit tim be ful consist with feed law say greg king a just depart spokesm som gun group complain that the not of background check viol the constitut becaus the right to bear arm can not be comprom we should hav a bump stick that say nix nic say lawr prat execut direct of gun own of americ refer to the system s off acronym we ar convert a right into a privileg say you hav to get permit to exerc yo 2nd amend right it be lik a hav to go through a govern background check to be a journ howev guncontrol advoc say the crimin record in many part of the country ar abysm incomplet so a sign numb of felon may go undetect by the inst system the new system rely on a vast databas of al arrest maintain by the fbi at it hightech cent in clarksburg wva as wel as stat record but thes record ar spotty espec when it com to fig out if someon be ultim convict or acquit the record of an estim onethird of al felony across the nat ar unrely or not comput ther wil be thos who ar not auth to buy gun who wil be abl to do so predict kent mark a form just depart off who be instru in develop the system what most concern guncontrol advoc be that becaus the new system be inst if a buy s arrest be not catch immedy he get the gun without delay the way the brady system have work until now pol have fiv day to check out a wouldb purchas it gav pol tim to conduc a thorough background check say dan kotowsk execut direct of the illino council against handgun viol the spin com out on thi nat be that now gun own wil hav to deal with instacheck and it be so on when in fact if noth com up inst on a dang person you and i hav a problem on our hand support not that if the instantcheck system flag a problem in someon s past that requir furth investig pol get three day to check it out illino be larg unaffect by chang in nat gun rul becaus the stat s system be far tough than anyth on the feed level on massachuset have a guncontrol system with a strictness that approach that of illino a wouldb gun own in illino must apply for a firearm own s id card that can tak thirty day to be approv an act purchas requir an addit wait period seventytwo hour for a handgun and twentyfour hour for a long gun suspect ter and gun the mass shoot in orlando by a man who pledg allegy to the ter islam stat have reignit a deb in washington ov suspect ter access to gun in the yo but we find fault with som of the claim mad by both sid in the deb a republ sen say know or suspect ter can not just walk in and buy a firearm at a gun stor not that sam day but ninetyone perc of individ on ter watch list who hav attempt to buy a firearm or explod sint two thousand and four wer abl to complet the sal typ in three day yo attorney gen lorett lynch declin twic to say how many be ar on ter watch list claim we do not provid thos exact numb or ev a ring that be fals feed off hav tell congress that the numb of yo cit and leg resid on watch list cur ring from fiv thousand to fifteen thousand donald trump say a florid gun stor own report om mateen to the fbi week bef the orlando shoot when mateen attempt to buy body arm and bulk ammunit but that auth do not act on it a gun stor do report the suspicy act but be un to provid the fbi with his nam or oth inform about him gun sal to suspect ter in decemb the sen def an amend off by democr sen dian feinstein of californ that would hav allow the attorney gen to block the sal of weapon or explod to individ on ter databas if the attorney gen have reason to believ that the weapon would be us in connect with ter but the mass shoot in orlando by om mateen in the nam of the ter islam stat have reop that deb aft the orlando shoot sen chris murph of connecticut spok on the sen flo for near fifteen hour in an attempt to get the sen to tak up guncontrol legisl includ a rev vert of the feinstein amend langu be ad to the feinstein amend to includ anyon who have be the subject of a feed ter investig in the past fiv year that be becaus the fbi investig mateen for ter tie in two thousand and thirteen and two thousand and fourteen but clos thos investig without tak act mateen purchas the gun us in the attack in jun the sen be expect to tak up feinstein s amend jun twenty dur it consid of the an appropry bil for the depart of just and oth rel ag on jun sixteen cnn s wolf blitz interview sen jam lankford who vot against feinstein s amend last year wolf ask lankford of oklahom if he would vot for legisl that would prev thos on the ter watch list from get a gun lankford say know or suspect ter can not just walk in and buy a firearm at a gun stor lankford jun sixteen if someon be know or suspect as a ter they can not just walk in and buy a firearm they hav a long wait period that act kick in that the system itself wil kick them out the fbi be ping on that and they get som opt to be abl to deal with so it be already cur law so ther be a lot of pushback to say al thes know ter can just walk in and buy a gun at a gun stor that be not correct they ar already hold back and already can not walk in and buy a gun in a gun stor right now lankford s respons be mislead the fbi have limit opt in deal with individ on a ter watch list who want to buy a weapon or explod and whil the sal or transf may not hap immedy it can hap aft seventytwo hour her s how the nat inst crimin background check system work a prospect gun buy who tri to buy a gun from a licens firearm deal fil out an apply that be check against a vary of databas to determin if the appl be leg permit to buy a gun thos databas contain crimin record and court record such as war and protect ord as wel as immigr and nat record if the appl be not a yo cit an fbi spokesm tell us that a weapon sal or transf can be approv in less than an hour if the background search turn up no evid that the appl be prohibit from own a gun but if the nam of the appl match any of thos in the databas then the gun purchas can be delay for up to seventytwo hour giv nic examin at an fbi off in west virgin tim to review the cas and determin if the person be indee prohibit from purchas a weapon an apply can be deny for exampl if the person be a convict felon or fugit or if the person be liv in the yo illeg or have be convict of a domest viol offens in febru two thousand and four the depart of just beg check prospect gun buy against what the fbi cal the know or suspect ter fil which includ the ter screen databas common refer to as the fbi s ter watch list as explain in a may two thousand and thirteen report by the nonpart congress research serv a match in the ter databas trig an autom 72hour delay ev if ther ar no oth socal prohibit fact it may be for exampl that the fbi have disqual inform on that individ that be not ent in the nic databas crs may on two thousand and thirteen dur a delay nic staff contact immedy the fbi headquart counterter divid and fbi spec ag in the field and a coordin effort be mad to research poss unknown prohibit fact if no prohibit fact ar uncov within thi threeday period firearm deal may process with the transact at their discret howev fbi counterter off continu to work the cas for up to nin day in cas disposit inform be return that permit a fin determin so lankford be correct that the fbi be ping whenev an individ on a ter watch list tri to buy a gun but the sal can process aft three day and that be exact what have hap in the vast maj of cas as we ment ear sint the nat inst crimin background check system beg check prospect gun buy against ter watch list record in febru two thousand and four individ on the ter watch list wer involv in firearm or explod background check two thousand  four hundr and seventyseven tim of which two thousand  two hundr and sixtyfive about ninetyone perc of the transact wer allow to process and two hundr and twelv wer deny accord to the nonpart govern account off see gao chart below for mor detail by law al ident inform about the buy in cas lik thi must be destroy in nin day exceiv for the transact numb and dat but the crs say it be unknown what hap to the inform gen by nicsrel ter watchl hit that ar pass on to the fbi counterter divid and investig personnel in the field it be poss that that inform be record and stor electron in the fbi s investig cas fil an fbi spokesm tell us that the fbi can op an investig if ther be prob becaus fbi guidelin say a prelimin investig may be op on the bas of any alleg or inform ind of poss crimin act or threats to the nat sec we tak no posit on feinstein s amend but lankford be not tel the whol story when he say that individ on a ter watch list can not just walk in and buy a firearm at a gun stor they can aft a threeday wait and nin out of ten of thos who hav tri hav don so https wwwsharethefactscosharedf085bfed1404c2293b5c9aa91fdd008 be on the ter watch list on abc s thi week yo attorney gen lorett lynch declin twic to say how many be ar on the ter watch list claim we do not provid thos exact numb or ev a ring that be fals feed off hav tell congress that the numb of yo person on ter watch list ring from fiv thousand to fifteen thousand lynch mad her remark when ask about feinstein s amend by thi week host jonath karl karl jun nineteen the just depart have com out in fav of thi ide of the nof nobuy if you ar on the ter watch list the nof list you should not be abl to buy a gun how many be ar on the ter watch list lynch you know we do not provid thos exact numb karl can you giv me a ring i mean what ar we talk about her lynch wel as i say we do not provid thos exact numb as we hav writ bef ther ar multipl databas that contain the nam of suspect or know ter the largest be the ter id datamart environ or tid the nat counterter cent maintain tid which the nonpart congress research serv in a two thousand and thirteen report refer to as the govern s cent reposit of intern ter and suspect ter the numb on that list stand at elev mil as of decemb two thousand and thirteen includ twentyfive thousand yo person that be cit and leg perm resid accord to an nctc fact sheet as of jun seventeen the tot numb of nam on the tid list have grow to fifteen mil nam although the numb of yo person shrink to few than fifteen thousand accord to feinstein s off the fbi s ter screen cent sep maintain the ter screen databas which be common refer to as the ter watchl the fbi tell feinstein s off that ther ar about on mil record in the tsdb and about fiv perc of thos or few than fiv thousand record ar of yo person the watch list includ about eightyone thousand nam on the socal nof list includ few than on thousand nam of yo person the sen s off say the dat wer obtain from the nat counterter cent nctc and the feed bureau of investig fbi to congress quest the nctc be within the off of the direct of nat intellig but the fbi s ter screen cent be in the depart head by lynch so lynch be wrong when she say we do not provid thos exact numb or ev a ring https wwwsharethefactscoshareb7ace6fb6deb458d820dd0273095d4de what gun stor report about mateen donald trump leave out import fact when he say a gun stor own report om mateen to the fbi week bef the orlando shoot due to suspicy behavy whil mateen be try to buy body arm and bulk ammunit but that auth do not act on it a gun stor do report the suspicy act but be un to provid the fbi with mateen s nam or oth inform about him and so the fbi say that due to a lack of inform it be un to conduc any mean investig follow up trump rais the issu on two sunday show on jun nineteen on inst cam on abc s thi week in an interview with jonath karl trump jun nineteen he be a bad dud i mean look wil somebody slip through ye you hav a problem you hav to report thes peopl and everybody know thi guy have a problem now in on cas they do report it i guess the gun stor own report him and the auth do not act on it what a sham karl so what doe that say to you trump it say very sad that be what it say i mean to me it say very sad but they act do report him and the auth do not act and i think it be very unus and i be a big fan of the fbi but they have a littl bite of a bad day trump reit the point in a cbs fac the nat interview with john dickerson dickerson jun nineteen what donald trump policy would hav keep thi from hap trump wel we hav to report look the big thing that we ar miss her be that peopl hav to report when they see somebody thi man be pretty much unh i mean you look at his record you look at what hap and act i guess it be the gun stor that do report and report him when he go in to buy al sort of body arm and oth thing he report him to the auth law enforc and it very sad noth be don dickerson but the trump it could hav be prev he be excel in what he do but unfortun nobody take adv of it in a jun sixteen interview on abc new robert abel a coown of lot gunwork in jens beach florid say a man lat ident as orlando nightclub shoot mateen cam into his stor sev week bef the mass shoot and attempt to buy highgrad body arm and mor than on thousand round of ammunit abel say a stor salesm find mateen s behavy very suspicy due to od quest about the body arm which the stor do not carry and a subsequ cel phon convers mateen hold in a foreign langu the salesm deny mateen s request for ammunit abel say he want bulk ammunit on and aft mateen leave the stor cal the loc fbi off in west palm beach and report the incid someth in his gut tell him it be wrong abel say of the employ accord to a new york tim report but abel say they wer not abl to provid mateen s nam becaus no sal be mad and the surveil foot they have be grainy abc new report we have no link no contact do not know who he be abel say but we do contact auth and let them know we just have a suspicy person that be in her abel say ther be a followup convers with ag but he say the fbi nev visit the stor or investig furth abc new report accord to a stat from the fbi on jun seventeen the stor op wer un to collect any inform about him to includ nam dat of bir charg card telephon inform or email address unfortun giv the lack of inform about thi individ fbi ag wer un to conduc any mean investig follow up the fbi stat say abel say it be not until aft the dead attack in the orlando nightclub that a stor employ recogn that the man who have ent the stor that day be mateen and her s a prim exampl of try to do the right thing and we get so clos to it abel say but unfortun he slip through the crack and thi be wher we ar at on abc s thi week karl ask yo attorney gen lynch if the fbi do enough to followup on the gun stor s tip lynch say that becaus mateen do not mak a purchas ther be no record ther be no ident inform but do provid that inform and that be exact what he be suppos to hav don and we apprecy that karl then ask if the fbi do anyth with that inform wel lynch say at the tim ther be no ident inform on that and in fact it be not until thes trag ev of last weekend that the gun shop own real oh my good that be the man that cam in and in fact provid that inform that allow us to connect thos dot https wwwsharethefactscoshare5de0817a5b33458ca1457f5065f43e72 gun law loophol allow immedy delivery no background check arm priv own can sel their weapon leg anytim to anyon show ar a common sal venu priv gun own can and do sel their weapon leg to anyon no quest ask no background check no reg and no coolingoff period the brady meas and most supers stat law hav a loophol larg enough to sneak a crat of 9millimeter pistol through becaus they apply on to licens deal but at least they dict that al handgun sal be reg then they must requir a govern background check on al buy miam the brady law and simil gun control on stat book mand a coolingoff period bef anyon can buy a handgun right the gun in thi socal second market ar oft sell through class ad but an increas popul outlet be the gun show wher licens deal and priv own oft compet sid by sid easy mil of gun sal can be transact at gun show say jack killorin a spokesm for the bureau of alcohol tobacco and firearm in washington atf estim that be own two hundr mil gun of al kind includ sixtyseven mil handgun licens gun shop sell seventyfive mil gun last year at a ft lauderd show thi mon a wom who giv her nam on as kar display a us colt 38caliber pol spec next to a sign priv sal on hundr and ninetyfive no form no wait period the colt sal be leg she say becaus the gun be her atf say that kar be correct no law prev a priv cit from sel handgun to anyon who answ an ad or walk into a gun show and no clearcut definit sep priv sel from licens deal such as earn or numb of gun sell gen the atf say it requir licens if gun sel ar run a regul profitmak busy thes show hav get as common as gar sal and al thi be a problem for us killorin say it be know that gun hav mov out of thes show into crimin hand texa and florid ar particul worrisom he say becaus they off frequ gun show rel lax law and eas of transit for outofst buy david koresh s branch david cult build up it ars with purchas from texa gun show he not in texa tradit our ag ind that a lot of peopl slide up from mexico and buy at gun show wher ther ar few quest ask killorin say miam atf spokesm bruc snyd say a on thousand  nin hundr and nin coup attempt in the carib island nat of trinidad and tobago be arm through purchas at florid gun show resid of northeastern stat with tough gun control law buy many of the pistol sell leg at florid gun show but neith atf nor stat and loc pol ag can patrol the show routin ther ar simply too many killorin say that leav the show op not on to leg priv sel but also to arm deal who abus the law by claim to sel priv gun collect gun show gun show ar wid attend by be interest in firearm for defend purpos hunt sport recr and hist sign in the 1990s gun control support beg claim that crimin wer common acquir gun at show howev study by the feed govern hav rep show that less than on perc of stat prison inm incarc for gun crim acquir their gun at show whil most acquir gun through theft on the black market or from famy memb or friend in the sam period gun control support beg push feed legisl to requir background check on the rel smal numb of peopl at show who buy gun from peopl who ar not deal now they demand a background check for any sal trad gift or oth transf of any firearm anywh to anyonein som cas includ famy memb or friend nra oppos expand of the background check system becaus crimin easy get gun by oth mean and becaus expand the background check requir would be a step toward transform the background check system into a nat gun reg\n"
          ],
          "name": "stdout"
        }
      ]
    },
    {
      "cell_type": "markdown",
      "metadata": {
        "id": "S3tdQdMLcFuG",
        "colab_type": "text"
      },
      "source": [
        "# KERAS to try the word embedding method\n",
        "- [ ] separate them into proper functions\n",
        "- [ ] try to use the FC and fit_transform of SKLEARN TFIDF"
      ]
    },
    {
      "cell_type": "code",
      "metadata": {
        "id": "WN7BdkbM41H-",
        "colab_type": "code",
        "colab": {}
      },
      "source": [
        "from keras import backend as K\n",
        "\n",
        "def recall_m(y_true, y_pred):\n",
        "        true_positives = K.sum(K.round(K.clip(y_true * y_pred, 0, 1)))\n",
        "        possible_positives = K.sum(K.round(K.clip(y_true, 0, 1)))\n",
        "        recall = true_positives / (possible_positives + K.epsilon())\n",
        "        return recall\n",
        "\n",
        "def precision_m(y_true, y_pred):\n",
        "        true_positives = K.sum(K.round(K.clip(y_true * y_pred, 0, 1)))\n",
        "        predicted_positives = K.sum(K.round(K.clip(y_pred, 0, 1)))\n",
        "        precision = true_positives / (predicted_positives + K.epsilon())\n",
        "        return precision\n",
        "\n",
        "def f1_m(y_true, y_pred):\n",
        "    precision = precision_m(y_true, y_pred)\n",
        "    recall = recall_m(y_true, y_pred)\n",
        "    return 2*((precision*recall)/(precision+recall+K.epsilon()))"
      ],
      "execution_count": 0,
      "outputs": []
    },
    {
      "cell_type": "code",
      "metadata": {
        "id": "JOh6gDWEcEN9",
        "colab_type": "code",
        "outputId": "a7865feb-52f5-4620-9c53-b3ec18f11259",
        "colab": {
          "base_uri": "https://localhost:8080/",
          "height": 561
        }
      },
      "source": [
        "from numpy import array\n",
        "from numpy import asarray\n",
        "from numpy import zeros\n",
        "from keras.preprocessing.text import Tokenizer\n",
        "from keras.preprocessing.sequence import pad_sequences\n",
        "from keras.models import Sequential\n",
        "from keras.layers import Dense\n",
        "from keras.layers import Flatten\n",
        "from keras.layers import Embedding\n",
        "import pandas as pd\n",
        "import os\n",
        "\n",
        "data = pd.read_pickle(os.path.join(MY_HOME, \"nlp/preprocessed_training_dataframe.pkl\"))\n",
        "# define documents\n",
        "docs = data['X'][0:12000]\n",
        "# define class labels\n",
        "labels = data['label'][0:12000]\n",
        "print(labels)\n",
        "# convert labels to onehot\n",
        "labels = one_hot(labels, 3)\n",
        "# prepare tokenizer\n",
        "t = Tokenizer()\n",
        "t.fit_on_texts(docs)\n",
        "vocab_size = len(t.word_index) + 1\n",
        "# integer encode the documents\n",
        "encoded_docs = t.texts_to_sequences(docs)\n",
        "# pad documents to a max length of 300 words\n",
        "max_length = 20\n",
        "padded_docs = pad_sequences(encoded_docs, maxlen=max_length, padding='post', truncating='post')\n",
        "# load the whole embedding into memory\n",
        "embeddings_index = dict()\n",
        "f = open(os.path.join(MY_HOME, 'nlp/glove.6B.50d.txt'))\n",
        "for line in f:\n",
        "\tvalues = line.split()\n",
        "\tword = values[0]\n",
        "\tcoefs = asarray(values[1:], dtype='float32')\n",
        "\tembeddings_index[word] = coefs\n",
        "f.close()\n",
        "print('Loaded %s word vectors.' % len(embeddings_index))\n",
        "# create a weight matrix for words in training docs\n",
        "embedding_matrix = zeros((vocab_size, 50))\n",
        "for word, i in t.word_index.items():\n",
        "\tembedding_vector = embeddings_index.get(word)\n",
        "\tif embedding_vector is not None:\n",
        "\t\tembedding_matrix[i] = embedding_vector\n",
        "# define model\n",
        "model = Sequential()\n",
        "e = Embedding(vocab_size, 50, weights=[embedding_matrix], input_length=max_length, trainable=False)\n",
        "model.add(e)\n",
        "model.add(Flatten())\n",
        "model.add(Dense(32))\n",
        "model.add(Dense(3, activation='sigmoid'))\n",
        "# compile the model\n",
        "model.compile(optimizer='adam', loss='binary_crossentropy', metrics=['accuracy', f1_m,precision_m, recall_m])\n",
        "# summarize the model\n",
        "print(model.summary())\n",
        "# fit the model\n",
        "model.fit(padded_docs, labels, epochs=100, verbose=0)\n"
      ],
      "execution_count": 0,
      "outputs": [
        {
          "output_type": "stream",
          "text": [
            "id\n",
            "0        0\n",
            "1        2\n",
            "4        1\n",
            "5        2\n",
            "6        2\n",
            "        ..\n",
            "13211    2\n",
            "13212    0\n",
            "13213    1\n",
            "13214    1\n",
            "13215    0\n",
            "Name: label, Length: 12000, dtype: int64\n",
            "Loaded 400000 word vectors.\n",
            "Model: \"sequential_2\"\n",
            "_________________________________________________________________\n",
            "Layer (type)                 Output Shape              Param #   \n",
            "=================================================================\n",
            "embedding_2 (Embedding)      (None, 20, 50)            16058550  \n",
            "_________________________________________________________________\n",
            "flatten_2 (Flatten)          (None, 1000)              0         \n",
            "_________________________________________________________________\n",
            "dense_3 (Dense)              (None, 32)                32032     \n",
            "_________________________________________________________________\n",
            "dense_4 (Dense)              (None, 3)                 99        \n",
            "=================================================================\n",
            "Total params: 16,090,681\n",
            "Trainable params: 32,131\n",
            "Non-trainable params: 16,058,550\n",
            "_________________________________________________________________\n",
            "None\n"
          ],
          "name": "stdout"
        },
        {
          "output_type": "execute_result",
          "data": {
            "text/plain": [
              "<keras.callbacks.History at 0x7f7409034b00>"
            ]
          },
          "metadata": {
            "tags": []
          },
          "execution_count": 18
        }
      ]
    },
    {
      "cell_type": "code",
      "metadata": {
        "id": "ipOjvbfMcCyU",
        "colab_type": "code",
        "outputId": "486230f4-a7d8-41fd-9030-48b8a3682f42",
        "colab": {
          "base_uri": "https://localhost:8080/",
          "height": 272
        }
      },
      "source": [
        "# evaluate the model\n",
        "# define documents\n",
        "docs = data['X'][12000:15555]\n",
        "# define class labels\n",
        "labels = data['label'][12000:15555]\n",
        "print(labels)\n",
        "# convert labels to onehot\n",
        "labels = one_hot(labels, 3)\n",
        "# prepare tokenizer\n",
        "t = Tokenizer()\n",
        "t.fit_on_texts(docs)\n",
        "vocab_size = len(t.word_index) + 1\n",
        "# integer encode the documents\n",
        "encoded_docs = t.texts_to_sequences(docs)\n",
        "# pad documents to a max length of 4 words\n",
        "max_length = 20\n",
        "padded_docs = pad_sequences(encoded_docs, maxlen=max_length, padding='post')\n",
        "\n",
        "loss, accuracy, f1_score, precision, recall = model.evaluate(padded_docs, labels, verbose=0)\n",
        "print('Accuracy: %f' % (accuracy*100))\n",
        "print(\"f1_score, precision, recall\", f1_score, precision, recall)"
      ],
      "execution_count": 0,
      "outputs": [
        {
          "output_type": "stream",
          "text": [
            "id\n",
            "13216    1\n",
            "13217    0\n",
            "13218    1\n",
            "13219    2\n",
            "13220    0\n",
            "        ..\n",
            "17137    2\n",
            "17138    0\n",
            "17139    0\n",
            "17140    2\n",
            "17141    1\n",
            "Name: label, Length: 3555, dtype: int64\n",
            "Accuracy: 63.769340\n",
            "f1_score, precision, recall 0.36785523177199225 0.43943006579886007 0.3181434599156118\n"
          ],
          "name": "stdout"
        }
      ]
    },
    {
      "cell_type": "code",
      "metadata": {
        "id": "d6erWWMf4pGn",
        "colab_type": "code",
        "outputId": "2f847310-ac23-4134-9871-a895f3e9c98b",
        "colab": {
          "base_uri": "https://localhost:8080/",
          "height": 204
        }
      },
      "source": [
        "from sklearn.metrics import classification_report\n",
        "y_pred = model.predict_classes(padded_docs, batch_size=64, verbose=1)\n",
        "# y_pred_bool = np.argmax(y_pred, axis=1)\n",
        "\n",
        "print(classification_report(np.argmax(labels, axis=1), y_pred))"
      ],
      "execution_count": 0,
      "outputs": [
        {
          "output_type": "stream",
          "text": [
            "3555/3555 [==============================] - 0s 18us/step\n",
            "              precision    recall  f1-score   support\n",
            "\n",
            "           0       0.46      0.53      0.49      1638\n",
            "           1       0.43      0.45      0.44      1530\n",
            "           2       0.10      0.02      0.03       387\n",
            "\n",
            "    accuracy                           0.44      3555\n",
            "   macro avg       0.33      0.33      0.32      3555\n",
            "weighted avg       0.41      0.44      0.42      3555\n",
            "\n"
          ],
          "name": "stdout"
        }
      ]
    }
  ]
}